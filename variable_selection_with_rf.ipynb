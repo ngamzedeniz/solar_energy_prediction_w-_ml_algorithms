{
  "nbformat": 4,
  "nbformat_minor": 0,
  "metadata": {
    "kernelspec": {
      "display_name": "Python 3",
      "language": "python",
      "name": "python3"
    },
    "language_info": {
      "codemirror_mode": {
        "name": "ipython",
        "version": 3
      },
      "file_extension": ".py",
      "mimetype": "text/x-python",
      "name": "python",
      "nbconvert_exporter": "python",
      "pygments_lexer": "ipython3",
      "version": "3.8.5"
    },
    "colab": {
      "name": "variable_selection_with_rf.ipynb",
      "provenance": [],
      "collapsed_sections": [],
      "toc_visible": true
    }
  },
  "cells": [
    {
      "cell_type": "code",
      "metadata": {
        "colab": {
          "base_uri": "https://localhost:8080/"
        },
        "id": "Za9O1zdocNZK",
        "outputId": "c0b8c706-af3a-418b-ab2f-f45a37d26edc"
      },
      "source": [
        "from google.colab import drive\n",
        "drive.mount('/content/drive')"
      ],
      "execution_count": null,
      "outputs": [
        {
          "output_type": "stream",
          "text": [
            "Mounted at /content/drive\n"
          ],
          "name": "stdout"
        }
      ]
    },
    {
      "cell_type": "code",
      "metadata": {
        "id": "IEf4gYfccGwe"
      },
      "source": [
        "import pandas as pd\n",
        "import datetime\n",
        "\n",
        "data = pd.read_excel('daily.xlsx')"
      ],
      "execution_count": null,
      "outputs": []
    },
    {
      "cell_type": "code",
      "metadata": {
        "id": "uZzoqBMpcGwf"
      },
      "source": [
        "import numpy as np"
      ],
      "execution_count": null,
      "outputs": []
    },
    {
      "cell_type": "code",
      "metadata": {
        "colab": {
          "base_uri": "https://localhost:8080/",
          "height": 473
        },
        "id": "wZnw734LcGwg",
        "outputId": "adfb56f0-bccc-429f-cce8-c7006a37ae4c"
      },
      "source": [
        "data"
      ],
      "execution_count": null,
      "outputs": [
        {
          "output_type": "execute_result",
          "data": {
            "text/html": [
              "<div>\n",
              "<style scoped>\n",
              "    .dataframe tbody tr th:only-of-type {\n",
              "        vertical-align: middle;\n",
              "    }\n",
              "\n",
              "    .dataframe tbody tr th {\n",
              "        vertical-align: top;\n",
              "    }\n",
              "\n",
              "    .dataframe thead th {\n",
              "        text-align: right;\n",
              "    }\n",
              "</style>\n",
              "<table border=\"1\" class=\"dataframe\">\n",
              "  <thead>\n",
              "    <tr style=\"text-align: right;\">\n",
              "      <th></th>\n",
              "      <th>max_hum</th>\n",
              "      <th>wind_mag</th>\n",
              "      <th>temp</th>\n",
              "      <th>sun_dur</th>\n",
              "      <th>relative_hum</th>\n",
              "      <th>min_hum</th>\n",
              "      <th>dew_point</th>\n",
              "      <th>radiation</th>\n",
              "      <th>zenith_rad</th>\n",
              "      <th>zenith_deg</th>\n",
              "      <th>ws_rad</th>\n",
              "      <th>ws_deg</th>\n",
              "      <th>zenit açısı cos</th>\n",
              "      <th>max_temp</th>\n",
              "      <th>min_temp</th>\n",
              "      <th>max_sun_dur</th>\n",
              "      <th>min_sun_dur</th>\n",
              "    </tr>\n",
              "  </thead>\n",
              "  <tbody>\n",
              "    <tr>\n",
              "      <th>0</th>\n",
              "      <td>87.555556</td>\n",
              "      <td>0.722222</td>\n",
              "      <td>-3.255556</td>\n",
              "      <td>0.000000</td>\n",
              "      <td>86.444444</td>\n",
              "      <td>84.555556</td>\n",
              "      <td>-5.188889</td>\n",
              "      <td>1230.0</td>\n",
              "      <td>1.063910</td>\n",
              "      <td>60.957570</td>\n",
              "      <td>1.227680</td>\n",
              "      <td>70.340902</td>\n",
              "      <td>0.485457</td>\n",
              "      <td>-2.8</td>\n",
              "      <td>-3.8</td>\n",
              "      <td>0.0</td>\n",
              "      <td>0.0</td>\n",
              "    </tr>\n",
              "    <tr>\n",
              "      <th>1</th>\n",
              "      <td>60.111111</td>\n",
              "      <td>1.233333</td>\n",
              "      <td>-5.188889</td>\n",
              "      <td>0.855556</td>\n",
              "      <td>59.222222</td>\n",
              "      <td>54.111111</td>\n",
              "      <td>-14.444444</td>\n",
              "      <td>2030.0</td>\n",
              "      <td>1.065760</td>\n",
              "      <td>61.063570</td>\n",
              "      <td>1.229084</td>\n",
              "      <td>70.421349</td>\n",
              "      <td>0.483839</td>\n",
              "      <td>-4.0</td>\n",
              "      <td>-7.2</td>\n",
              "      <td>1.0</td>\n",
              "      <td>0.0</td>\n",
              "    </tr>\n",
              "    <tr>\n",
              "      <th>2</th>\n",
              "      <td>26.444444</td>\n",
              "      <td>0.500000</td>\n",
              "      <td>-3.500000</td>\n",
              "      <td>0.122222</td>\n",
              "      <td>26.111111</td>\n",
              "      <td>22.777778</td>\n",
              "      <td>-4.588889</td>\n",
              "      <td>1260.0</td>\n",
              "      <td>1.067765</td>\n",
              "      <td>61.178401</td>\n",
              "      <td>1.230603</td>\n",
              "      <td>70.508382</td>\n",
              "      <td>0.482084</td>\n",
              "      <td>-2.8</td>\n",
              "      <td>-5.2</td>\n",
              "      <td>0.6</td>\n",
              "      <td>0.0</td>\n",
              "    </tr>\n",
              "    <tr>\n",
              "      <th>3</th>\n",
              "      <td>70.555556</td>\n",
              "      <td>0.900000</td>\n",
              "      <td>-5.733333</td>\n",
              "      <td>0.111111</td>\n",
              "      <td>65.555556</td>\n",
              "      <td>60.444444</td>\n",
              "      <td>4.777778</td>\n",
              "      <td>2380.0</td>\n",
              "      <td>1.069922</td>\n",
              "      <td>61.302017</td>\n",
              "      <td>1.232236</td>\n",
              "      <td>70.601941</td>\n",
              "      <td>0.480193</td>\n",
              "      <td>-0.4</td>\n",
              "      <td>-11.9</td>\n",
              "      <td>0.6</td>\n",
              "      <td>0.0</td>\n",
              "    </tr>\n",
              "    <tr>\n",
              "      <th>4</th>\n",
              "      <td>33.333333</td>\n",
              "      <td>2.066667</td>\n",
              "      <td>6.366667</td>\n",
              "      <td>0.200000</td>\n",
              "      <td>30.333333</td>\n",
              "      <td>23.666667</td>\n",
              "      <td>2.644444</td>\n",
              "      <td>1340.0</td>\n",
              "      <td>1.072232</td>\n",
              "      <td>61.434368</td>\n",
              "      <td>1.233982</td>\n",
              "      <td>70.701959</td>\n",
              "      <td>0.478165</td>\n",
              "      <td>7.9</td>\n",
              "      <td>4.3</td>\n",
              "      <td>0.9</td>\n",
              "      <td>0.0</td>\n",
              "    </tr>\n",
              "    <tr>\n",
              "      <th>...</th>\n",
              "      <td>...</td>\n",
              "      <td>...</td>\n",
              "      <td>...</td>\n",
              "      <td>...</td>\n",
              "      <td>...</td>\n",
              "      <td>...</td>\n",
              "      <td>...</td>\n",
              "      <td>...</td>\n",
              "      <td>...</td>\n",
              "      <td>...</td>\n",
              "      <td>...</td>\n",
              "      <td>...</td>\n",
              "      <td>...</td>\n",
              "      <td>...</td>\n",
              "      <td>...</td>\n",
              "      <td>...</td>\n",
              "      <td>...</td>\n",
              "    </tr>\n",
              "    <tr>\n",
              "      <th>1090</th>\n",
              "      <td>80.888889</td>\n",
              "      <td>2.811111</td>\n",
              "      <td>3.688889</td>\n",
              "      <td>0.000000</td>\n",
              "      <td>80.000000</td>\n",
              "      <td>75.888889</td>\n",
              "      <td>-0.588889</td>\n",
              "      <td>510.0</td>\n",
              "      <td>1.056996</td>\n",
              "      <td>60.561403</td>\n",
              "      <td>1.222417</td>\n",
              "      <td>70.039323</td>\n",
              "      <td>0.491491</td>\n",
              "      <td>4.6</td>\n",
              "      <td>2.3</td>\n",
              "      <td>0.0</td>\n",
              "      <td>0.0</td>\n",
              "    </tr>\n",
              "    <tr>\n",
              "      <th>1091</th>\n",
              "      <td>81.777778</td>\n",
              "      <td>0.611111</td>\n",
              "      <td>2.666667</td>\n",
              "      <td>0.000000</td>\n",
              "      <td>79.222222</td>\n",
              "      <td>77.777778</td>\n",
              "      <td>0.650000</td>\n",
              "      <td>640.0</td>\n",
              "      <td>1.058065</td>\n",
              "      <td>60.622679</td>\n",
              "      <td>1.223233</td>\n",
              "      <td>70.086064</td>\n",
              "      <td>0.490559</td>\n",
              "      <td>3.7</td>\n",
              "      <td>1.4</td>\n",
              "      <td>0.0</td>\n",
              "      <td>0.0</td>\n",
              "    </tr>\n",
              "    <tr>\n",
              "      <th>1092</th>\n",
              "      <td>89.125000</td>\n",
              "      <td>0.625000</td>\n",
              "      <td>2.300000</td>\n",
              "      <td>0.000000</td>\n",
              "      <td>89.125000</td>\n",
              "      <td>87.375000</td>\n",
              "      <td>0.177778</td>\n",
              "      <td>590.0</td>\n",
              "      <td>1.059292</td>\n",
              "      <td>60.692965</td>\n",
              "      <td>1.224168</td>\n",
              "      <td>70.139634</td>\n",
              "      <td>0.489490</td>\n",
              "      <td>2.8</td>\n",
              "      <td>0.9</td>\n",
              "      <td>0.0</td>\n",
              "      <td>0.0</td>\n",
              "    </tr>\n",
              "    <tr>\n",
              "      <th>1093</th>\n",
              "      <td>69.111111</td>\n",
              "      <td>2.844444</td>\n",
              "      <td>6.122222</td>\n",
              "      <td>0.000000</td>\n",
              "      <td>66.222222</td>\n",
              "      <td>60.777778</td>\n",
              "      <td>1.160000</td>\n",
              "      <td>760.0</td>\n",
              "      <td>1.060676</td>\n",
              "      <td>60.772230</td>\n",
              "      <td>1.225221</td>\n",
              "      <td>70.199994</td>\n",
              "      <td>0.488283</td>\n",
              "      <td>8.9</td>\n",
              "      <td>4.2</td>\n",
              "      <td>0.0</td>\n",
              "      <td>0.0</td>\n",
              "    </tr>\n",
              "    <tr>\n",
              "      <th>1094</th>\n",
              "      <td>76.000000</td>\n",
              "      <td>0.844444</td>\n",
              "      <td>5.522222</td>\n",
              "      <td>0.070000</td>\n",
              "      <td>75.300000</td>\n",
              "      <td>72.300000</td>\n",
              "      <td>0.950000</td>\n",
              "      <td>2600.0</td>\n",
              "      <td>1.062215</td>\n",
              "      <td>60.860444</td>\n",
              "      <td>1.226392</td>\n",
              "      <td>70.267100</td>\n",
              "      <td>0.486939</td>\n",
              "      <td>6.7</td>\n",
              "      <td>3.4</td>\n",
              "      <td>0.4</td>\n",
              "      <td>0.0</td>\n",
              "    </tr>\n",
              "  </tbody>\n",
              "</table>\n",
              "<p>1095 rows × 17 columns</p>\n",
              "</div>"
            ],
            "text/plain": [
              "        max_hum  wind_mag      temp  ...  min_temp  max_sun_dur  min_sun_dur\n",
              "0     87.555556  0.722222 -3.255556  ...      -3.8          0.0          0.0\n",
              "1     60.111111  1.233333 -5.188889  ...      -7.2          1.0          0.0\n",
              "2     26.444444  0.500000 -3.500000  ...      -5.2          0.6          0.0\n",
              "3     70.555556  0.900000 -5.733333  ...     -11.9          0.6          0.0\n",
              "4     33.333333  2.066667  6.366667  ...       4.3          0.9          0.0\n",
              "...         ...       ...       ...  ...       ...          ...          ...\n",
              "1090  80.888889  2.811111  3.688889  ...       2.3          0.0          0.0\n",
              "1091  81.777778  0.611111  2.666667  ...       1.4          0.0          0.0\n",
              "1092  89.125000  0.625000  2.300000  ...       0.9          0.0          0.0\n",
              "1093  69.111111  2.844444  6.122222  ...       4.2          0.0          0.0\n",
              "1094  76.000000  0.844444  5.522222  ...       3.4          0.4          0.0\n",
              "\n",
              "[1095 rows x 17 columns]"
            ]
          },
          "metadata": {
            "tags": []
          },
          "execution_count": 6
        }
      ]
    },
    {
      "cell_type": "code",
      "metadata": {
        "id": "RCcl_KQicGwh"
      },
      "source": [
        "from sklearn.model_selection import train_test_split, GridSearchCV,cross_val_score\n",
        "from sklearn.metrics import mean_squared_error, r2_score"
      ],
      "execution_count": null,
      "outputs": []
    },
    {
      "cell_type": "code",
      "metadata": {
        "id": "h8u8DgFmcGwh"
      },
      "source": [
        "\n",
        "data=data.drop(['zenith_deg'], axis=1)\n",
        "data=data.drop(['ws_deg'], axis=1)\n",
        "\n",
        "data=data.drop(['zenit açısı cos'], axis=1)\n",
        "# data=data.drop(['zenit açısı'], axis=1)\n",
        "# data=data.drop(['derws'], axis=1)\n",
        "# data.insert(0, 'day_num', list(range(0, 1095)))\n",
        "data['date'] = pd.date_range(start='1/1/2017', periods=len(data), freq='D')\n",
        "# data['year'] = data.date.dt.year\n",
        "data['month'] = data.date.dt.month\n",
        "data['day'] = data.date.dt.day\n",
        "data=data.drop(['date'], axis=1)"
      ],
      "execution_count": null,
      "outputs": []
    },
    {
      "cell_type": "code",
      "metadata": {
        "colab": {
          "base_uri": "https://localhost:8080/",
          "height": 439
        },
        "id": "dk-B1MRicGwi",
        "outputId": "3ad53c4b-2eb9-41f6-a5b6-6bf4262799e9"
      },
      "source": [
        "data\n"
      ],
      "execution_count": null,
      "outputs": [
        {
          "output_type": "execute_result",
          "data": {
            "text/html": [
              "<div>\n",
              "<style scoped>\n",
              "    .dataframe tbody tr th:only-of-type {\n",
              "        vertical-align: middle;\n",
              "    }\n",
              "\n",
              "    .dataframe tbody tr th {\n",
              "        vertical-align: top;\n",
              "    }\n",
              "\n",
              "    .dataframe thead th {\n",
              "        text-align: right;\n",
              "    }\n",
              "</style>\n",
              "<table border=\"1\" class=\"dataframe\">\n",
              "  <thead>\n",
              "    <tr style=\"text-align: right;\">\n",
              "      <th></th>\n",
              "      <th>max_hum</th>\n",
              "      <th>wind_mag</th>\n",
              "      <th>temp</th>\n",
              "      <th>sun_dur</th>\n",
              "      <th>relative_hum</th>\n",
              "      <th>min_hum</th>\n",
              "      <th>dew_point</th>\n",
              "      <th>radiation</th>\n",
              "      <th>zenith_rad</th>\n",
              "      <th>ws_rad</th>\n",
              "      <th>max_temp</th>\n",
              "      <th>min_temp</th>\n",
              "      <th>max_sun_dur</th>\n",
              "      <th>min_sun_dur</th>\n",
              "      <th>month</th>\n",
              "      <th>day</th>\n",
              "    </tr>\n",
              "  </thead>\n",
              "  <tbody>\n",
              "    <tr>\n",
              "      <th>0</th>\n",
              "      <td>87.555556</td>\n",
              "      <td>0.722222</td>\n",
              "      <td>-3.255556</td>\n",
              "      <td>0.000000</td>\n",
              "      <td>86.444444</td>\n",
              "      <td>84.555556</td>\n",
              "      <td>-5.188889</td>\n",
              "      <td>1230.0</td>\n",
              "      <td>1.063910</td>\n",
              "      <td>1.227680</td>\n",
              "      <td>-2.8</td>\n",
              "      <td>-3.8</td>\n",
              "      <td>0.0</td>\n",
              "      <td>0.0</td>\n",
              "      <td>1</td>\n",
              "      <td>1</td>\n",
              "    </tr>\n",
              "    <tr>\n",
              "      <th>1</th>\n",
              "      <td>60.111111</td>\n",
              "      <td>1.233333</td>\n",
              "      <td>-5.188889</td>\n",
              "      <td>0.855556</td>\n",
              "      <td>59.222222</td>\n",
              "      <td>54.111111</td>\n",
              "      <td>-14.444444</td>\n",
              "      <td>2030.0</td>\n",
              "      <td>1.065760</td>\n",
              "      <td>1.229084</td>\n",
              "      <td>-4.0</td>\n",
              "      <td>-7.2</td>\n",
              "      <td>1.0</td>\n",
              "      <td>0.0</td>\n",
              "      <td>1</td>\n",
              "      <td>2</td>\n",
              "    </tr>\n",
              "    <tr>\n",
              "      <th>2</th>\n",
              "      <td>26.444444</td>\n",
              "      <td>0.500000</td>\n",
              "      <td>-3.500000</td>\n",
              "      <td>0.122222</td>\n",
              "      <td>26.111111</td>\n",
              "      <td>22.777778</td>\n",
              "      <td>-4.588889</td>\n",
              "      <td>1260.0</td>\n",
              "      <td>1.067765</td>\n",
              "      <td>1.230603</td>\n",
              "      <td>-2.8</td>\n",
              "      <td>-5.2</td>\n",
              "      <td>0.6</td>\n",
              "      <td>0.0</td>\n",
              "      <td>1</td>\n",
              "      <td>3</td>\n",
              "    </tr>\n",
              "    <tr>\n",
              "      <th>3</th>\n",
              "      <td>70.555556</td>\n",
              "      <td>0.900000</td>\n",
              "      <td>-5.733333</td>\n",
              "      <td>0.111111</td>\n",
              "      <td>65.555556</td>\n",
              "      <td>60.444444</td>\n",
              "      <td>4.777778</td>\n",
              "      <td>2380.0</td>\n",
              "      <td>1.069922</td>\n",
              "      <td>1.232236</td>\n",
              "      <td>-0.4</td>\n",
              "      <td>-11.9</td>\n",
              "      <td>0.6</td>\n",
              "      <td>0.0</td>\n",
              "      <td>1</td>\n",
              "      <td>4</td>\n",
              "    </tr>\n",
              "    <tr>\n",
              "      <th>4</th>\n",
              "      <td>33.333333</td>\n",
              "      <td>2.066667</td>\n",
              "      <td>6.366667</td>\n",
              "      <td>0.200000</td>\n",
              "      <td>30.333333</td>\n",
              "      <td>23.666667</td>\n",
              "      <td>2.644444</td>\n",
              "      <td>1340.0</td>\n",
              "      <td>1.072232</td>\n",
              "      <td>1.233982</td>\n",
              "      <td>7.9</td>\n",
              "      <td>4.3</td>\n",
              "      <td>0.9</td>\n",
              "      <td>0.0</td>\n",
              "      <td>1</td>\n",
              "      <td>5</td>\n",
              "    </tr>\n",
              "    <tr>\n",
              "      <th>...</th>\n",
              "      <td>...</td>\n",
              "      <td>...</td>\n",
              "      <td>...</td>\n",
              "      <td>...</td>\n",
              "      <td>...</td>\n",
              "      <td>...</td>\n",
              "      <td>...</td>\n",
              "      <td>...</td>\n",
              "      <td>...</td>\n",
              "      <td>...</td>\n",
              "      <td>...</td>\n",
              "      <td>...</td>\n",
              "      <td>...</td>\n",
              "      <td>...</td>\n",
              "      <td>...</td>\n",
              "      <td>...</td>\n",
              "    </tr>\n",
              "    <tr>\n",
              "      <th>1090</th>\n",
              "      <td>80.888889</td>\n",
              "      <td>2.811111</td>\n",
              "      <td>3.688889</td>\n",
              "      <td>0.000000</td>\n",
              "      <td>80.000000</td>\n",
              "      <td>75.888889</td>\n",
              "      <td>-0.588889</td>\n",
              "      <td>510.0</td>\n",
              "      <td>1.056996</td>\n",
              "      <td>1.222417</td>\n",
              "      <td>4.6</td>\n",
              "      <td>2.3</td>\n",
              "      <td>0.0</td>\n",
              "      <td>0.0</td>\n",
              "      <td>12</td>\n",
              "      <td>27</td>\n",
              "    </tr>\n",
              "    <tr>\n",
              "      <th>1091</th>\n",
              "      <td>81.777778</td>\n",
              "      <td>0.611111</td>\n",
              "      <td>2.666667</td>\n",
              "      <td>0.000000</td>\n",
              "      <td>79.222222</td>\n",
              "      <td>77.777778</td>\n",
              "      <td>0.650000</td>\n",
              "      <td>640.0</td>\n",
              "      <td>1.058065</td>\n",
              "      <td>1.223233</td>\n",
              "      <td>3.7</td>\n",
              "      <td>1.4</td>\n",
              "      <td>0.0</td>\n",
              "      <td>0.0</td>\n",
              "      <td>12</td>\n",
              "      <td>28</td>\n",
              "    </tr>\n",
              "    <tr>\n",
              "      <th>1092</th>\n",
              "      <td>89.125000</td>\n",
              "      <td>0.625000</td>\n",
              "      <td>2.300000</td>\n",
              "      <td>0.000000</td>\n",
              "      <td>89.125000</td>\n",
              "      <td>87.375000</td>\n",
              "      <td>0.177778</td>\n",
              "      <td>590.0</td>\n",
              "      <td>1.059292</td>\n",
              "      <td>1.224168</td>\n",
              "      <td>2.8</td>\n",
              "      <td>0.9</td>\n",
              "      <td>0.0</td>\n",
              "      <td>0.0</td>\n",
              "      <td>12</td>\n",
              "      <td>29</td>\n",
              "    </tr>\n",
              "    <tr>\n",
              "      <th>1093</th>\n",
              "      <td>69.111111</td>\n",
              "      <td>2.844444</td>\n",
              "      <td>6.122222</td>\n",
              "      <td>0.000000</td>\n",
              "      <td>66.222222</td>\n",
              "      <td>60.777778</td>\n",
              "      <td>1.160000</td>\n",
              "      <td>760.0</td>\n",
              "      <td>1.060676</td>\n",
              "      <td>1.225221</td>\n",
              "      <td>8.9</td>\n",
              "      <td>4.2</td>\n",
              "      <td>0.0</td>\n",
              "      <td>0.0</td>\n",
              "      <td>12</td>\n",
              "      <td>30</td>\n",
              "    </tr>\n",
              "    <tr>\n",
              "      <th>1094</th>\n",
              "      <td>76.000000</td>\n",
              "      <td>0.844444</td>\n",
              "      <td>5.522222</td>\n",
              "      <td>0.070000</td>\n",
              "      <td>75.300000</td>\n",
              "      <td>72.300000</td>\n",
              "      <td>0.950000</td>\n",
              "      <td>2600.0</td>\n",
              "      <td>1.062215</td>\n",
              "      <td>1.226392</td>\n",
              "      <td>6.7</td>\n",
              "      <td>3.4</td>\n",
              "      <td>0.4</td>\n",
              "      <td>0.0</td>\n",
              "      <td>12</td>\n",
              "      <td>31</td>\n",
              "    </tr>\n",
              "  </tbody>\n",
              "</table>\n",
              "<p>1095 rows × 16 columns</p>\n",
              "</div>"
            ],
            "text/plain": [
              "        max_hum  wind_mag      temp  ...  min_sun_dur  month  day\n",
              "0     87.555556  0.722222 -3.255556  ...          0.0      1    1\n",
              "1     60.111111  1.233333 -5.188889  ...          0.0      1    2\n",
              "2     26.444444  0.500000 -3.500000  ...          0.0      1    3\n",
              "3     70.555556  0.900000 -5.733333  ...          0.0      1    4\n",
              "4     33.333333  2.066667  6.366667  ...          0.0      1    5\n",
              "...         ...       ...       ...  ...          ...    ...  ...\n",
              "1090  80.888889  2.811111  3.688889  ...          0.0     12   27\n",
              "1091  81.777778  0.611111  2.666667  ...          0.0     12   28\n",
              "1092  89.125000  0.625000  2.300000  ...          0.0     12   29\n",
              "1093  69.111111  2.844444  6.122222  ...          0.0     12   30\n",
              "1094  76.000000  0.844444  5.522222  ...          0.0     12   31\n",
              "\n",
              "[1095 rows x 16 columns]"
            ]
          },
          "metadata": {
            "tags": []
          },
          "execution_count": 97
        }
      ]
    },
    {
      "cell_type": "code",
      "metadata": {
        "id": "igk7Sk4xKgFv"
      },
      "source": [
        "# data['radiation'] = data['radiation'].shift(1)\n",
        "# data"
      ],
      "execution_count": null,
      "outputs": []
    },
    {
      "cell_type": "code",
      "metadata": {
        "id": "e3qToRdmcGwi",
        "colab": {
          "base_uri": "https://localhost:8080/",
          "height": 439
        },
        "outputId": "f0da2fae-35f1-42bf-fc5a-aff3fcd37c65"
      },
      "source": [
        "data=data.dropna()\n",
        "y = data[\"radiation\"]\n",
        "X = data.drop(['radiation'], axis=1).astype('float64')\n",
        "X_train, X_test, y_train, y_test = train_test_split(X, y, \n",
        "                                                    test_size=0.25\n",
        "                                                    )\n",
        "data"
      ],
      "execution_count": null,
      "outputs": [
        {
          "output_type": "execute_result",
          "data": {
            "text/html": [
              "<div>\n",
              "<style scoped>\n",
              "    .dataframe tbody tr th:only-of-type {\n",
              "        vertical-align: middle;\n",
              "    }\n",
              "\n",
              "    .dataframe tbody tr th {\n",
              "        vertical-align: top;\n",
              "    }\n",
              "\n",
              "    .dataframe thead th {\n",
              "        text-align: right;\n",
              "    }\n",
              "</style>\n",
              "<table border=\"1\" class=\"dataframe\">\n",
              "  <thead>\n",
              "    <tr style=\"text-align: right;\">\n",
              "      <th></th>\n",
              "      <th>max_hum</th>\n",
              "      <th>wind_mag</th>\n",
              "      <th>temp</th>\n",
              "      <th>sun_dur</th>\n",
              "      <th>relative_hum</th>\n",
              "      <th>min_hum</th>\n",
              "      <th>dew_point</th>\n",
              "      <th>radiation</th>\n",
              "      <th>zenith_rad</th>\n",
              "      <th>ws_rad</th>\n",
              "      <th>max_temp</th>\n",
              "      <th>min_temp</th>\n",
              "      <th>max_sun_dur</th>\n",
              "      <th>min_sun_dur</th>\n",
              "      <th>month</th>\n",
              "      <th>day</th>\n",
              "    </tr>\n",
              "  </thead>\n",
              "  <tbody>\n",
              "    <tr>\n",
              "      <th>0</th>\n",
              "      <td>87.555556</td>\n",
              "      <td>0.722222</td>\n",
              "      <td>-3.255556</td>\n",
              "      <td>0.000000</td>\n",
              "      <td>86.444444</td>\n",
              "      <td>84.555556</td>\n",
              "      <td>-5.188889</td>\n",
              "      <td>1230.0</td>\n",
              "      <td>1.063910</td>\n",
              "      <td>1.227680</td>\n",
              "      <td>-2.8</td>\n",
              "      <td>-3.8</td>\n",
              "      <td>0.0</td>\n",
              "      <td>0.0</td>\n",
              "      <td>1</td>\n",
              "      <td>1</td>\n",
              "    </tr>\n",
              "    <tr>\n",
              "      <th>1</th>\n",
              "      <td>60.111111</td>\n",
              "      <td>1.233333</td>\n",
              "      <td>-5.188889</td>\n",
              "      <td>0.855556</td>\n",
              "      <td>59.222222</td>\n",
              "      <td>54.111111</td>\n",
              "      <td>-14.444444</td>\n",
              "      <td>2030.0</td>\n",
              "      <td>1.065760</td>\n",
              "      <td>1.229084</td>\n",
              "      <td>-4.0</td>\n",
              "      <td>-7.2</td>\n",
              "      <td>1.0</td>\n",
              "      <td>0.0</td>\n",
              "      <td>1</td>\n",
              "      <td>2</td>\n",
              "    </tr>\n",
              "    <tr>\n",
              "      <th>2</th>\n",
              "      <td>26.444444</td>\n",
              "      <td>0.500000</td>\n",
              "      <td>-3.500000</td>\n",
              "      <td>0.122222</td>\n",
              "      <td>26.111111</td>\n",
              "      <td>22.777778</td>\n",
              "      <td>-4.588889</td>\n",
              "      <td>1260.0</td>\n",
              "      <td>1.067765</td>\n",
              "      <td>1.230603</td>\n",
              "      <td>-2.8</td>\n",
              "      <td>-5.2</td>\n",
              "      <td>0.6</td>\n",
              "      <td>0.0</td>\n",
              "      <td>1</td>\n",
              "      <td>3</td>\n",
              "    </tr>\n",
              "    <tr>\n",
              "      <th>3</th>\n",
              "      <td>70.555556</td>\n",
              "      <td>0.900000</td>\n",
              "      <td>-5.733333</td>\n",
              "      <td>0.111111</td>\n",
              "      <td>65.555556</td>\n",
              "      <td>60.444444</td>\n",
              "      <td>4.777778</td>\n",
              "      <td>2380.0</td>\n",
              "      <td>1.069922</td>\n",
              "      <td>1.232236</td>\n",
              "      <td>-0.4</td>\n",
              "      <td>-11.9</td>\n",
              "      <td>0.6</td>\n",
              "      <td>0.0</td>\n",
              "      <td>1</td>\n",
              "      <td>4</td>\n",
              "    </tr>\n",
              "    <tr>\n",
              "      <th>4</th>\n",
              "      <td>33.333333</td>\n",
              "      <td>2.066667</td>\n",
              "      <td>6.366667</td>\n",
              "      <td>0.200000</td>\n",
              "      <td>30.333333</td>\n",
              "      <td>23.666667</td>\n",
              "      <td>2.644444</td>\n",
              "      <td>1340.0</td>\n",
              "      <td>1.072232</td>\n",
              "      <td>1.233982</td>\n",
              "      <td>7.9</td>\n",
              "      <td>4.3</td>\n",
              "      <td>0.9</td>\n",
              "      <td>0.0</td>\n",
              "      <td>1</td>\n",
              "      <td>5</td>\n",
              "    </tr>\n",
              "    <tr>\n",
              "      <th>...</th>\n",
              "      <td>...</td>\n",
              "      <td>...</td>\n",
              "      <td>...</td>\n",
              "      <td>...</td>\n",
              "      <td>...</td>\n",
              "      <td>...</td>\n",
              "      <td>...</td>\n",
              "      <td>...</td>\n",
              "      <td>...</td>\n",
              "      <td>...</td>\n",
              "      <td>...</td>\n",
              "      <td>...</td>\n",
              "      <td>...</td>\n",
              "      <td>...</td>\n",
              "      <td>...</td>\n",
              "      <td>...</td>\n",
              "    </tr>\n",
              "    <tr>\n",
              "      <th>1090</th>\n",
              "      <td>80.888889</td>\n",
              "      <td>2.811111</td>\n",
              "      <td>3.688889</td>\n",
              "      <td>0.000000</td>\n",
              "      <td>80.000000</td>\n",
              "      <td>75.888889</td>\n",
              "      <td>-0.588889</td>\n",
              "      <td>510.0</td>\n",
              "      <td>1.056996</td>\n",
              "      <td>1.222417</td>\n",
              "      <td>4.6</td>\n",
              "      <td>2.3</td>\n",
              "      <td>0.0</td>\n",
              "      <td>0.0</td>\n",
              "      <td>12</td>\n",
              "      <td>11</td>\n",
              "    </tr>\n",
              "    <tr>\n",
              "      <th>1091</th>\n",
              "      <td>81.777778</td>\n",
              "      <td>0.611111</td>\n",
              "      <td>2.666667</td>\n",
              "      <td>0.000000</td>\n",
              "      <td>79.222222</td>\n",
              "      <td>77.777778</td>\n",
              "      <td>0.650000</td>\n",
              "      <td>640.0</td>\n",
              "      <td>1.058065</td>\n",
              "      <td>1.223233</td>\n",
              "      <td>3.7</td>\n",
              "      <td>1.4</td>\n",
              "      <td>0.0</td>\n",
              "      <td>0.0</td>\n",
              "      <td>12</td>\n",
              "      <td>12</td>\n",
              "    </tr>\n",
              "    <tr>\n",
              "      <th>1092</th>\n",
              "      <td>89.125000</td>\n",
              "      <td>0.625000</td>\n",
              "      <td>2.300000</td>\n",
              "      <td>0.000000</td>\n",
              "      <td>89.125000</td>\n",
              "      <td>87.375000</td>\n",
              "      <td>0.177778</td>\n",
              "      <td>590.0</td>\n",
              "      <td>1.059292</td>\n",
              "      <td>1.224168</td>\n",
              "      <td>2.8</td>\n",
              "      <td>0.9</td>\n",
              "      <td>0.0</td>\n",
              "      <td>0.0</td>\n",
              "      <td>12</td>\n",
              "      <td>13</td>\n",
              "    </tr>\n",
              "    <tr>\n",
              "      <th>1093</th>\n",
              "      <td>69.111111</td>\n",
              "      <td>2.844444</td>\n",
              "      <td>6.122222</td>\n",
              "      <td>0.000000</td>\n",
              "      <td>66.222222</td>\n",
              "      <td>60.777778</td>\n",
              "      <td>1.160000</td>\n",
              "      <td>760.0</td>\n",
              "      <td>1.060676</td>\n",
              "      <td>1.225221</td>\n",
              "      <td>8.9</td>\n",
              "      <td>4.2</td>\n",
              "      <td>0.0</td>\n",
              "      <td>0.0</td>\n",
              "      <td>12</td>\n",
              "      <td>14</td>\n",
              "    </tr>\n",
              "    <tr>\n",
              "      <th>1094</th>\n",
              "      <td>76.000000</td>\n",
              "      <td>0.844444</td>\n",
              "      <td>5.522222</td>\n",
              "      <td>0.070000</td>\n",
              "      <td>75.300000</td>\n",
              "      <td>72.300000</td>\n",
              "      <td>0.950000</td>\n",
              "      <td>2600.0</td>\n",
              "      <td>1.062215</td>\n",
              "      <td>1.226392</td>\n",
              "      <td>6.7</td>\n",
              "      <td>3.4</td>\n",
              "      <td>0.4</td>\n",
              "      <td>0.0</td>\n",
              "      <td>12</td>\n",
              "      <td>15</td>\n",
              "    </tr>\n",
              "  </tbody>\n",
              "</table>\n",
              "<p>1079 rows × 16 columns</p>\n",
              "</div>"
            ],
            "text/plain": [
              "        max_hum  wind_mag      temp  ...  min_sun_dur  month  day\n",
              "0     87.555556  0.722222 -3.255556  ...          0.0      1    1\n",
              "1     60.111111  1.233333 -5.188889  ...          0.0      1    2\n",
              "2     26.444444  0.500000 -3.500000  ...          0.0      1    3\n",
              "3     70.555556  0.900000 -5.733333  ...          0.0      1    4\n",
              "4     33.333333  2.066667  6.366667  ...          0.0      1    5\n",
              "...         ...       ...       ...  ...          ...    ...  ...\n",
              "1090  80.888889  2.811111  3.688889  ...          0.0     12   11\n",
              "1091  81.777778  0.611111  2.666667  ...          0.0     12   12\n",
              "1092  89.125000  0.625000  2.300000  ...          0.0     12   13\n",
              "1093  69.111111  2.844444  6.122222  ...          0.0     12   14\n",
              "1094  76.000000  0.844444  5.522222  ...          0.0     12   15\n",
              "\n",
              "[1079 rows x 16 columns]"
            ]
          },
          "metadata": {
            "tags": []
          },
          "execution_count": 48
        }
      ]
    },
    {
      "cell_type": "code",
      "metadata": {
        "id": "qCDepNnzWNZW"
      },
      "source": [
        "from sklearn.ensemble import RandomForestRegressor"
      ],
      "execution_count": null,
      "outputs": []
    },
    {
      "cell_type": "code",
      "metadata": {
        "id": "4GSEX__ZWNkY"
      },
      "source": [
        "rf_model = RandomForestRegressor(random_state = 42)"
      ],
      "execution_count": null,
      "outputs": []
    },
    {
      "cell_type": "code",
      "metadata": {
        "colab": {
          "base_uri": "https://localhost:8080/"
        },
        "id": "CmJylEPbWNpq",
        "outputId": "9e58fb4f-8f60-4c28-c58e-61ffb672c930"
      },
      "source": [
        "rf_model.fit(X_train, y_train)"
      ],
      "execution_count": null,
      "outputs": [
        {
          "output_type": "execute_result",
          "data": {
            "text/plain": [
              "RandomForestRegressor(bootstrap=True, ccp_alpha=0.0, criterion='mse',\n",
              "                      max_depth=None, max_features='auto', max_leaf_nodes=None,\n",
              "                      max_samples=None, min_impurity_decrease=0.0,\n",
              "                      min_impurity_split=None, min_samples_leaf=1,\n",
              "                      min_samples_split=2, min_weight_fraction_leaf=0.0,\n",
              "                      n_estimators=100, n_jobs=None, oob_score=False,\n",
              "                      random_state=42, verbose=0, warm_start=False)"
            ]
          },
          "metadata": {
            "tags": []
          },
          "execution_count": 50
        }
      ]
    },
    {
      "cell_type": "code",
      "metadata": {
        "id": "Acwq1O31WNsn"
      },
      "source": [
        "y_pred = rf_model.predict(X_test)"
      ],
      "execution_count": null,
      "outputs": []
    },
    {
      "cell_type": "code",
      "metadata": {
        "colab": {
          "base_uri": "https://localhost:8080/"
        },
        "id": "FlwqFEafWnxF",
        "outputId": "8d92cb03-6774-4a5e-97ad-a20a38dbc8e8"
      },
      "source": [
        "np.sqrt(mean_squared_error(y_test, y_pred))"
      ],
      "execution_count": null,
      "outputs": [
        {
          "output_type": "execute_result",
          "data": {
            "text/plain": [
              "886.4798062315721"
            ]
          },
          "metadata": {
            "tags": []
          },
          "execution_count": 52
        }
      ]
    },
    {
      "cell_type": "code",
      "metadata": {
        "colab": {
          "base_uri": "https://localhost:8080/"
        },
        "id": "PfiPn8EnWrzY",
        "outputId": "3bc53c5f-01dd-4f09-c342-0ae0afdfbed3"
      },
      "source": [
        "mape = np.mean(np.abs((y_test - y_pred)/y_test))*100\n",
        "mape"
      ],
      "execution_count": null,
      "outputs": [
        {
          "output_type": "execute_result",
          "data": {
            "text/plain": [
              "24.975714511372843"
            ]
          },
          "metadata": {
            "tags": []
          },
          "execution_count": 53
        }
      ]
    },
    {
      "cell_type": "code",
      "metadata": {
        "id": "wxu_20fqW5dG"
      },
      "source": [
        "rf_model = RandomForestRegressor(random_state = 42)"
      ],
      "execution_count": null,
      "outputs": []
    },
    {
      "cell_type": "code",
      "metadata": {
        "id": "mKIJtu05XFOb"
      },
      "source": [
        "rf_params = {'max_depth': list(range(1,10)),\n",
        "            'max_features': [3,5,10,15],\n",
        "            'n_estimators' : [100, 200, 500, 1000, 2000]}"
      ],
      "execution_count": null,
      "outputs": []
    },
    {
      "cell_type": "code",
      "metadata": {
        "id": "jyKXx_bwW70s"
      },
      "source": [
        "rf_cv_model = GridSearchCV(rf_model, \n",
        "                           rf_params, \n",
        "                           cv = 10, \n",
        "                            n_jobs = -1)"
      ],
      "execution_count": null,
      "outputs": []
    },
    {
      "cell_type": "code",
      "metadata": {
        "id": "PBUldCcdkqIg"
      },
      "source": [
        "rf_tuned = RandomForestRegressor(max_depth  = 8, \n",
        "                                 max_features = 3, \n",
        "                                 n_estimators =200)"
      ],
      "execution_count": null,
      "outputs": []
    },
    {
      "cell_type": "code",
      "metadata": {
        "colab": {
          "base_uri": "https://localhost:8080/"
        },
        "id": "y-s4lnmIkxdD",
        "outputId": "17a7f602-71fe-4930-a319-d739133ea378"
      },
      "source": [
        "rf_tuned.fit(X_train, y_train)"
      ],
      "execution_count": null,
      "outputs": [
        {
          "output_type": "execute_result",
          "data": {
            "text/plain": [
              "RandomForestRegressor(bootstrap=True, ccp_alpha=0.0, criterion='mse',\n",
              "                      max_depth=8, max_features=3, max_leaf_nodes=None,\n",
              "                      max_samples=None, min_impurity_decrease=0.0,\n",
              "                      min_impurity_split=None, min_samples_leaf=1,\n",
              "                      min_samples_split=2, min_weight_fraction_leaf=0.0,\n",
              "                      n_estimators=200, n_jobs=None, oob_score=False,\n",
              "                      random_state=None, verbose=0, warm_start=False)"
            ]
          },
          "metadata": {
            "tags": []
          },
          "execution_count": 58
        }
      ]
    },
    {
      "cell_type": "code",
      "metadata": {
        "id": "L9WtztsbklXT"
      },
      "source": [
        "y_pred = rf_tuned.predict(X_test)"
      ],
      "execution_count": null,
      "outputs": []
    },
    {
      "cell_type": "code",
      "metadata": {
        "id": "n-lGe3a0W8Fs"
      },
      "source": [
        "Importance = pd.DataFrame({\"Önem Düzeyi\": rf_tuned.feature_importances_*100},\n",
        "                         index = X_train.columns)"
      ],
      "execution_count": null,
      "outputs": []
    },
    {
      "cell_type": "code",
      "metadata": {
        "colab": {
          "base_uri": "https://localhost:8080/",
          "height": 298
        },
        "id": "zerp-J9CW8d-",
        "outputId": "8d2f37a6-fd24-4bde-ba1d-455f74df9b59"
      },
      "source": [
        "import matplotlib.pyplot as plt\n",
        "Importance.sort_values(by = \"Önem Düzeyi\", \n",
        "                       axis = 0, \n",
        "                       ascending = True).plot(kind =\"barh\", color = \"r\")\n",
        "\n",
        "plt.xlabel(\"Değişken Önem Düzeyleri\")"
      ],
      "execution_count": null,
      "outputs": [
        {
          "output_type": "execute_result",
          "data": {
            "text/plain": [
              "Text(0.5, 0, 'Değişken Önem Düzeyleri')"
            ]
          },
          "metadata": {
            "tags": []
          },
          "execution_count": 64
        },
        {
          "output_type": "display_data",
          "data": {
            "image/png": "[encoded data removed]",
            "text/plain": [
              "<Figure size 432x288 with 1 Axes>"
            ]
          },
          "metadata": {
            "tags": [],
            "needs_background": "light"
          }
        }
      ]
    },
    {
      "cell_type": "code",
      "metadata": {
        "id": "zNNiVmBTcGwl"
      },
      "source": [
        "my_rho = np.corrcoef(y_test, y_pred)\n"
      ],
      "execution_count": null,
      "outputs": []
    },
    {
      "cell_type": "code",
      "metadata": {
        "colab": {
          "base_uri": "https://localhost:8080/"
        },
        "id": "cefvKr4HcGwl",
        "outputId": "5699dd83-2e63-4ae9-f114-5253307c8a50"
      },
      "source": [
        "my_rho"
      ],
      "execution_count": null,
      "outputs": [
        {
          "output_type": "execute_result",
          "data": {
            "text/plain": [
              "array([[1.        , 0.91705441],\n",
              "       [0.91705441, 1.        ]])"
            ]
          },
          "metadata": {
            "tags": []
          },
          "execution_count": 63
        }
      ]
    },
    {
      "cell_type": "code",
      "metadata": {
        "colab": {
          "base_uri": "https://localhost:8080/"
        },
        "id": "mGkyrJwzlDQ_",
        "outputId": "976d3188-d6aa-4494-e345-87588a5e4cdc"
      },
      "source": [
        "#data=data.drop(['max_sun_dur'], axis=1)\n",
        "#data=data.drop(['min_sun_dur'], axis=1)\n",
        "\n",
        "#data=data.drop(['dew_point'], axis=1)\n",
        "#data=data.drop(['wind_mag'], axis=1)\n",
        "#data=data.drop(['min_temp'], axis=1)\n",
        "#data=data.drop(['sun_dur'], axis=1)\n",
        "data=data.drop(['ws_rad'], axis=1)\n",
        "# data=data.drop(['max_hum'], axis=1)\n",
        "# data=data.drop(['max_hum'], axis=1)\n",
        "# data=data.drop(['max_hum'], axis=1)\n",
        "data=data.dropna()\n",
        "\n",
        "y = data[\"radiation\"]\n",
        "X = data.drop(['radiation'], axis=1).astype('float64')\n",
        "X_train, X_test, y_train, y_test = train_test_split(X, y, \n",
        "                                                    test_size=0.25\n",
        "                                                    )\n",
        "data\n",
        "\n",
        "rf_model.fit(X_train, y_train)\n",
        "y_pred = rf_model.predict(X_test)\n",
        "mape = np.mean(np.abs((y_test - y_pred)/y_test))*100\n",
        "\n",
        "\n",
        "mape\n",
        "\n",
        "rf_model = RandomForestRegressor(random_state = 42)\n",
        "\n",
        "rf_params = {'max_depth': list(range(1,10)),\n",
        "            'max_features': [3,5,10,15],\n",
        "            'n_estimators' : [100, 200, 500, 1000, 2000]}\n",
        "\n",
        "rf_cv_model = GridSearchCV(rf_model, \n",
        "                           rf_params, \n",
        "                           cv = 10, \n",
        "                            n_jobs = -1)\n",
        "\n",
        "rf_tuned = RandomForestRegressor(max_depth  = 8, \n",
        "                                 max_features = 3, \n",
        "                                 n_estimators =200)\n",
        "\n",
        "rf_tuned.fit(X_train, y_train)\n",
        "\n",
        "y_pred = rf_tuned.predict(X_test)\n",
        "\n",
        "my_rho = np.corrcoef(y_test, y_pred)\n",
        "\n",
        "rmspe = np.sqrt(np.mean(np.square(((y_test - y_pred) / y_test)), axis=0))\n",
        "rmspe\n"
      ],
      "execution_count": null,
      "outputs": [
        {
          "output_type": "execute_result",
          "data": {
            "text/plain": [
              "0.9018131958400588"
            ]
          },
          "metadata": {
            "tags": []
          },
          "execution_count": 111
        }
      ]
    },
    {
      "cell_type": "code",
      "metadata": {
        "colab": {
          "base_uri": "https://localhost:8080/"
        },
        "id": "GVbxZbwxoZVh",
        "outputId": "37606053-bc18-454d-84a3-ffcd42596a90"
      },
      "source": [
        "mape"
      ],
      "execution_count": null,
      "outputs": [
        {
          "output_type": "execute_result",
          "data": {
            "text/plain": [
              "42.48758102611857"
            ]
          },
          "metadata": {
            "tags": []
          },
          "execution_count": 93
        }
      ]
    },
    {
      "cell_type": "code",
      "metadata": {
        "colab": {
          "base_uri": "https://localhost:8080/"
        },
        "id": "1n3R_7W0qKfg",
        "outputId": "a04b4591-ab26-4183-be98-1ceea269dc63"
      },
      "source": [
        "rmspe = np.sqrt(np.mean(np.square(((y_test - y_pred) / y_test)), axis=0))\n",
        "rmspe"
      ],
      "execution_count": null,
      "outputs": [
        {
          "output_type": "execute_result",
          "data": {
            "text/plain": [
              "1.0378620047759946"
            ]
          },
          "metadata": {
            "tags": []
          },
          "execution_count": 94
        }
      ]
    }
  ]
}