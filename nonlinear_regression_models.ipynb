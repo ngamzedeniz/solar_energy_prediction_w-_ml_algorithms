{
  "nbformat": 4,
  "nbformat_minor": 0,
  "metadata": {
    "colab": {
      "name": "nonlinear_regression_models.ipynb",
      "provenance": [],
      "collapsed_sections": [
        "kqTdKdpjFD2P",
        "M0b0uNt7FD2S",
        "tZzelZtoFD2T",
        "dIVCXT8YFD2w",
        "fPFJIF5xFD3B",
        "QfgwEEneFD3E",
        "ONixOe0aFD3F",
        "5i1PLgqbFD3H",
        "6z6mIwi9FD3J",
        "32AgrvlNFD3K"
      ]
    },
    "kernelspec": {
      "display_name": "Python 3",
      "language": "python",
      "name": "python3"
    },
    "language_info": {
      "codemirror_mode": {
        "name": "ipython",
        "version": 3
      },
      "file_extension": ".py",
      "mimetype": "text/x-python",
      "name": "python",
      "nbconvert_exporter": "python",
      "pygments_lexer": "ipython3",
      "version": "3.8.5"
    }
  },
  "cells": [
    {
      "cell_type": "markdown",
      "metadata": {
        "id": "9IVG86mfFD2D"
      },
      "source": [
        "# Doğrusal Olmayan Regreson Modelleri"
      ]
    },
    {
      "cell_type": "code",
      "metadata": {
        "colab": {
          "base_uri": "https://localhost:8080/"
        },
        "id": "WUkJ0ZXhFmpS",
        "outputId": "7fbc90fd-0ad5-4930-cea1-b8f9d4ab1948"
      },
      "source": [
        "from google.colab import drive\n",
        "drive.mount('/content/drive')"
      ],
      "execution_count": null,
      "outputs": [
        {
          "output_type": "stream",
          "text": [
            "Mounted at /content/drive\n"
          ],
          "name": "stdout"
        }
      ]
    },
    {
      "cell_type": "code",
      "metadata": {
        "id": "RIy-EZAsFD2G"
      },
      "source": [
        "import numpy as np\n",
        "import pandas as pd \n",
        "from sklearn.model_selection import train_test_split, GridSearchCV,cross_val_score\n",
        "from sklearn.metrics import mean_squared_error, r2_score\n",
        "import matplotlib.pyplot as plt\n",
        "from sklearn.preprocessing import scale \n",
        "from sklearn import model_selection\n",
        "from sklearn.tree import DecisionTreeRegressor, DecisionTreeClassifier\n",
        "from sklearn.neighbors import KNeighborsRegressor\n",
        "from sklearn.ensemble import BaggingRegressor\n",
        "\n",
        "from warnings import filterwarnings\n",
        "filterwarnings('ignore')"
      ],
      "execution_count": null,
      "outputs": []
    },
    {
      "cell_type": "markdown",
      "metadata": {
        "id": "md3SmN5aFD2H"
      },
      "source": [
        "# KNN"
      ]
    },
    {
      "cell_type": "code",
      "metadata": {
        "colab": {
          "base_uri": "https://localhost:8080/",
          "height": 419
        },
        "id": "0yVwrSZ2FD2I",
        "outputId": "39ad292d-e70d-46b2-9371-f4ff126fa9fa"
      },
      "source": [
        "import pandas as pd\n",
        "#import datetime\n",
        "\n",
        "data = pd.read_excel('/content/drive/MyDrive/daily.xlsx')\n",
        "data=data.dropna()\n",
        "data\n"
      ],
      "execution_count": null,
      "outputs": [
        {
          "output_type": "execute_result",
          "data": {
            "text/html": [
              "<div>\n",
              "<style scoped>\n",
              "    .dataframe tbody tr th:only-of-type {\n",
              "        vertical-align: middle;\n",
              "    }\n",
              "\n",
              "    .dataframe tbody tr th {\n",
              "        vertical-align: top;\n",
              "    }\n",
              "\n",
              "    .dataframe thead th {\n",
              "        text-align: right;\n",
              "    }\n",
              "</style>\n",
              "<table border=\"1\" class=\"dataframe\">\n",
              "  <thead>\n",
              "    <tr style=\"text-align: right;\">\n",
              "      <th></th>\n",
              "      <th>radiation</th>\n",
              "      <th>max_hum</th>\n",
              "      <th>min_hum</th>\n",
              "      <th>relative_hum</th>\n",
              "      <th>temp</th>\n",
              "      <th>max_temp</th>\n",
              "      <th>min_temp</th>\n",
              "      <th>dew_point</th>\n",
              "      <th>wind_mag</th>\n",
              "      <th>sun_dur</th>\n",
              "      <th>zenith</th>\n",
              "      <th>ws</th>\n",
              "      <th>max_sun_dur</th>\n",
              "      <th>min_sun_dur</th>\n",
              "    </tr>\n",
              "  </thead>\n",
              "  <tbody>\n",
              "    <tr>\n",
              "      <th>0</th>\n",
              "      <td>1230.0</td>\n",
              "      <td>87.555556</td>\n",
              "      <td>84.555556</td>\n",
              "      <td>86.444444</td>\n",
              "      <td>-3.255556</td>\n",
              "      <td>-2.8</td>\n",
              "      <td>-3.8</td>\n",
              "      <td>-5.188889</td>\n",
              "      <td>0.722222</td>\n",
              "      <td>0.000000</td>\n",
              "      <td>1.064067</td>\n",
              "      <td>1.227844</td>\n",
              "      <td>0.0</td>\n",
              "      <td>0.0</td>\n",
              "    </tr>\n",
              "    <tr>\n",
              "      <th>1</th>\n",
              "      <td>2030.0</td>\n",
              "      <td>60.111111</td>\n",
              "      <td>54.111111</td>\n",
              "      <td>59.222222</td>\n",
              "      <td>-5.188889</td>\n",
              "      <td>-4.0</td>\n",
              "      <td>-7.2</td>\n",
              "      <td>-14.444444</td>\n",
              "      <td>1.233333</td>\n",
              "      <td>0.855556</td>\n",
              "      <td>1.065916</td>\n",
              "      <td>1.229248</td>\n",
              "      <td>1.0</td>\n",
              "      <td>0.0</td>\n",
              "    </tr>\n",
              "    <tr>\n",
              "      <th>2</th>\n",
              "      <td>1260.0</td>\n",
              "      <td>26.444444</td>\n",
              "      <td>22.777778</td>\n",
              "      <td>26.111111</td>\n",
              "      <td>-3.500000</td>\n",
              "      <td>-2.8</td>\n",
              "      <td>-5.2</td>\n",
              "      <td>-4.588889</td>\n",
              "      <td>0.500000</td>\n",
              "      <td>0.122222</td>\n",
              "      <td>1.067920</td>\n",
              "      <td>1.230766</td>\n",
              "      <td>0.6</td>\n",
              "      <td>0.0</td>\n",
              "    </tr>\n",
              "    <tr>\n",
              "      <th>3</th>\n",
              "      <td>2380.0</td>\n",
              "      <td>70.555556</td>\n",
              "      <td>60.444444</td>\n",
              "      <td>65.555556</td>\n",
              "      <td>-5.733333</td>\n",
              "      <td>-0.4</td>\n",
              "      <td>-11.9</td>\n",
              "      <td>4.777778</td>\n",
              "      <td>0.900000</td>\n",
              "      <td>0.111111</td>\n",
              "      <td>1.070076</td>\n",
              "      <td>1.232398</td>\n",
              "      <td>0.6</td>\n",
              "      <td>0.0</td>\n",
              "    </tr>\n",
              "    <tr>\n",
              "      <th>4</th>\n",
              "      <td>1340.0</td>\n",
              "      <td>33.333333</td>\n",
              "      <td>23.666667</td>\n",
              "      <td>30.333333</td>\n",
              "      <td>6.366667</td>\n",
              "      <td>7.9</td>\n",
              "      <td>4.3</td>\n",
              "      <td>2.644444</td>\n",
              "      <td>2.066667</td>\n",
              "      <td>0.200000</td>\n",
              "      <td>1.072386</td>\n",
              "      <td>1.234143</td>\n",
              "      <td>0.9</td>\n",
              "      <td>0.0</td>\n",
              "    </tr>\n",
              "    <tr>\n",
              "      <th>...</th>\n",
              "      <td>...</td>\n",
              "      <td>...</td>\n",
              "      <td>...</td>\n",
              "      <td>...</td>\n",
              "      <td>...</td>\n",
              "      <td>...</td>\n",
              "      <td>...</td>\n",
              "      <td>...</td>\n",
              "      <td>...</td>\n",
              "      <td>...</td>\n",
              "      <td>...</td>\n",
              "      <td>...</td>\n",
              "      <td>...</td>\n",
              "      <td>...</td>\n",
              "    </tr>\n",
              "    <tr>\n",
              "      <th>1090</th>\n",
              "      <td>510.0</td>\n",
              "      <td>80.888889</td>\n",
              "      <td>75.888889</td>\n",
              "      <td>80.000000</td>\n",
              "      <td>3.688889</td>\n",
              "      <td>4.6</td>\n",
              "      <td>2.3</td>\n",
              "      <td>-0.588889</td>\n",
              "      <td>2.811111</td>\n",
              "      <td>0.000000</td>\n",
              "      <td>1.057155</td>\n",
              "      <td>1.222583</td>\n",
              "      <td>0.0</td>\n",
              "      <td>0.0</td>\n",
              "    </tr>\n",
              "    <tr>\n",
              "      <th>1091</th>\n",
              "      <td>640.0</td>\n",
              "      <td>81.777778</td>\n",
              "      <td>77.777778</td>\n",
              "      <td>79.222222</td>\n",
              "      <td>2.666667</td>\n",
              "      <td>3.7</td>\n",
              "      <td>1.4</td>\n",
              "      <td>0.650000</td>\n",
              "      <td>0.611111</td>\n",
              "      <td>0.000000</td>\n",
              "      <td>1.058224</td>\n",
              "      <td>1.223399</td>\n",
              "      <td>0.0</td>\n",
              "      <td>0.0</td>\n",
              "    </tr>\n",
              "    <tr>\n",
              "      <th>1092</th>\n",
              "      <td>590.0</td>\n",
              "      <td>89.125000</td>\n",
              "      <td>87.375000</td>\n",
              "      <td>89.125000</td>\n",
              "      <td>2.300000</td>\n",
              "      <td>2.8</td>\n",
              "      <td>0.9</td>\n",
              "      <td>0.177778</td>\n",
              "      <td>0.625000</td>\n",
              "      <td>0.000000</td>\n",
              "      <td>1.059450</td>\n",
              "      <td>1.224333</td>\n",
              "      <td>0.0</td>\n",
              "      <td>0.0</td>\n",
              "    </tr>\n",
              "    <tr>\n",
              "      <th>1093</th>\n",
              "      <td>760.0</td>\n",
              "      <td>69.111111</td>\n",
              "      <td>60.777778</td>\n",
              "      <td>66.222222</td>\n",
              "      <td>6.122222</td>\n",
              "      <td>8.9</td>\n",
              "      <td>4.2</td>\n",
              "      <td>1.160000</td>\n",
              "      <td>2.844444</td>\n",
              "      <td>0.000000</td>\n",
              "      <td>1.060833</td>\n",
              "      <td>1.225386</td>\n",
              "      <td>0.0</td>\n",
              "      <td>0.0</td>\n",
              "    </tr>\n",
              "    <tr>\n",
              "      <th>1094</th>\n",
              "      <td>2600.0</td>\n",
              "      <td>76.000000</td>\n",
              "      <td>72.300000</td>\n",
              "      <td>75.300000</td>\n",
              "      <td>5.522222</td>\n",
              "      <td>6.7</td>\n",
              "      <td>3.4</td>\n",
              "      <td>0.950000</td>\n",
              "      <td>0.844444</td>\n",
              "      <td>0.070000</td>\n",
              "      <td>1.062372</td>\n",
              "      <td>1.226557</td>\n",
              "      <td>0.4</td>\n",
              "      <td>0.0</td>\n",
              "    </tr>\n",
              "  </tbody>\n",
              "</table>\n",
              "<p>1079 rows × 14 columns</p>\n",
              "</div>"
            ],
            "text/plain": [
              "      radiation    max_hum    min_hum  ...        ws  max_sun_dur  min_sun_dur\n",
              "0        1230.0  87.555556  84.555556  ...  1.227844          0.0          0.0\n",
              "1        2030.0  60.111111  54.111111  ...  1.229248          1.0          0.0\n",
              "2        1260.0  26.444444  22.777778  ...  1.230766          0.6          0.0\n",
              "3        2380.0  70.555556  60.444444  ...  1.232398          0.6          0.0\n",
              "4        1340.0  33.333333  23.666667  ...  1.234143          0.9          0.0\n",
              "...         ...        ...        ...  ...       ...          ...          ...\n",
              "1090      510.0  80.888889  75.888889  ...  1.222583          0.0          0.0\n",
              "1091      640.0  81.777778  77.777778  ...  1.223399          0.0          0.0\n",
              "1092      590.0  89.125000  87.375000  ...  1.224333          0.0          0.0\n",
              "1093      760.0  69.111111  60.777778  ...  1.225386          0.0          0.0\n",
              "1094     2600.0  76.000000  72.300000  ...  1.226557          0.4          0.0\n",
              "\n",
              "[1079 rows x 14 columns]"
            ]
          },
          "metadata": {
            "tags": []
          },
          "execution_count": 5
        }
      ]
    },
    {
      "cell_type": "code",
      "metadata": {
        "id": "NDH3voSCHFTv"
      },
      "source": [
        "from sklearn import preprocessing\n",
        "scaler1 = preprocessing.MinMaxScaler(feature_range=(1,10))\n",
        "scaler2 = preprocessing.MinMaxScaler(feature_range=(1,3))\n",
        "scaler3 = preprocessing.MinMaxScaler(feature_range=(1,3))\n",
        "scaler4 = preprocessing.MinMaxScaler(feature_range=(0,1))\n",
        "scaler5 = preprocessing.MinMaxScaler(feature_range=(1,2))\n",
        "data.iloc[:,0:1]=scaler1.fit_transform(data.iloc[:,0:1])\n",
        "data.iloc[:,1:4]=scaler2.fit_transform(data.iloc[:,1:4])\n",
        "data.iloc[:,8:9]=scaler5.fit_transform(data.iloc[:,8:9])\n",
        "data.iloc[:,9:14]=scaler4.fit_transform(data.iloc[:,9:14])"
      ],
      "execution_count": null,
      "outputs": []
    },
    {
      "cell_type": "code",
      "metadata": {
        "id": "VyO4FQ1GKm9D"
      },
      "source": [
        "y = data[\"radiation\"]\n",
        "X = data.drop([\"radiation\"], axis=1)\n",
        "X_train, X_test, y_train, y_test = train_test_split(X, y, \n",
        "                                                    test_size=0.25, \n",
        "                                                    random_state=200)"
      ],
      "execution_count": null,
      "outputs": []
    },
    {
      "cell_type": "code",
      "metadata": {
        "colab": {
          "base_uri": "https://localhost:8080/",
          "height": 419
        },
        "id": "PUQlSopvFD2I",
        "outputId": "528fa7fd-a219-4bc3-aee0-15b36d996d8a"
      },
      "source": [
        "data"
      ],
      "execution_count": null,
      "outputs": [
        {
          "output_type": "execute_result",
          "data": {
            "text/html": [
              "<div>\n",
              "<style scoped>\n",
              "    .dataframe tbody tr th:only-of-type {\n",
              "        vertical-align: middle;\n",
              "    }\n",
              "\n",
              "    .dataframe tbody tr th {\n",
              "        vertical-align: top;\n",
              "    }\n",
              "\n",
              "    .dataframe thead th {\n",
              "        text-align: right;\n",
              "    }\n",
              "</style>\n",
              "<table border=\"1\" class=\"dataframe\">\n",
              "  <thead>\n",
              "    <tr style=\"text-align: right;\">\n",
              "      <th></th>\n",
              "      <th>radiation</th>\n",
              "      <th>max_hum</th>\n",
              "      <th>min_hum</th>\n",
              "      <th>relative_hum</th>\n",
              "      <th>temp</th>\n",
              "      <th>max_temp</th>\n",
              "      <th>min_temp</th>\n",
              "      <th>dew_point</th>\n",
              "      <th>wind_mag</th>\n",
              "      <th>sun_dur</th>\n",
              "      <th>zenith</th>\n",
              "      <th>ws</th>\n",
              "      <th>max_sun_dur</th>\n",
              "      <th>min_sun_dur</th>\n",
              "    </tr>\n",
              "  </thead>\n",
              "  <tbody>\n",
              "    <tr>\n",
              "      <th>0</th>\n",
              "      <td>2.039274</td>\n",
              "      <td>2.811136</td>\n",
              "      <td>2.749504</td>\n",
              "      <td>2.773108</td>\n",
              "      <td>-3.255556</td>\n",
              "      <td>-2.8</td>\n",
              "      <td>-3.8</td>\n",
              "      <td>-5.188889</td>\n",
              "      <td>1.057050</td>\n",
              "      <td>0.000000</td>\n",
              "      <td>0.009682</td>\n",
              "      <td>0.010874</td>\n",
              "      <td>0.0</td>\n",
              "      <td>0.0</td>\n",
              "    </tr>\n",
              "    <tr>\n",
              "      <th>1</th>\n",
              "      <td>2.850904</td>\n",
              "      <td>2.134358</td>\n",
              "      <td>2.024293</td>\n",
              "      <td>2.111904</td>\n",
              "      <td>-5.188889</td>\n",
              "      <td>-4.0</td>\n",
              "      <td>-7.2</td>\n",
              "      <td>-14.444444</td>\n",
              "      <td>1.132029</td>\n",
              "      <td>0.855556</td>\n",
              "      <td>0.011471</td>\n",
              "      <td>0.012875</td>\n",
              "      <td>1.0</td>\n",
              "      <td>0.0</td>\n",
              "    </tr>\n",
              "    <tr>\n",
              "      <th>2</th>\n",
              "      <td>2.069710</td>\n",
              "      <td>1.304139</td>\n",
              "      <td>1.277909</td>\n",
              "      <td>1.307663</td>\n",
              "      <td>-3.500000</td>\n",
              "      <td>-2.8</td>\n",
              "      <td>-5.2</td>\n",
              "      <td>-4.588889</td>\n",
              "      <td>1.024450</td>\n",
              "      <td>0.122222</td>\n",
              "      <td>0.013410</td>\n",
              "      <td>0.015040</td>\n",
              "      <td>0.6</td>\n",
              "      <td>0.0</td>\n",
              "    </tr>\n",
              "    <tr>\n",
              "      <th>3</th>\n",
              "      <td>3.205992</td>\n",
              "      <td>2.391917</td>\n",
              "      <td>2.175158</td>\n",
              "      <td>2.265735</td>\n",
              "      <td>-5.733333</td>\n",
              "      <td>-0.4</td>\n",
              "      <td>-11.9</td>\n",
              "      <td>4.777778</td>\n",
              "      <td>1.083130</td>\n",
              "      <td>0.111111</td>\n",
              "      <td>0.015497</td>\n",
              "      <td>0.017368</td>\n",
              "      <td>0.6</td>\n",
              "      <td>0.0</td>\n",
              "    </tr>\n",
              "    <tr>\n",
              "      <th>4</th>\n",
              "      <td>2.150873</td>\n",
              "      <td>1.474019</td>\n",
              "      <td>1.299083</td>\n",
              "      <td>1.410217</td>\n",
              "      <td>6.366667</td>\n",
              "      <td>7.9</td>\n",
              "      <td>4.3</td>\n",
              "      <td>2.644444</td>\n",
              "      <td>1.254279</td>\n",
              "      <td>0.200000</td>\n",
              "      <td>0.017731</td>\n",
              "      <td>0.019856</td>\n",
              "      <td>0.9</td>\n",
              "      <td>0.0</td>\n",
              "    </tr>\n",
              "    <tr>\n",
              "      <th>...</th>\n",
              "      <td>...</td>\n",
              "      <td>...</td>\n",
              "      <td>...</td>\n",
              "      <td>...</td>\n",
              "      <td>...</td>\n",
              "      <td>...</td>\n",
              "      <td>...</td>\n",
              "      <td>...</td>\n",
              "      <td>...</td>\n",
              "      <td>...</td>\n",
              "      <td>...</td>\n",
              "      <td>...</td>\n",
              "      <td>...</td>\n",
              "      <td>...</td>\n",
              "    </tr>\n",
              "    <tr>\n",
              "      <th>1090</th>\n",
              "      <td>1.308807</td>\n",
              "      <td>2.646736</td>\n",
              "      <td>2.543057</td>\n",
              "      <td>2.616578</td>\n",
              "      <td>3.688889</td>\n",
              "      <td>4.6</td>\n",
              "      <td>2.3</td>\n",
              "      <td>-0.588889</td>\n",
              "      <td>1.363488</td>\n",
              "      <td>0.000000</td>\n",
              "      <td>0.002994</td>\n",
              "      <td>0.003370</td>\n",
              "      <td>0.0</td>\n",
              "      <td>0.0</td>\n",
              "    </tr>\n",
              "    <tr>\n",
              "      <th>1091</th>\n",
              "      <td>1.440697</td>\n",
              "      <td>2.668656</td>\n",
              "      <td>2.588052</td>\n",
              "      <td>2.597687</td>\n",
              "      <td>2.666667</td>\n",
              "      <td>3.7</td>\n",
              "      <td>1.4</td>\n",
              "      <td>0.650000</td>\n",
              "      <td>1.040750</td>\n",
              "      <td>0.000000</td>\n",
              "      <td>0.004028</td>\n",
              "      <td>0.004533</td>\n",
              "      <td>0.0</td>\n",
              "      <td>0.0</td>\n",
              "    </tr>\n",
              "    <tr>\n",
              "      <th>1092</th>\n",
              "      <td>1.389970</td>\n",
              "      <td>2.849839</td>\n",
              "      <td>2.816665</td>\n",
              "      <td>2.838217</td>\n",
              "      <td>2.300000</td>\n",
              "      <td>2.8</td>\n",
              "      <td>0.9</td>\n",
              "      <td>0.177778</td>\n",
              "      <td>1.042787</td>\n",
              "      <td>0.000000</td>\n",
              "      <td>0.005215</td>\n",
              "      <td>0.005866</td>\n",
              "      <td>0.0</td>\n",
              "      <td>0.0</td>\n",
              "    </tr>\n",
              "    <tr>\n",
              "      <th>1093</th>\n",
              "      <td>1.562441</td>\n",
              "      <td>2.356297</td>\n",
              "      <td>2.183099</td>\n",
              "      <td>2.281928</td>\n",
              "      <td>6.122222</td>\n",
              "      <td>8.9</td>\n",
              "      <td>4.2</td>\n",
              "      <td>1.160000</td>\n",
              "      <td>1.368378</td>\n",
              "      <td>0.000000</td>\n",
              "      <td>0.006553</td>\n",
              "      <td>0.007368</td>\n",
              "      <td>0.0</td>\n",
              "      <td>0.0</td>\n",
              "    </tr>\n",
              "    <tr>\n",
              "      <th>1094</th>\n",
              "      <td>3.429190</td>\n",
              "      <td>2.526177</td>\n",
              "      <td>2.457567</td>\n",
              "      <td>2.502419</td>\n",
              "      <td>5.522222</td>\n",
              "      <td>6.7</td>\n",
              "      <td>3.4</td>\n",
              "      <td>0.950000</td>\n",
              "      <td>1.074980</td>\n",
              "      <td>0.070000</td>\n",
              "      <td>0.008042</td>\n",
              "      <td>0.009037</td>\n",
              "      <td>0.4</td>\n",
              "      <td>0.0</td>\n",
              "    </tr>\n",
              "  </tbody>\n",
              "</table>\n",
              "<p>1079 rows × 14 columns</p>\n",
              "</div>"
            ],
            "text/plain": [
              "      radiation   max_hum   min_hum  ...        ws  max_sun_dur  min_sun_dur\n",
              "0      2.039274  2.811136  2.749504  ...  0.010874          0.0          0.0\n",
              "1      2.850904  2.134358  2.024293  ...  0.012875          1.0          0.0\n",
              "2      2.069710  1.304139  1.277909  ...  0.015040          0.6          0.0\n",
              "3      3.205992  2.391917  2.175158  ...  0.017368          0.6          0.0\n",
              "4      2.150873  1.474019  1.299083  ...  0.019856          0.9          0.0\n",
              "...         ...       ...       ...  ...       ...          ...          ...\n",
              "1090   1.308807  2.646736  2.543057  ...  0.003370          0.0          0.0\n",
              "1091   1.440697  2.668656  2.588052  ...  0.004533          0.0          0.0\n",
              "1092   1.389970  2.849839  2.816665  ...  0.005866          0.0          0.0\n",
              "1093   1.562441  2.356297  2.183099  ...  0.007368          0.0          0.0\n",
              "1094   3.429190  2.526177  2.457567  ...  0.009037          0.4          0.0\n",
              "\n",
              "[1079 rows x 14 columns]"
            ]
          },
          "metadata": {
            "tags": []
          },
          "execution_count": 141
        }
      ]
    },
    {
      "cell_type": "code",
      "metadata": {
        "colab": {
          "base_uri": "https://localhost:8080/",
          "height": 419
        },
        "id": "htIXmmIWLP5w",
        "outputId": "f2ac1480-b4fa-426e-c104-a0f614b3885f"
      },
      "source": [
        "X_train"
      ],
      "execution_count": null,
      "outputs": [
        {
          "output_type": "execute_result",
          "data": {
            "text/html": [
              "<div>\n",
              "<style scoped>\n",
              "    .dataframe tbody tr th:only-of-type {\n",
              "        vertical-align: middle;\n",
              "    }\n",
              "\n",
              "    .dataframe tbody tr th {\n",
              "        vertical-align: top;\n",
              "    }\n",
              "\n",
              "    .dataframe thead th {\n",
              "        text-align: right;\n",
              "    }\n",
              "</style>\n",
              "<table border=\"1\" class=\"dataframe\">\n",
              "  <thead>\n",
              "    <tr style=\"text-align: right;\">\n",
              "      <th></th>\n",
              "      <th>max_hum</th>\n",
              "      <th>min_hum</th>\n",
              "      <th>relative_hum</th>\n",
              "      <th>temp</th>\n",
              "      <th>max_temp</th>\n",
              "      <th>min_temp</th>\n",
              "      <th>dew_point</th>\n",
              "      <th>wind_mag</th>\n",
              "      <th>sun_dur</th>\n",
              "      <th>zenith</th>\n",
              "      <th>ws</th>\n",
              "      <th>max_sun_dur</th>\n",
              "      <th>min_sun_dur</th>\n",
              "    </tr>\n",
              "  </thead>\n",
              "  <tbody>\n",
              "    <tr>\n",
              "      <th>671</th>\n",
              "      <td>1.976260</td>\n",
              "      <td>1.826316</td>\n",
              "      <td>1.931624</td>\n",
              "      <td>14.388889</td>\n",
              "      <td>18.4</td>\n",
              "      <td>8.9</td>\n",
              "      <td>6.560000</td>\n",
              "      <td>1.117359</td>\n",
              "      <td>0.910000</td>\n",
              "      <td>0.162823</td>\n",
              "      <td>0.174140</td>\n",
              "      <td>1.0</td>\n",
              "      <td>0.0</td>\n",
              "    </tr>\n",
              "    <tr>\n",
              "      <th>945</th>\n",
              "      <td>2.355201</td>\n",
              "      <td>2.113754</td>\n",
              "      <td>2.257099</td>\n",
              "      <td>25.975000</td>\n",
              "      <td>31.7</td>\n",
              "      <td>16.6</td>\n",
              "      <td>3.180000</td>\n",
              "      <td>1.279951</td>\n",
              "      <td>0.226667</td>\n",
              "      <td>0.861757</td>\n",
              "      <td>0.851103</td>\n",
              "      <td>1.0</td>\n",
              "      <td>0.0</td>\n",
              "    </tr>\n",
              "    <tr>\n",
              "      <th>820</th>\n",
              "      <td>1.800470</td>\n",
              "      <td>1.657529</td>\n",
              "      <td>1.717880</td>\n",
              "      <td>9.600000</td>\n",
              "      <td>9.6</td>\n",
              "      <td>3.2</td>\n",
              "      <td>-4.007143</td>\n",
              "      <td>1.189820</td>\n",
              "      <td>0.592857</td>\n",
              "      <td>0.584255</td>\n",
              "      <td>0.579337</td>\n",
              "      <td>0.4</td>\n",
              "      <td>0.0</td>\n",
              "    </tr>\n",
              "    <tr>\n",
              "      <th>123</th>\n",
              "      <td>1.263235</td>\n",
              "      <td>1.210039</td>\n",
              "      <td>1.216482</td>\n",
              "      <td>17.400000</td>\n",
              "      <td>21.3</td>\n",
              "      <td>10.3</td>\n",
              "      <td>-5.607143</td>\n",
              "      <td>1.281174</td>\n",
              "      <td>0.550000</td>\n",
              "      <td>0.833995</td>\n",
              "      <td>0.822614</td>\n",
              "      <td>1.0</td>\n",
              "      <td>0.0</td>\n",
              "    </tr>\n",
              "    <tr>\n",
              "      <th>970</th>\n",
              "      <td>1.583814</td>\n",
              "      <td>1.521410</td>\n",
              "      <td>1.587759</td>\n",
              "      <td>27.527273</td>\n",
              "      <td>30.3</td>\n",
              "      <td>22.4</td>\n",
              "      <td>8.671429</td>\n",
              "      <td>1.260502</td>\n",
              "      <td>0.764286</td>\n",
              "      <td>0.686110</td>\n",
              "      <td>0.676417</td>\n",
              "      <td>1.0</td>\n",
              "      <td>0.0</td>\n",
              "    </tr>\n",
              "    <tr>\n",
              "      <th>...</th>\n",
              "      <td>...</td>\n",
              "      <td>...</td>\n",
              "      <td>...</td>\n",
              "      <td>...</td>\n",
              "      <td>...</td>\n",
              "      <td>...</td>\n",
              "      <td>...</td>\n",
              "      <td>...</td>\n",
              "      <td>...</td>\n",
              "      <td>...</td>\n",
              "      <td>...</td>\n",
              "      <td>...</td>\n",
              "      <td>...</td>\n",
              "    </tr>\n",
              "    <tr>\n",
              "      <th>345</th>\n",
              "      <td>2.397397</td>\n",
              "      <td>2.262501</td>\n",
              "      <td>2.360193</td>\n",
              "      <td>6.466667</td>\n",
              "      <td>13.4</td>\n",
              "      <td>3.0</td>\n",
              "      <td>1.033333</td>\n",
              "      <td>1.081500</td>\n",
              "      <td>0.800000</td>\n",
              "      <td>0.005865</td>\n",
              "      <td>0.006596</td>\n",
              "      <td>1.0</td>\n",
              "      <td>0.0</td>\n",
              "    </tr>\n",
              "    <tr>\n",
              "      <th>852</th>\n",
              "      <td>1.682807</td>\n",
              "      <td>1.581756</td>\n",
              "      <td>1.656347</td>\n",
              "      <td>16.416667</td>\n",
              "      <td>17.3</td>\n",
              "      <td>6.1</td>\n",
              "      <td>-1.320000</td>\n",
              "      <td>1.123472</td>\n",
              "      <td>0.580000</td>\n",
              "      <td>0.827559</td>\n",
              "      <td>0.816065</td>\n",
              "      <td>1.0</td>\n",
              "      <td>0.0</td>\n",
              "    </tr>\n",
              "    <tr>\n",
              "      <th>818</th>\n",
              "      <td>2.506801</td>\n",
              "      <td>2.423197</td>\n",
              "      <td>2.470843</td>\n",
              "      <td>4.281818</td>\n",
              "      <td>7.6</td>\n",
              "      <td>0.5</td>\n",
              "      <td>-0.928571</td>\n",
              "      <td>1.139142</td>\n",
              "      <td>0.050000</td>\n",
              "      <td>0.567514</td>\n",
              "      <td>0.563533</td>\n",
              "      <td>0.1</td>\n",
              "      <td>0.0</td>\n",
              "    </tr>\n",
              "    <tr>\n",
              "      <th>792</th>\n",
              "      <td>2.012428</td>\n",
              "      <td>1.831080</td>\n",
              "      <td>1.997205</td>\n",
              "      <td>10.920000</td>\n",
              "      <td>12.2</td>\n",
              "      <td>4.5</td>\n",
              "      <td>3.916667</td>\n",
              "      <td>1.162347</td>\n",
              "      <td>0.916667</td>\n",
              "      <td>0.349870</td>\n",
              "      <td>0.358106</td>\n",
              "      <td>1.0</td>\n",
              "      <td>0.0</td>\n",
              "    </tr>\n",
              "    <tr>\n",
              "      <th>617</th>\n",
              "      <td>1.808983</td>\n",
              "      <td>1.733812</td>\n",
              "      <td>1.798843</td>\n",
              "      <td>22.780000</td>\n",
              "      <td>25.1</td>\n",
              "      <td>15.3</td>\n",
              "      <td>-0.525000</td>\n",
              "      <td>1.143276</td>\n",
              "      <td>0.508333</td>\n",
              "      <td>0.588427</td>\n",
              "      <td>0.583279</td>\n",
              "      <td>1.0</td>\n",
              "      <td>0.0</td>\n",
              "    </tr>\n",
              "  </tbody>\n",
              "</table>\n",
              "<p>809 rows × 13 columns</p>\n",
              "</div>"
            ],
            "text/plain": [
              "      max_hum   min_hum  relative_hum  ...        ws  max_sun_dur  min_sun_dur\n",
              "671  1.976260  1.826316      1.931624  ...  0.174140          1.0          0.0\n",
              "945  2.355201  2.113754      2.257099  ...  0.851103          1.0          0.0\n",
              "820  1.800470  1.657529      1.717880  ...  0.579337          0.4          0.0\n",
              "123  1.263235  1.210039      1.216482  ...  0.822614          1.0          0.0\n",
              "970  1.583814  1.521410      1.587759  ...  0.676417          1.0          0.0\n",
              "..        ...       ...           ...  ...       ...          ...          ...\n",
              "345  2.397397  2.262501      2.360193  ...  0.006596          1.0          0.0\n",
              "852  1.682807  1.581756      1.656347  ...  0.816065          1.0          0.0\n",
              "818  2.506801  2.423197      2.470843  ...  0.563533          0.1          0.0\n",
              "792  2.012428  1.831080      1.997205  ...  0.358106          1.0          0.0\n",
              "617  1.808983  1.733812      1.798843  ...  0.583279          1.0          0.0\n",
              "\n",
              "[809 rows x 13 columns]"
            ]
          },
          "metadata": {
            "tags": []
          },
          "execution_count": 8
        }
      ]
    },
    {
      "cell_type": "code",
      "metadata": {
        "id": "7PHbO5mAFD2J"
      },
      "source": [
        "knn_model = KNeighborsRegressor().fit(X_train, y_train)"
      ],
      "execution_count": null,
      "outputs": []
    },
    {
      "cell_type": "code",
      "metadata": {
        "colab": {
          "base_uri": "https://localhost:8080/"
        },
        "id": "UPbt5KijFD2K",
        "outputId": "876f030a-f468-428f-c908-3f68d713dc45"
      },
      "source": [
        "knn_model"
      ],
      "execution_count": null,
      "outputs": [
        {
          "output_type": "execute_result",
          "data": {
            "text/plain": [
              "KNeighborsRegressor(algorithm='auto', leaf_size=30, metric='minkowski',\n",
              "                    metric_params=None, n_jobs=None, n_neighbors=5, p=2,\n",
              "                    weights='uniform')"
            ]
          },
          "metadata": {
            "tags": []
          },
          "execution_count": 10
        }
      ]
    },
    {
      "cell_type": "code",
      "metadata": {
        "colab": {
          "base_uri": "https://localhost:8080/"
        },
        "id": "2ngSd0KFFD2K",
        "outputId": "e4fe2f8c-0a68-4916-953f-84b6efa10221"
      },
      "source": [
        "knn_model.n_neighbors"
      ],
      "execution_count": null,
      "outputs": [
        {
          "output_type": "execute_result",
          "data": {
            "text/plain": [
              "5"
            ]
          },
          "metadata": {
            "tags": []
          },
          "execution_count": 11
        }
      ]
    },
    {
      "cell_type": "code",
      "metadata": {
        "colab": {
          "base_uri": "https://localhost:8080/",
          "height": 35
        },
        "id": "luY-g-qIFD2L",
        "outputId": "c04d91c6-a328-4dee-c5fa-b78fa7c3ff9e"
      },
      "source": [
        "knn_model.effective_metric_"
      ],
      "execution_count": null,
      "outputs": [
        {
          "output_type": "execute_result",
          "data": {
            "application/vnd.google.colaboratory.intrinsic+json": {
              "type": "string"
            },
            "text/plain": [
              "'euclidean'"
            ]
          },
          "metadata": {
            "tags": []
          },
          "execution_count": 12
        }
      ]
    },
    {
      "cell_type": "markdown",
      "metadata": {
        "id": "hhoAI4-lFD2L"
      },
      "source": [
        "## Tahmin"
      ]
    },
    {
      "cell_type": "code",
      "metadata": {
        "id": "3YUFQwISFD2L"
      },
      "source": [
        "y_pred = knn_model.predict(X_test)"
      ],
      "execution_count": null,
      "outputs": []
    },
    {
      "cell_type": "code",
      "metadata": {
        "colab": {
          "base_uri": "https://localhost:8080/"
        },
        "id": "FRJdfRPRFD2M",
        "outputId": "4397ced1-6810-476e-e1ab-71c0515495f1"
      },
      "source": [
        "np.sqrt(mean_squared_error(y_test, y_pred))"
      ],
      "execution_count": null,
      "outputs": [
        {
          "output_type": "execute_result",
          "data": {
            "text/plain": [
              "1.4384931243794552"
            ]
          },
          "metadata": {
            "tags": []
          },
          "execution_count": 14
        }
      ]
    },
    {
      "cell_type": "code",
      "metadata": {
        "colab": {
          "base_uri": "https://localhost:8080/"
        },
        "id": "Zu-JCIroFD2M",
        "outputId": "8f4ea800-8cd3-49d3-d258-5c37a7bc8d4c"
      },
      "source": [
        "import numpy as np\n",
        "RMSE = [] \n",
        "MYRHO = []\n",
        "for k in range(10):\n",
        "    k = k+1\n",
        "    knn_model = KNeighborsRegressor(n_neighbors = k).fit(X_train, y_train)\n",
        "    y_pred = knn_model.predict(X_train) \n",
        "    rmse = np.sqrt(mean_squared_error(y_train,y_pred)) \n",
        "    my_rho = np.corrcoef(y_train, y_pred)\n",
        "    RMSE.append(rmse) \n",
        "    MYRHO.append(my_rho)\n",
        "    \n",
        "    #print(\"k =\" , k , \"için RMSE değeri: \", rmse)\n",
        "    print(\"k =\" , k , \"için R değeri: \", my_rho)"
      ],
      "execution_count": null,
      "outputs": [
        {
          "output_type": "stream",
          "text": [
            "k = 1 için R değeri:  [[1. 1.]\n",
            " [1. 1.]]\n",
            "k = 2 için R değeri:  [[1.         0.93761296]\n",
            " [0.93761296 1.        ]]\n",
            "k = 3 için R değeri:  [[1.         0.91393802]\n",
            " [0.91393802 1.        ]]\n",
            "k = 4 için R değeri:  [[1.         0.89940301]\n",
            " [0.89940301 1.        ]]\n",
            "k = 5 için R değeri:  [[1.         0.89210293]\n",
            " [0.89210293 1.        ]]\n",
            "k = 6 için R değeri:  [[1.         0.88514875]\n",
            " [0.88514875 1.        ]]\n",
            "k = 7 için R değeri:  [[1.         0.88300911]\n",
            " [0.88300911 1.        ]]\n",
            "k = 8 için R değeri:  [[1.        0.8803369]\n",
            " [0.8803369 1.       ]]\n",
            "k = 9 için R değeri:  [[1.         0.87937898]\n",
            " [0.87937898 1.        ]]\n",
            "k = 10 için R değeri:  [[1.        0.8762752]\n",
            " [0.8762752 1.       ]]\n"
          ],
          "name": "stdout"
        }
      ]
    },
    {
      "cell_type": "markdown",
      "metadata": {
        "id": "zmMU5TGRFD2M"
      },
      "source": [
        "## Model Tuning"
      ]
    },
    {
      "cell_type": "code",
      "metadata": {
        "id": "Mq-LcolhFD2N"
      },
      "source": [
        "from sklearn.model_selection import GridSearchCV"
      ],
      "execution_count": null,
      "outputs": []
    },
    {
      "cell_type": "code",
      "metadata": {
        "id": "cSyLrOQgFD2N"
      },
      "source": [
        "knn_params = {'n_neighbors': np.arange(1,30,1)}"
      ],
      "execution_count": null,
      "outputs": []
    },
    {
      "cell_type": "code",
      "metadata": {
        "id": "VjbtsSpvFD2N"
      },
      "source": [
        "knn = KNeighborsRegressor()"
      ],
      "execution_count": null,
      "outputs": []
    },
    {
      "cell_type": "code",
      "metadata": {
        "id": "RqE8iwpwFD2N"
      },
      "source": [
        "knn_cv_model = GridSearchCV(knn, knn_params, cv = 10)"
      ],
      "execution_count": null,
      "outputs": []
    },
    {
      "cell_type": "code",
      "metadata": {
        "colab": {
          "base_uri": "https://localhost:8080/"
        },
        "id": "xhKFL2pnFD2O",
        "outputId": "dd466fa9-0c0c-4ea9-f90e-27ace8a2b3c1"
      },
      "source": [
        "knn_cv_model.fit(X_train, y_train)"
      ],
      "execution_count": null,
      "outputs": [
        {
          "output_type": "execute_result",
          "data": {
            "text/plain": [
              "GridSearchCV(cv=10, error_score=nan,\n",
              "             estimator=KNeighborsRegressor(algorithm='auto', leaf_size=30,\n",
              "                                           metric='minkowski',\n",
              "                                           metric_params=None, n_jobs=None,\n",
              "                                           n_neighbors=5, p=2,\n",
              "                                           weights='uniform'),\n",
              "             iid='deprecated', n_jobs=None,\n",
              "             param_grid={'n_neighbors': array([ 1,  2,  3,  4,  5,  6,  7,  8,  9, 10, 11, 12, 13, 14, 15, 16, 17,\n",
              "       18, 19, 20, 21, 22, 23, 24, 25, 26, 27, 28, 29])},\n",
              "             pre_dispatch='2*n_jobs', refit=True, return_train_score=False,\n",
              "             scoring=None, verbose=0)"
            ]
          },
          "metadata": {
            "tags": []
          },
          "execution_count": 20
        }
      ]
    },
    {
      "cell_type": "code",
      "metadata": {
        "colab": {
          "base_uri": "https://localhost:8080/"
        },
        "id": "AMNytqUDFD2O",
        "outputId": "95880100-f232-4024-a9b3-6e123b08d15c"
      },
      "source": [
        "knn_cv_model.best_params_[\"n_neighbors\"]"
      ],
      "execution_count": null,
      "outputs": [
        {
          "output_type": "execute_result",
          "data": {
            "text/plain": [
              "11"
            ]
          },
          "metadata": {
            "tags": []
          },
          "execution_count": 21
        }
      ]
    },
    {
      "cell_type": "code",
      "metadata": {
        "colab": {
          "base_uri": "https://localhost:8080/"
        },
        "id": "LlQPk1DpFD2O",
        "outputId": "45652ab7-9d61-451c-82a3-584b7055ff11"
      },
      "source": [
        "RMSE = [] \n",
        "RMSE_CV = []\n",
        "for k in range(30):\n",
        "    k = k+1\n",
        "    knn_model = KNeighborsRegressor(n_neighbors = k).fit(X_train, y_train)\n",
        "    y_pred = knn_model.predict(X_train) \n",
        "    rmse = np.sqrt(mean_squared_error(y_train,y_pred)) \n",
        "    rmse_cv = np.sqrt(-1*cross_val_score(knn_model, X_train, y_train, cv=10, \n",
        "                                         scoring = \"neg_mean_squared_error\").mean())\n",
        "    RMSE.append(rmse) \n",
        "    RMSE_CV.append(rmse_cv)\n",
        "    print(\"k=\",k, \"için RMSE_CV değeri: \", rmse_cv )\n"
      ],
      "execution_count": null,
      "outputs": [
        {
          "output_type": "stream",
          "text": [
            "k= 1 için RMSE_CV değeri:  1.6710838823449066\n",
            "k= 2 için RMSE_CV değeri:  1.468607543210163\n",
            "k= 3 için RMSE_CV değeri:  1.3777078927018918\n",
            "k= 4 için RMSE_CV değeri:  1.3427682847313676\n",
            "k= 5 için RMSE_CV değeri:  1.3143117014533086\n",
            "k= 6 için RMSE_CV değeri:  1.297987691181412\n",
            "k= 7 için RMSE_CV değeri:  1.287791316128394\n",
            "k= 8 için RMSE_CV değeri:  1.276901744033135\n",
            "k= 9 için RMSE_CV değeri:  1.2721666311243562\n",
            "k= 10 için RMSE_CV değeri:  1.2720470333065932\n",
            "k= 11 için RMSE_CV değeri:  1.2698384376741991\n",
            "k= 12 için RMSE_CV değeri:  1.2773740140500411\n",
            "k= 13 için RMSE_CV değeri:  1.2784136975547689\n",
            "k= 14 için RMSE_CV değeri:  1.273954621587463\n",
            "k= 15 için RMSE_CV değeri:  1.2819636631407585\n",
            "k= 16 için RMSE_CV değeri:  1.2861868026300787\n",
            "k= 17 için RMSE_CV değeri:  1.2896802383595485\n",
            "k= 18 için RMSE_CV değeri:  1.2903712941995384\n",
            "k= 19 için RMSE_CV değeri:  1.2954287703814182\n",
            "k= 20 için RMSE_CV değeri:  1.3001247622633578\n",
            "k= 21 için RMSE_CV değeri:  1.301536361736242\n",
            "k= 22 için RMSE_CV değeri:  1.303588269646949\n",
            "k= 23 için RMSE_CV değeri:  1.3050954040081357\n",
            "k= 24 için RMSE_CV değeri:  1.3033477396947963\n",
            "k= 25 için RMSE_CV değeri:  1.30654276541434\n",
            "k= 26 için RMSE_CV değeri:  1.3105067065766085\n",
            "k= 27 için RMSE_CV değeri:  1.3129214924209278\n",
            "k= 28 için RMSE_CV değeri:  1.312378582047583\n",
            "k= 29 için RMSE_CV değeri:  1.3124270917170535\n",
            "k= 30 için RMSE_CV değeri:  1.31105358950184\n"
          ],
          "name": "stdout"
        }
      ]
    },
    {
      "cell_type": "code",
      "metadata": {
        "id": "1716bs1NFD2P"
      },
      "source": [
        "knn_tuned = KNeighborsRegressor(n_neighbors = knn_cv_model.best_params_[\"n_neighbors\"])"
      ],
      "execution_count": null,
      "outputs": []
    },
    {
      "cell_type": "code",
      "metadata": {
        "colab": {
          "base_uri": "https://localhost:8080/"
        },
        "id": "41ba470WFD2P",
        "outputId": "478b75eb-de1d-452a-e17a-c06b446e9a9a"
      },
      "source": [
        "knn_tuned.fit(X_train, y_train)"
      ],
      "execution_count": null,
      "outputs": [
        {
          "output_type": "execute_result",
          "data": {
            "text/plain": [
              "KNeighborsRegressor(algorithm='auto', leaf_size=30, metric='minkowski',\n",
              "                    metric_params=None, n_jobs=None, n_neighbors=11, p=2,\n",
              "                    weights='uniform')"
            ]
          },
          "metadata": {
            "tags": []
          },
          "execution_count": 83
        }
      ]
    },
    {
      "cell_type": "code",
      "metadata": {
        "colab": {
          "base_uri": "https://localhost:8080/"
        },
        "id": "4BTV4QLiFD2P",
        "outputId": "c7b47fac-4404-4b73-b277-9aca1d6dc3b0"
      },
      "source": [
        "np.sqrt(mean_squared_error(y_test, knn_tuned.predict(X_test)))"
      ],
      "execution_count": null,
      "outputs": [
        {
          "output_type": "execute_result",
          "data": {
            "text/plain": [
              "1.4236525136916403"
            ]
          },
          "metadata": {
            "tags": []
          },
          "execution_count": 84
        }
      ]
    },
    {
      "cell_type": "code",
      "metadata": {
        "colab": {
          "base_uri": "https://localhost:8080/"
        },
        "id": "d84vT876IqZz",
        "outputId": "5cf872c6-0216-490b-a4be-d3a14e032c9b"
      },
      "source": [
        "len(y_pred)"
      ],
      "execution_count": null,
      "outputs": [
        {
          "output_type": "execute_result",
          "data": {
            "text/plain": [
              "809"
            ]
          },
          "metadata": {
            "tags": []
          },
          "execution_count": 161
        }
      ]
    },
    {
      "cell_type": "code",
      "metadata": {
        "colab": {
          "base_uri": "https://localhost:8080/"
        },
        "id": "Ux3OxdX0InIV",
        "outputId": "641710e9-71a1-4fc8-ba7d-9ac622f2c463"
      },
      "source": [
        "len(y_test)"
      ],
      "execution_count": null,
      "outputs": [
        {
          "output_type": "execute_result",
          "data": {
            "text/plain": [
              "270"
            ]
          },
          "metadata": {
            "tags": []
          },
          "execution_count": 164
        }
      ]
    },
    {
      "cell_type": "code",
      "metadata": {
        "colab": {
          "base_uri": "https://localhost:8080/"
        },
        "id": "9aS2ecT3IVq-",
        "outputId": "a4160e86-c57e-4f85-ab7b-846ac5edb5ce"
      },
      "source": [
        "mape = np.mean(np.abs((y_test - knn_tuned.predict(X_test))/y_test))*100\n",
        "mape"
      ],
      "execution_count": null,
      "outputs": [
        {
          "output_type": "execute_result",
          "data": {
            "text/plain": [
              "27.88511763630655"
            ]
          },
          "metadata": {
            "tags": []
          },
          "execution_count": 85
        }
      ]
    },
    {
      "cell_type": "code",
      "metadata": {
        "colab": {
          "base_uri": "https://localhost:8080/"
        },
        "id": "16jyeGYUIViN",
        "outputId": "22023f44-c78a-4e17-808e-4314f5d456bb"
      },
      "source": [
        "rmspe = np.sqrt(np.mean(np.square(((y_test - knn_tuned.predict(X_test)) / y_test)), axis=0))*100\n",
        "rmspe"
      ],
      "execution_count": null,
      "outputs": [
        {
          "output_type": "execute_result",
          "data": {
            "text/plain": [
              "44.19433831400048"
            ]
          },
          "metadata": {
            "tags": []
          },
          "execution_count": 86
        }
      ]
    },
    {
      "cell_type": "code",
      "metadata": {
        "id": "LE2Ken9qLvdh"
      },
      "source": [
        "Y_train_knn = scaler1.inverse_transform([y_train])\n",
        "\n",
        "Y_test_knn = scaler1.inverse_transform([y_test])\n",
        "\n",
        "Y_pred_knn= scaler1.inverse_transform([y_pred])"
      ],
      "execution_count": null,
      "outputs": []
    },
    {
      "cell_type": "code",
      "metadata": {
        "colab": {
          "base_uri": "https://localhost:8080/",
          "height": 129
        },
        "id": "7_dGbKL8OURC",
        "outputId": "ee4c17c6-65d4-47ab-c867-dbb3ccc98528"
      },
      "source": [
        "Y_pred_knn_duz"
      ],
      "execution_count": null,
      "outputs": [
        {
          "output_type": "execute_result",
          "data": {
            "text/html": [
              "<div>\n",
              "<style scoped>\n",
              "    .dataframe tbody tr th:only-of-type {\n",
              "        vertical-align: middle;\n",
              "    }\n",
              "\n",
              "    .dataframe tbody tr th {\n",
              "        vertical-align: top;\n",
              "    }\n",
              "\n",
              "    .dataframe thead th {\n",
              "        text-align: right;\n",
              "    }\n",
              "</style>\n",
              "<table border=\"1\" class=\"dataframe\">\n",
              "  <thead>\n",
              "    <tr style=\"text-align: right;\">\n",
              "      <th></th>\n",
              "      <th>0</th>\n",
              "      <th>1</th>\n",
              "      <th>2</th>\n",
              "      <th>3</th>\n",
              "      <th>4</th>\n",
              "      <th>5</th>\n",
              "      <th>6</th>\n",
              "      <th>7</th>\n",
              "      <th>8</th>\n",
              "      <th>9</th>\n",
              "      <th>10</th>\n",
              "      <th>11</th>\n",
              "      <th>12</th>\n",
              "      <th>13</th>\n",
              "      <th>14</th>\n",
              "      <th>15</th>\n",
              "      <th>16</th>\n",
              "      <th>17</th>\n",
              "      <th>18</th>\n",
              "      <th>19</th>\n",
              "      <th>20</th>\n",
              "      <th>21</th>\n",
              "      <th>22</th>\n",
              "      <th>23</th>\n",
              "      <th>24</th>\n",
              "      <th>25</th>\n",
              "      <th>26</th>\n",
              "      <th>27</th>\n",
              "      <th>28</th>\n",
              "      <th>29</th>\n",
              "      <th>30</th>\n",
              "      <th>31</th>\n",
              "      <th>32</th>\n",
              "      <th>33</th>\n",
              "      <th>34</th>\n",
              "      <th>35</th>\n",
              "      <th>36</th>\n",
              "      <th>37</th>\n",
              "      <th>38</th>\n",
              "      <th>39</th>\n",
              "      <th>...</th>\n",
              "      <th>769</th>\n",
              "      <th>770</th>\n",
              "      <th>771</th>\n",
              "      <th>772</th>\n",
              "      <th>773</th>\n",
              "      <th>774</th>\n",
              "      <th>775</th>\n",
              "      <th>776</th>\n",
              "      <th>777</th>\n",
              "      <th>778</th>\n",
              "      <th>779</th>\n",
              "      <th>780</th>\n",
              "      <th>781</th>\n",
              "      <th>782</th>\n",
              "      <th>783</th>\n",
              "      <th>784</th>\n",
              "      <th>785</th>\n",
              "      <th>786</th>\n",
              "      <th>787</th>\n",
              "      <th>788</th>\n",
              "      <th>789</th>\n",
              "      <th>790</th>\n",
              "      <th>791</th>\n",
              "      <th>792</th>\n",
              "      <th>793</th>\n",
              "      <th>794</th>\n",
              "      <th>795</th>\n",
              "      <th>796</th>\n",
              "      <th>797</th>\n",
              "      <th>798</th>\n",
              "      <th>799</th>\n",
              "      <th>800</th>\n",
              "      <th>801</th>\n",
              "      <th>802</th>\n",
              "      <th>803</th>\n",
              "      <th>804</th>\n",
              "      <th>805</th>\n",
              "      <th>806</th>\n",
              "      <th>807</th>\n",
              "      <th>808</th>\n",
              "    </tr>\n",
              "  </thead>\n",
              "  <tbody>\n",
              "    <tr>\n",
              "      <th>0</th>\n",
              "      <td>3554.326833</td>\n",
              "      <td>7040.122111</td>\n",
              "      <td>3369.777333</td>\n",
              "      <td>5336.842056</td>\n",
              "      <td>7363.287778</td>\n",
              "      <td>6110.073111</td>\n",
              "      <td>4917.5095</td>\n",
              "      <td>7299.333333</td>\n",
              "      <td>5997.570389</td>\n",
              "      <td>6680.761222</td>\n",
              "      <td>6226.283611</td>\n",
              "      <td>3661.924833</td>\n",
              "      <td>2356.9195</td>\n",
              "      <td>6987.385278</td>\n",
              "      <td>3595.8145</td>\n",
              "      <td>6146.4125</td>\n",
              "      <td>1695.777778</td>\n",
              "      <td>1565.405944</td>\n",
              "      <td>1868.909778</td>\n",
              "      <td>5899.507389</td>\n",
              "      <td>2216.150167</td>\n",
              "      <td>7330.280278</td>\n",
              "      <td>7633.6635</td>\n",
              "      <td>4226.487333</td>\n",
              "      <td>1528.687833</td>\n",
              "      <td>3401.811333</td>\n",
              "      <td>4884.023722</td>\n",
              "      <td>2723.017</td>\n",
              "      <td>4076.113722</td>\n",
              "      <td>6690.672667</td>\n",
              "      <td>4166.995556</td>\n",
              "      <td>1616.202111</td>\n",
              "      <td>3134.2405</td>\n",
              "      <td>6768.309056</td>\n",
              "      <td>3358.1625</td>\n",
              "      <td>6909.436389</td>\n",
              "      <td>2734.968833</td>\n",
              "      <td>2627.389556</td>\n",
              "      <td>2691.356278</td>\n",
              "      <td>6271.128278</td>\n",
              "      <td>...</td>\n",
              "      <td>5253.021556</td>\n",
              "      <td>2922.923</td>\n",
              "      <td>6974.365611</td>\n",
              "      <td>1897.090444</td>\n",
              "      <td>7164.521167</td>\n",
              "      <td>3366.702222</td>\n",
              "      <td>1844.904722</td>\n",
              "      <td>7343.217389</td>\n",
              "      <td>2691.541778</td>\n",
              "      <td>2695.693889</td>\n",
              "      <td>3540.789056</td>\n",
              "      <td>7247.496389</td>\n",
              "      <td>5774.761278</td>\n",
              "      <td>7348.646444</td>\n",
              "      <td>3661.564278</td>\n",
              "      <td>3689.767222</td>\n",
              "      <td>7100.328389</td>\n",
              "      <td>7242.590056</td>\n",
              "      <td>7320.967444</td>\n",
              "      <td>6228.309722</td>\n",
              "      <td>6449.654389</td>\n",
              "      <td>3088.792556</td>\n",
              "      <td>3392.577722</td>\n",
              "      <td>4906.094833</td>\n",
              "      <td>6104.975333</td>\n",
              "      <td>4550.064333</td>\n",
              "      <td>7461.814389</td>\n",
              "      <td>4855.736167</td>\n",
              "      <td>3068.021833</td>\n",
              "      <td>2175.083167</td>\n",
              "      <td>6529.107333</td>\n",
              "      <td>3064.582722</td>\n",
              "      <td>7645.038944</td>\n",
              "      <td>7313.402944</td>\n",
              "      <td>6790.248944</td>\n",
              "      <td>2288.023389</td>\n",
              "      <td>5047.543833</td>\n",
              "      <td>2182.765611</td>\n",
              "      <td>2892.291944</td>\n",
              "      <td>5889.544722</td>\n",
              "    </tr>\n",
              "  </tbody>\n",
              "</table>\n",
              "<p>1 rows × 809 columns</p>\n",
              "</div>"
            ],
            "text/plain": [
              "           0            1            2    ...          806          807          808\n",
              "0  3554.326833  7040.122111  3369.777333  ...  2182.765611  2892.291944  5889.544722\n",
              "\n",
              "[1 rows x 809 columns]"
            ]
          },
          "metadata": {
            "tags": []
          },
          "execution_count": 181
        }
      ]
    },
    {
      "cell_type": "code",
      "metadata": {
        "id": "MGrQGIJB2hIp"
      },
      "source": [
        "Y_pred_knn_duz= pd.DataFrame(Y_pred_knn)\n",
        "Y_pred_knn_duz.to_excel(\"/content/drive/MyDrive/pred_duz_knn.xlsx\")"
      ],
      "execution_count": null,
      "outputs": []
    },
    {
      "cell_type": "code",
      "metadata": {
        "id": "rgtZG6azOmS1"
      },
      "source": [
        "y_pred_knn= pd.DataFrame(y_pred)\n",
        "y_pred_knn.to_excel(\"/content/drive/MyDrive/y_pred_knn.xlsx\")"
      ],
      "execution_count": null,
      "outputs": []
    },
    {
      "cell_type": "code",
      "metadata": {
        "id": "cZJ4lhOaOmGK"
      },
      "source": [
        "tahmin= scaler1.inverse_transform([knn_tuned.predict(X_test)])"
      ],
      "execution_count": null,
      "outputs": []
    },
    {
      "cell_type": "code",
      "metadata": {
        "colab": {
          "base_uri": "https://localhost:8080/"
        },
        "id": "MJC9yXloL_k7",
        "outputId": "22368578-45fa-4aa3-d6f5-08d7799d719d"
      },
      "source": [
        "Y_test"
      ],
      "execution_count": null,
      "outputs": [
        {
          "output_type": "execute_result",
          "data": {
            "text/plain": [
              "array([[5120.        , 2590.        , 1850.        , 7670.        ,\n",
              "        5970.        , 4670.        , 7856.795     , 8480.        ,\n",
              "        4730.        , 6350.40833333, 3030.        , 1920.27333333,\n",
              "        3890.        , 8540.        , 1730.        , 4490.        ,\n",
              "        8825.58666667, 2600.        , 7230.        , 1770.        ,\n",
              "        7970.        , 6330.71      , 6801.14833333, 7620.        ,\n",
              "        6734.14166667, 6780.        , 3070.        , 8342.02166667,\n",
              "        7753.38      , 3231.01166667, 1380.        , 5420.        ,\n",
              "        4140.        ,  890.        ,  920.        , 3300.        ,\n",
              "        3540.        , 5690.        , 1330.        , 2850.        ,\n",
              "        1880.        , 6800.        , 8137.015     , 4210.        ,\n",
              "        8138.63833333,  550.        , 4940.        , 3690.        ,\n",
              "        8655.30166667, 7932.98333333, 6240.        , 6510.        ,\n",
              "        8180.        , 7565.33166667, 8330.        , 3510.        ,\n",
              "        6650.        , 4170.        ,  620.        ,  692.78833334,\n",
              "        7040.        , 4230.015     , 5870.        , 1170.        ,\n",
              "        4050.        , 5630.        , 8371.37      , 3138.07166667,\n",
              "        2690.        , 2200.        , 4580.        , 4238.94833333,\n",
              "        7850.        , 6290.        , 8050.        , 3920.        ,\n",
              "        4030.        , 4060.        , 4750.        , 3380.        ,\n",
              "        7900.        , 3780.        , 2940.        , 7700.        ,\n",
              "        4070.        , 8540.        , 3948.285     , 5180.        ,\n",
              "        7460.        , 6540.        , 3930.        , 2428.53      ,\n",
              "        8061.84333333, 7950.77333333, 5860.        , 6600.        ,\n",
              "        5970.        , 2820.        , 7370.        , 8270.        ,\n",
              "        2800.        , 6840.        , 6750.        , 3100.        ,\n",
              "        7590.        ,  600.        , 4870.        , 6500.        ,\n",
              "         977.21166667, 3140.        , 8782.27166667, 4370.        ,\n",
              "        7900.        , 2440.        , 3260.        , 3570.        ,\n",
              "        1610.        , 8160.        , 3440.        , 1490.        ,\n",
              "        6807.96      , 7634.74166667, 2810.        , 2680.        ,\n",
              "        3920.        , 6410.        , 2630.        , 6350.        ,\n",
              "        5940.12833333, 3100.        , 8320.        , 5020.        ,\n",
              "        6150.        , 8240.        , 9076.655     , 3830.        ,\n",
              "        7870.        ,  770.        , 8182.81      , 3550.        ,\n",
              "         400.        , 1290.        , 2050.        , 7370.        ,\n",
              "        8527.42      , 7950.        , 1770.        , 6612.56666667,\n",
              "        7130.        , 5274.70166667, 7030.        , 6420.        ,\n",
              "        2060.        ,  510.        , 1621.84833333, 3560.54666666,\n",
              "        5900.        , 6480.        ,  820.        , 5740.        ,\n",
              "        3500.        , 2510.        , 3890.        , 8970.355     ,\n",
              "        1530.        , 6346.72666667, 2510.        , 4571.76833333,\n",
              "        2510.        , 2030.        , 1450.        ,  750.        ,\n",
              "        5130.        , 7840.        , 1520.        , 4095.41833333,\n",
              "        7040.        , 5689.49333333,  370.        ,  730.        ,\n",
              "        7424.11333333, 7980.        , 4910.        , 3390.        ,\n",
              "        2740.        , 4649.54333333, 5850.        , 6340.        ,\n",
              "        3100.        , 7850.        , 8070.        ,  600.        ,\n",
              "        2230.        , 7460.        , 3490.        , 1510.        ,\n",
              "        2350.        , 2170.        , 2210.        , 3200.        ,\n",
              "        7730.        , 3630.        , 2240.        ,  580.        ,\n",
              "        8598.24166667, 7390.        , 6170.        , 2910.        ,\n",
              "         690.        , 5390.        , 5270.        , 7240.        ,\n",
              "        8240.        , 5374.07      , 6859.20833333, 6560.        ,\n",
              "        3290.        , 3660.        ,  720.        , 2390.        ,\n",
              "        6530.        ,  530.        , 4160.        , 4360.        ,\n",
              "        4730.        , 6620.        , 3559.83      , 1500.        ,\n",
              "        6900.        , 4747.28333333, 3730.        ,  820.        ,\n",
              "        2250.        , 7040.        , 2170.        , 5560.        ,\n",
              "        6536.28      , 3640.        , 6355.55166667, 4880.        ,\n",
              "        6550.        , 7140.        ,  280.        , 8360.10333333,\n",
              "        1650.        , 6760.        , 7400.        , 8400.        ,\n",
              "        7350.        , 2950.        , 5589.90666667, 2376.33      ,\n",
              "        3800.        , 8640.        , 3330.        , 7490.        ,\n",
              "        1790.        , 4630.        , 4712.49166667, 4680.        ,\n",
              "        4530.        , 3760.        , 2710.        , 1420.        ,\n",
              "        6550.        , 2900.        , 5024.485     , 1790.        ,\n",
              "        5570.        , 7990.        ]])"
            ]
          },
          "metadata": {
            "tags": []
          },
          "execution_count": 41
        }
      ]
    },
    {
      "cell_type": "code",
      "metadata": {
        "colab": {
          "base_uri": "https://localhost:8080/",
          "height": 313
        },
        "id": "TNaWNF5YIVSe",
        "outputId": "4a6d51ee-a875-48a6-e87a-ac5f313da4fe"
      },
      "source": [
        "plt.scatter(Y_test_knn,tahmin, color=\"r\")\n",
        "plt.xlabel(\"Gözlem Değerleri\")\n",
        "plt.ylabel(\"Model Değerleri\")\n",
        "plt.title(\"k En Yakın Komşu Algoritması\")\n",
        "plt.legend()\n",
        "plt.show()"
      ],
      "execution_count": null,
      "outputs": [
        {
          "output_type": "stream",
          "text": [
            "No handles with labels found to put in legend.\n"
          ],
          "name": "stderr"
        },
        {
          "output_type": "display_data",
          "data": {
            "image/png": "[encoded data removed]",
            "text/plain": [
              "<Figure size 432x288 with 1 Axes>"
            ]
          },
          "metadata": {
            "tags": [],
            "needs_background": "light"
          }
        }
      ]
    },
    {
      "cell_type": "markdown",
      "metadata": {
        "id": "Kh0rltsIFD2v"
      },
      "source": [
        "# Random Forests"
      ]
    },
    {
      "cell_type": "code",
      "metadata": {
        "colab": {
          "base_uri": "https://localhost:8080/",
          "height": 419
        },
        "id": "mhr4di_VsXyS",
        "outputId": "87bd859c-1c6f-4623-8cb6-12afae5c2124"
      },
      "source": [
        "data"
      ],
      "execution_count": null,
      "outputs": [
        {
          "output_type": "execute_result",
          "data": {
            "text/html": [
              "<div>\n",
              "<style scoped>\n",
              "    .dataframe tbody tr th:only-of-type {\n",
              "        vertical-align: middle;\n",
              "    }\n",
              "\n",
              "    .dataframe tbody tr th {\n",
              "        vertical-align: top;\n",
              "    }\n",
              "\n",
              "    .dataframe thead th {\n",
              "        text-align: right;\n",
              "    }\n",
              "</style>\n",
              "<table border=\"1\" class=\"dataframe\">\n",
              "  <thead>\n",
              "    <tr style=\"text-align: right;\">\n",
              "      <th></th>\n",
              "      <th>radiation</th>\n",
              "      <th>max_hum</th>\n",
              "      <th>min_hum</th>\n",
              "      <th>relative_hum</th>\n",
              "      <th>temp</th>\n",
              "      <th>max_temp</th>\n",
              "      <th>min_temp</th>\n",
              "      <th>dew_point</th>\n",
              "      <th>wind_mag</th>\n",
              "      <th>sun_dur</th>\n",
              "      <th>zenith</th>\n",
              "      <th>ws</th>\n",
              "      <th>max_sun_dur</th>\n",
              "      <th>min_sun_dur</th>\n",
              "    </tr>\n",
              "  </thead>\n",
              "  <tbody>\n",
              "    <tr>\n",
              "      <th>0</th>\n",
              "      <td>2.039274</td>\n",
              "      <td>2.811136</td>\n",
              "      <td>2.749504</td>\n",
              "      <td>2.773108</td>\n",
              "      <td>-3.255556</td>\n",
              "      <td>-2.8</td>\n",
              "      <td>-3.8</td>\n",
              "      <td>-5.188889</td>\n",
              "      <td>1.057050</td>\n",
              "      <td>0.000000</td>\n",
              "      <td>0.009682</td>\n",
              "      <td>0.010874</td>\n",
              "      <td>0.0</td>\n",
              "      <td>0.0</td>\n",
              "    </tr>\n",
              "    <tr>\n",
              "      <th>1</th>\n",
              "      <td>2.850904</td>\n",
              "      <td>2.134358</td>\n",
              "      <td>2.024293</td>\n",
              "      <td>2.111904</td>\n",
              "      <td>-5.188889</td>\n",
              "      <td>-4.0</td>\n",
              "      <td>-7.2</td>\n",
              "      <td>-14.444444</td>\n",
              "      <td>1.132029</td>\n",
              "      <td>0.855556</td>\n",
              "      <td>0.011471</td>\n",
              "      <td>0.012875</td>\n",
              "      <td>1.0</td>\n",
              "      <td>0.0</td>\n",
              "    </tr>\n",
              "    <tr>\n",
              "      <th>2</th>\n",
              "      <td>2.069710</td>\n",
              "      <td>1.304139</td>\n",
              "      <td>1.277909</td>\n",
              "      <td>1.307663</td>\n",
              "      <td>-3.500000</td>\n",
              "      <td>-2.8</td>\n",
              "      <td>-5.2</td>\n",
              "      <td>-4.588889</td>\n",
              "      <td>1.024450</td>\n",
              "      <td>0.122222</td>\n",
              "      <td>0.013410</td>\n",
              "      <td>0.015040</td>\n",
              "      <td>0.6</td>\n",
              "      <td>0.0</td>\n",
              "    </tr>\n",
              "    <tr>\n",
              "      <th>3</th>\n",
              "      <td>3.205992</td>\n",
              "      <td>2.391917</td>\n",
              "      <td>2.175158</td>\n",
              "      <td>2.265735</td>\n",
              "      <td>-5.733333</td>\n",
              "      <td>-0.4</td>\n",
              "      <td>-11.9</td>\n",
              "      <td>4.777778</td>\n",
              "      <td>1.083130</td>\n",
              "      <td>0.111111</td>\n",
              "      <td>0.015497</td>\n",
              "      <td>0.017368</td>\n",
              "      <td>0.6</td>\n",
              "      <td>0.0</td>\n",
              "    </tr>\n",
              "    <tr>\n",
              "      <th>4</th>\n",
              "      <td>2.150873</td>\n",
              "      <td>1.474019</td>\n",
              "      <td>1.299083</td>\n",
              "      <td>1.410217</td>\n",
              "      <td>6.366667</td>\n",
              "      <td>7.9</td>\n",
              "      <td>4.3</td>\n",
              "      <td>2.644444</td>\n",
              "      <td>1.254279</td>\n",
              "      <td>0.200000</td>\n",
              "      <td>0.017731</td>\n",
              "      <td>0.019856</td>\n",
              "      <td>0.9</td>\n",
              "      <td>0.0</td>\n",
              "    </tr>\n",
              "    <tr>\n",
              "      <th>...</th>\n",
              "      <td>...</td>\n",
              "      <td>...</td>\n",
              "      <td>...</td>\n",
              "      <td>...</td>\n",
              "      <td>...</td>\n",
              "      <td>...</td>\n",
              "      <td>...</td>\n",
              "      <td>...</td>\n",
              "      <td>...</td>\n",
              "      <td>...</td>\n",
              "      <td>...</td>\n",
              "      <td>...</td>\n",
              "      <td>...</td>\n",
              "      <td>...</td>\n",
              "    </tr>\n",
              "    <tr>\n",
              "      <th>1090</th>\n",
              "      <td>1.308807</td>\n",
              "      <td>2.646736</td>\n",
              "      <td>2.543057</td>\n",
              "      <td>2.616578</td>\n",
              "      <td>3.688889</td>\n",
              "      <td>4.6</td>\n",
              "      <td>2.3</td>\n",
              "      <td>-0.588889</td>\n",
              "      <td>1.363488</td>\n",
              "      <td>0.000000</td>\n",
              "      <td>0.002994</td>\n",
              "      <td>0.003370</td>\n",
              "      <td>0.0</td>\n",
              "      <td>0.0</td>\n",
              "    </tr>\n",
              "    <tr>\n",
              "      <th>1091</th>\n",
              "      <td>1.440697</td>\n",
              "      <td>2.668656</td>\n",
              "      <td>2.588052</td>\n",
              "      <td>2.597687</td>\n",
              "      <td>2.666667</td>\n",
              "      <td>3.7</td>\n",
              "      <td>1.4</td>\n",
              "      <td>0.650000</td>\n",
              "      <td>1.040750</td>\n",
              "      <td>0.000000</td>\n",
              "      <td>0.004028</td>\n",
              "      <td>0.004533</td>\n",
              "      <td>0.0</td>\n",
              "      <td>0.0</td>\n",
              "    </tr>\n",
              "    <tr>\n",
              "      <th>1092</th>\n",
              "      <td>1.389970</td>\n",
              "      <td>2.849839</td>\n",
              "      <td>2.816665</td>\n",
              "      <td>2.838217</td>\n",
              "      <td>2.300000</td>\n",
              "      <td>2.8</td>\n",
              "      <td>0.9</td>\n",
              "      <td>0.177778</td>\n",
              "      <td>1.042787</td>\n",
              "      <td>0.000000</td>\n",
              "      <td>0.005215</td>\n",
              "      <td>0.005866</td>\n",
              "      <td>0.0</td>\n",
              "      <td>0.0</td>\n",
              "    </tr>\n",
              "    <tr>\n",
              "      <th>1093</th>\n",
              "      <td>1.562441</td>\n",
              "      <td>2.356297</td>\n",
              "      <td>2.183099</td>\n",
              "      <td>2.281928</td>\n",
              "      <td>6.122222</td>\n",
              "      <td>8.9</td>\n",
              "      <td>4.2</td>\n",
              "      <td>1.160000</td>\n",
              "      <td>1.368378</td>\n",
              "      <td>0.000000</td>\n",
              "      <td>0.006553</td>\n",
              "      <td>0.007368</td>\n",
              "      <td>0.0</td>\n",
              "      <td>0.0</td>\n",
              "    </tr>\n",
              "    <tr>\n",
              "      <th>1094</th>\n",
              "      <td>3.429190</td>\n",
              "      <td>2.526177</td>\n",
              "      <td>2.457567</td>\n",
              "      <td>2.502419</td>\n",
              "      <td>5.522222</td>\n",
              "      <td>6.7</td>\n",
              "      <td>3.4</td>\n",
              "      <td>0.950000</td>\n",
              "      <td>1.074980</td>\n",
              "      <td>0.070000</td>\n",
              "      <td>0.008042</td>\n",
              "      <td>0.009037</td>\n",
              "      <td>0.4</td>\n",
              "      <td>0.0</td>\n",
              "    </tr>\n",
              "  </tbody>\n",
              "</table>\n",
              "<p>1079 rows × 14 columns</p>\n",
              "</div>"
            ],
            "text/plain": [
              "      radiation   max_hum   min_hum  ...        ws  max_sun_dur  min_sun_dur\n",
              "0      2.039274  2.811136  2.749504  ...  0.010874          0.0          0.0\n",
              "1      2.850904  2.134358  2.024293  ...  0.012875          1.0          0.0\n",
              "2      2.069710  1.304139  1.277909  ...  0.015040          0.6          0.0\n",
              "3      3.205992  2.391917  2.175158  ...  0.017368          0.6          0.0\n",
              "4      2.150873  1.474019  1.299083  ...  0.019856          0.9          0.0\n",
              "...         ...       ...       ...  ...       ...          ...          ...\n",
              "1090   1.308807  2.646736  2.543057  ...  0.003370          0.0          0.0\n",
              "1091   1.440697  2.668656  2.588052  ...  0.004533          0.0          0.0\n",
              "1092   1.389970  2.849839  2.816665  ...  0.005866          0.0          0.0\n",
              "1093   1.562441  2.356297  2.183099  ...  0.007368          0.0          0.0\n",
              "1094   3.429190  2.526177  2.457567  ...  0.009037          0.4          0.0\n",
              "\n",
              "[1079 rows x 14 columns]"
            ]
          },
          "metadata": {
            "tags": []
          },
          "execution_count": 9
        }
      ]
    },
    {
      "cell_type": "code",
      "metadata": {
        "id": "SZrGNn1K-bQJ"
      },
      "source": [
        "data = pd.read_excel('/content/drive/MyDrive/daily.xlsx')\n",
        "\n",
        "data=data.dropna()"
      ],
      "execution_count": null,
      "outputs": []
    },
    {
      "cell_type": "code",
      "metadata": {
        "colab": {
          "base_uri": "https://localhost:8080/",
          "height": 419
        },
        "id": "4uyWz_9RF0RB",
        "outputId": "c8d3c1a6-014f-494f-e29f-aacc697e3541"
      },
      "source": [
        "data"
      ],
      "execution_count": null,
      "outputs": [
        {
          "output_type": "execute_result",
          "data": {
            "text/html": [
              "<div>\n",
              "<style scoped>\n",
              "    .dataframe tbody tr th:only-of-type {\n",
              "        vertical-align: middle;\n",
              "    }\n",
              "\n",
              "    .dataframe tbody tr th {\n",
              "        vertical-align: top;\n",
              "    }\n",
              "\n",
              "    .dataframe thead th {\n",
              "        text-align: right;\n",
              "    }\n",
              "</style>\n",
              "<table border=\"1\" class=\"dataframe\">\n",
              "  <thead>\n",
              "    <tr style=\"text-align: right;\">\n",
              "      <th></th>\n",
              "      <th>radiation</th>\n",
              "      <th>ws</th>\n",
              "    </tr>\n",
              "  </thead>\n",
              "  <tbody>\n",
              "    <tr>\n",
              "      <th>0</th>\n",
              "      <td>1230.0</td>\n",
              "      <td>1.227844</td>\n",
              "    </tr>\n",
              "    <tr>\n",
              "      <th>1</th>\n",
              "      <td>2030.0</td>\n",
              "      <td>1.229248</td>\n",
              "    </tr>\n",
              "    <tr>\n",
              "      <th>2</th>\n",
              "      <td>1260.0</td>\n",
              "      <td>1.230766</td>\n",
              "    </tr>\n",
              "    <tr>\n",
              "      <th>3</th>\n",
              "      <td>2380.0</td>\n",
              "      <td>1.232398</td>\n",
              "    </tr>\n",
              "    <tr>\n",
              "      <th>4</th>\n",
              "      <td>1340.0</td>\n",
              "      <td>1.234143</td>\n",
              "    </tr>\n",
              "    <tr>\n",
              "      <th>...</th>\n",
              "      <td>...</td>\n",
              "      <td>...</td>\n",
              "    </tr>\n",
              "    <tr>\n",
              "      <th>1090</th>\n",
              "      <td>510.0</td>\n",
              "      <td>1.222583</td>\n",
              "    </tr>\n",
              "    <tr>\n",
              "      <th>1091</th>\n",
              "      <td>640.0</td>\n",
              "      <td>1.223399</td>\n",
              "    </tr>\n",
              "    <tr>\n",
              "      <th>1092</th>\n",
              "      <td>590.0</td>\n",
              "      <td>1.224333</td>\n",
              "    </tr>\n",
              "    <tr>\n",
              "      <th>1093</th>\n",
              "      <td>760.0</td>\n",
              "      <td>1.225386</td>\n",
              "    </tr>\n",
              "    <tr>\n",
              "      <th>1094</th>\n",
              "      <td>2600.0</td>\n",
              "      <td>1.226557</td>\n",
              "    </tr>\n",
              "  </tbody>\n",
              "</table>\n",
              "<p>1095 rows × 2 columns</p>\n",
              "</div>"
            ],
            "text/plain": [
              "      radiation        ws\n",
              "0        1230.0  1.227844\n",
              "1        2030.0  1.229248\n",
              "2        1260.0  1.230766\n",
              "3        2380.0  1.232398\n",
              "4        1340.0  1.234143\n",
              "...         ...       ...\n",
              "1090      510.0  1.222583\n",
              "1091      640.0  1.223399\n",
              "1092      590.0  1.224333\n",
              "1093      760.0  1.225386\n",
              "1094     2600.0  1.226557\n",
              "\n",
              "[1095 rows x 2 columns]"
            ]
          },
          "metadata": {
            "tags": []
          },
          "execution_count": 46
        }
      ]
    },
    {
      "cell_type": "code",
      "metadata": {
        "id": "V9on8btjFD2v"
      },
      "source": [
        "y = data[\"radiation\"]\n",
        "X = data.drop([\"radiation\"], axis=1)\n",
        "X_train, X_test, y_train, y_test = train_test_split(X, y, \n",
        "                                                    test_size=0.25, \n",
        "                                                    random_state=200)"
      ],
      "execution_count": null,
      "outputs": []
    },
    {
      "cell_type": "code",
      "metadata": {
        "id": "N4Qn6ctoFD2w"
      },
      "source": [
        "from sklearn.ensemble import RandomForestRegressor"
      ],
      "execution_count": null,
      "outputs": []
    },
    {
      "cell_type": "code",
      "metadata": {
        "id": "mtUE7ow7FD2w"
      },
      "source": [
        "rf_model = RandomForestRegressor(random_state = 42)"
      ],
      "execution_count": null,
      "outputs": []
    },
    {
      "cell_type": "code",
      "metadata": {
        "colab": {
          "base_uri": "https://localhost:8080/"
        },
        "id": "BzhCP5c9FD2w",
        "outputId": "e3817896-3195-4c37-e35c-d9bec1e66c7e"
      },
      "source": [
        "rf_model.fit(X_train, y_train)"
      ],
      "execution_count": null,
      "outputs": [
        {
          "output_type": "execute_result",
          "data": {
            "text/plain": [
              "RandomForestRegressor(bootstrap=True, ccp_alpha=0.0, criterion='mse',\n",
              "                      max_depth=None, max_features='auto', max_leaf_nodes=None,\n",
              "                      max_samples=None, min_impurity_decrease=0.0,\n",
              "                      min_impurity_split=None, min_samples_leaf=1,\n",
              "                      min_samples_split=2, min_weight_fraction_leaf=0.0,\n",
              "                      n_estimators=100, n_jobs=None, oob_score=False,\n",
              "                      random_state=42, verbose=0, warm_start=False)"
            ]
          },
          "metadata": {
            "tags": []
          },
          "execution_count": 96
        }
      ]
    },
    {
      "cell_type": "code",
      "metadata": {
        "id": "Pf_N2WmjONnD"
      },
      "source": [
        "y_pred = rf_model.predict(X_train)"
      ],
      "execution_count": null,
      "outputs": []
    },
    {
      "cell_type": "code",
      "metadata": {
        "id": "Mjmet01H-1cl",
        "colab": {
          "base_uri": "https://localhost:8080/",
          "height": 323
        },
        "outputId": "b4b4ae47-81ad-421c-d44b-ae9dd6aed869"
      },
      "source": [
        "mape = np.mean(np.abs((y_test - y_pred)/y_test)) *100\n",
        "mape"
      ],
      "execution_count": null,
      "outputs": [
        {
          "output_type": "error",
          "ename": "ValueError",
          "evalue": "ignored",
          "traceback": [
            "\u001b[0;31m---------------------------------------------------------------------------\u001b[0m",
            "\u001b[0;31mValueError\u001b[0m                                Traceback (most recent call last)",
            "\u001b[0;32m<ipython-input-100-ec716d77cd5e>\u001b[0m in \u001b[0;36m<module>\u001b[0;34m()\u001b[0m\n\u001b[0;32m----> 1\u001b[0;31m \u001b[0mmape\u001b[0m \u001b[0;34m=\u001b[0m \u001b[0mnp\u001b[0m\u001b[0;34m.\u001b[0m\u001b[0mmean\u001b[0m\u001b[0;34m(\u001b[0m\u001b[0mnp\u001b[0m\u001b[0;34m.\u001b[0m\u001b[0mabs\u001b[0m\u001b[0;34m(\u001b[0m\u001b[0;34m(\u001b[0m\u001b[0my_test\u001b[0m \u001b[0;34m-\u001b[0m \u001b[0my_pred\u001b[0m\u001b[0;34m)\u001b[0m\u001b[0;34m/\u001b[0m\u001b[0my_test\u001b[0m\u001b[0;34m)\u001b[0m\u001b[0;34m)\u001b[0m \u001b[0;34m*\u001b[0m\u001b[0;36m100\u001b[0m\u001b[0;34m\u001b[0m\u001b[0;34m\u001b[0m\u001b[0m\n\u001b[0m\u001b[1;32m      2\u001b[0m \u001b[0mmape\u001b[0m\u001b[0;34m\u001b[0m\u001b[0;34m\u001b[0m\u001b[0m\n",
            "\u001b[0;32m/usr/local/lib/python3.7/dist-packages/pandas/core/ops/common.py\u001b[0m in \u001b[0;36mnew_method\u001b[0;34m(self, other)\u001b[0m\n\u001b[1;32m     63\u001b[0m         \u001b[0mother\u001b[0m \u001b[0;34m=\u001b[0m \u001b[0mitem_from_zerodim\u001b[0m\u001b[0;34m(\u001b[0m\u001b[0mother\u001b[0m\u001b[0;34m)\u001b[0m\u001b[0;34m\u001b[0m\u001b[0;34m\u001b[0m\u001b[0m\n\u001b[1;32m     64\u001b[0m \u001b[0;34m\u001b[0m\u001b[0m\n\u001b[0;32m---> 65\u001b[0;31m         \u001b[0;32mreturn\u001b[0m \u001b[0mmethod\u001b[0m\u001b[0;34m(\u001b[0m\u001b[0mself\u001b[0m\u001b[0;34m,\u001b[0m \u001b[0mother\u001b[0m\u001b[0;34m)\u001b[0m\u001b[0;34m\u001b[0m\u001b[0;34m\u001b[0m\u001b[0m\n\u001b[0m\u001b[1;32m     66\u001b[0m \u001b[0;34m\u001b[0m\u001b[0m\n\u001b[1;32m     67\u001b[0m     \u001b[0;32mreturn\u001b[0m \u001b[0mnew_method\u001b[0m\u001b[0;34m\u001b[0m\u001b[0;34m\u001b[0m\u001b[0m\n",
            "\u001b[0;32m/usr/local/lib/python3.7/dist-packages/pandas/core/ops/__init__.py\u001b[0m in \u001b[0;36mwrapper\u001b[0;34m(left, right)\u001b[0m\n\u001b[1;32m    341\u001b[0m         \u001b[0mlvalues\u001b[0m \u001b[0;34m=\u001b[0m \u001b[0mextract_array\u001b[0m\u001b[0;34m(\u001b[0m\u001b[0mleft\u001b[0m\u001b[0;34m,\u001b[0m \u001b[0mextract_numpy\u001b[0m\u001b[0;34m=\u001b[0m\u001b[0;32mTrue\u001b[0m\u001b[0;34m)\u001b[0m\u001b[0;34m\u001b[0m\u001b[0;34m\u001b[0m\u001b[0m\n\u001b[1;32m    342\u001b[0m         \u001b[0mrvalues\u001b[0m \u001b[0;34m=\u001b[0m \u001b[0mextract_array\u001b[0m\u001b[0;34m(\u001b[0m\u001b[0mright\u001b[0m\u001b[0;34m,\u001b[0m \u001b[0mextract_numpy\u001b[0m\u001b[0;34m=\u001b[0m\u001b[0;32mTrue\u001b[0m\u001b[0;34m)\u001b[0m\u001b[0;34m\u001b[0m\u001b[0;34m\u001b[0m\u001b[0m\n\u001b[0;32m--> 343\u001b[0;31m         \u001b[0mresult\u001b[0m \u001b[0;34m=\u001b[0m \u001b[0marithmetic_op\u001b[0m\u001b[0;34m(\u001b[0m\u001b[0mlvalues\u001b[0m\u001b[0;34m,\u001b[0m \u001b[0mrvalues\u001b[0m\u001b[0;34m,\u001b[0m \u001b[0mop\u001b[0m\u001b[0;34m)\u001b[0m\u001b[0;34m\u001b[0m\u001b[0;34m\u001b[0m\u001b[0m\n\u001b[0m\u001b[1;32m    344\u001b[0m \u001b[0;34m\u001b[0m\u001b[0m\n\u001b[1;32m    345\u001b[0m         \u001b[0;32mreturn\u001b[0m \u001b[0mleft\u001b[0m\u001b[0;34m.\u001b[0m\u001b[0m_construct_result\u001b[0m\u001b[0;34m(\u001b[0m\u001b[0mresult\u001b[0m\u001b[0;34m,\u001b[0m \u001b[0mname\u001b[0m\u001b[0;34m=\u001b[0m\u001b[0mres_name\u001b[0m\u001b[0;34m)\u001b[0m\u001b[0;34m\u001b[0m\u001b[0;34m\u001b[0m\u001b[0m\n",
            "\u001b[0;32m/usr/local/lib/python3.7/dist-packages/pandas/core/ops/array_ops.py\u001b[0m in \u001b[0;36marithmetic_op\u001b[0;34m(left, right, op)\u001b[0m\n\u001b[1;32m    188\u001b[0m     \u001b[0;32melse\u001b[0m\u001b[0;34m:\u001b[0m\u001b[0;34m\u001b[0m\u001b[0;34m\u001b[0m\u001b[0m\n\u001b[1;32m    189\u001b[0m         \u001b[0;32mwith\u001b[0m \u001b[0mnp\u001b[0m\u001b[0;34m.\u001b[0m\u001b[0merrstate\u001b[0m\u001b[0;34m(\u001b[0m\u001b[0mall\u001b[0m\u001b[0;34m=\u001b[0m\u001b[0;34m\"ignore\"\u001b[0m\u001b[0;34m)\u001b[0m\u001b[0;34m:\u001b[0m\u001b[0;34m\u001b[0m\u001b[0;34m\u001b[0m\u001b[0m\n\u001b[0;32m--> 190\u001b[0;31m             \u001b[0mres_values\u001b[0m \u001b[0;34m=\u001b[0m \u001b[0mna_arithmetic_op\u001b[0m\u001b[0;34m(\u001b[0m\u001b[0mlvalues\u001b[0m\u001b[0;34m,\u001b[0m \u001b[0mrvalues\u001b[0m\u001b[0;34m,\u001b[0m \u001b[0mop\u001b[0m\u001b[0;34m)\u001b[0m\u001b[0;34m\u001b[0m\u001b[0;34m\u001b[0m\u001b[0m\n\u001b[0m\u001b[1;32m    191\u001b[0m \u001b[0;34m\u001b[0m\u001b[0m\n\u001b[1;32m    192\u001b[0m     \u001b[0;32mreturn\u001b[0m \u001b[0mres_values\u001b[0m\u001b[0;34m\u001b[0m\u001b[0;34m\u001b[0m\u001b[0m\n",
            "\u001b[0;32m/usr/local/lib/python3.7/dist-packages/pandas/core/ops/array_ops.py\u001b[0m in \u001b[0;36mna_arithmetic_op\u001b[0;34m(left, right, op, is_cmp)\u001b[0m\n\u001b[1;32m    141\u001b[0m \u001b[0;34m\u001b[0m\u001b[0m\n\u001b[1;32m    142\u001b[0m     \u001b[0;32mtry\u001b[0m\u001b[0;34m:\u001b[0m\u001b[0;34m\u001b[0m\u001b[0;34m\u001b[0m\u001b[0m\n\u001b[0;32m--> 143\u001b[0;31m         \u001b[0mresult\u001b[0m \u001b[0;34m=\u001b[0m \u001b[0mexpressions\u001b[0m\u001b[0;34m.\u001b[0m\u001b[0mevaluate\u001b[0m\u001b[0;34m(\u001b[0m\u001b[0mop\u001b[0m\u001b[0;34m,\u001b[0m \u001b[0mleft\u001b[0m\u001b[0;34m,\u001b[0m \u001b[0mright\u001b[0m\u001b[0;34m)\u001b[0m\u001b[0;34m\u001b[0m\u001b[0;34m\u001b[0m\u001b[0m\n\u001b[0m\u001b[1;32m    144\u001b[0m     \u001b[0;32mexcept\u001b[0m \u001b[0mTypeError\u001b[0m\u001b[0;34m:\u001b[0m\u001b[0;34m\u001b[0m\u001b[0;34m\u001b[0m\u001b[0m\n\u001b[1;32m    145\u001b[0m         \u001b[0;32mif\u001b[0m \u001b[0mis_cmp\u001b[0m\u001b[0;34m:\u001b[0m\u001b[0;34m\u001b[0m\u001b[0;34m\u001b[0m\u001b[0m\n",
            "\u001b[0;32m/usr/local/lib/python3.7/dist-packages/pandas/core/computation/expressions.py\u001b[0m in \u001b[0;36mevaluate\u001b[0;34m(op, a, b, use_numexpr)\u001b[0m\n\u001b[1;32m    231\u001b[0m         \u001b[0muse_numexpr\u001b[0m \u001b[0;34m=\u001b[0m \u001b[0muse_numexpr\u001b[0m \u001b[0;32mand\u001b[0m \u001b[0m_bool_arith_check\u001b[0m\u001b[0;34m(\u001b[0m\u001b[0mop_str\u001b[0m\u001b[0;34m,\u001b[0m \u001b[0ma\u001b[0m\u001b[0;34m,\u001b[0m \u001b[0mb\u001b[0m\u001b[0;34m)\u001b[0m\u001b[0;34m\u001b[0m\u001b[0;34m\u001b[0m\u001b[0m\n\u001b[1;32m    232\u001b[0m         \u001b[0;32mif\u001b[0m \u001b[0muse_numexpr\u001b[0m\u001b[0;34m:\u001b[0m\u001b[0;34m\u001b[0m\u001b[0;34m\u001b[0m\u001b[0m\n\u001b[0;32m--> 233\u001b[0;31m             \u001b[0;32mreturn\u001b[0m \u001b[0m_evaluate\u001b[0m\u001b[0;34m(\u001b[0m\u001b[0mop\u001b[0m\u001b[0;34m,\u001b[0m \u001b[0mop_str\u001b[0m\u001b[0;34m,\u001b[0m \u001b[0ma\u001b[0m\u001b[0;34m,\u001b[0m \u001b[0mb\u001b[0m\u001b[0;34m)\u001b[0m  \u001b[0;31m# type: ignore\u001b[0m\u001b[0;34m\u001b[0m\u001b[0;34m\u001b[0m\u001b[0m\n\u001b[0m\u001b[1;32m    234\u001b[0m     \u001b[0;32mreturn\u001b[0m \u001b[0m_evaluate_standard\u001b[0m\u001b[0;34m(\u001b[0m\u001b[0mop\u001b[0m\u001b[0;34m,\u001b[0m \u001b[0mop_str\u001b[0m\u001b[0;34m,\u001b[0m \u001b[0ma\u001b[0m\u001b[0;34m,\u001b[0m \u001b[0mb\u001b[0m\u001b[0;34m)\u001b[0m\u001b[0;34m\u001b[0m\u001b[0;34m\u001b[0m\u001b[0m\n\u001b[1;32m    235\u001b[0m \u001b[0;34m\u001b[0m\u001b[0m\n",
            "\u001b[0;32m/usr/local/lib/python3.7/dist-packages/pandas/core/computation/expressions.py\u001b[0m in \u001b[0;36m_evaluate_numexpr\u001b[0;34m(op, op_str, a, b)\u001b[0m\n\u001b[1;32m    117\u001b[0m \u001b[0;34m\u001b[0m\u001b[0m\n\u001b[1;32m    118\u001b[0m     \u001b[0;32mif\u001b[0m \u001b[0mresult\u001b[0m \u001b[0;32mis\u001b[0m \u001b[0;32mNone\u001b[0m\u001b[0;34m:\u001b[0m\u001b[0;34m\u001b[0m\u001b[0;34m\u001b[0m\u001b[0m\n\u001b[0;32m--> 119\u001b[0;31m         \u001b[0mresult\u001b[0m \u001b[0;34m=\u001b[0m \u001b[0m_evaluate_standard\u001b[0m\u001b[0;34m(\u001b[0m\u001b[0mop\u001b[0m\u001b[0;34m,\u001b[0m \u001b[0mop_str\u001b[0m\u001b[0;34m,\u001b[0m \u001b[0ma\u001b[0m\u001b[0;34m,\u001b[0m \u001b[0mb\u001b[0m\u001b[0;34m)\u001b[0m\u001b[0;34m\u001b[0m\u001b[0;34m\u001b[0m\u001b[0m\n\u001b[0m\u001b[1;32m    120\u001b[0m \u001b[0;34m\u001b[0m\u001b[0m\n\u001b[1;32m    121\u001b[0m     \u001b[0;32mreturn\u001b[0m \u001b[0mresult\u001b[0m\u001b[0;34m\u001b[0m\u001b[0;34m\u001b[0m\u001b[0m\n",
            "\u001b[0;32m/usr/local/lib/python3.7/dist-packages/pandas/core/computation/expressions.py\u001b[0m in \u001b[0;36m_evaluate_standard\u001b[0;34m(op, op_str, a, b)\u001b[0m\n\u001b[1;32m     66\u001b[0m         \u001b[0m_store_test_result\u001b[0m\u001b[0;34m(\u001b[0m\u001b[0;32mFalse\u001b[0m\u001b[0;34m)\u001b[0m\u001b[0;34m\u001b[0m\u001b[0;34m\u001b[0m\u001b[0m\n\u001b[1;32m     67\u001b[0m     \u001b[0;32mwith\u001b[0m \u001b[0mnp\u001b[0m\u001b[0;34m.\u001b[0m\u001b[0merrstate\u001b[0m\u001b[0;34m(\u001b[0m\u001b[0mall\u001b[0m\u001b[0;34m=\u001b[0m\u001b[0;34m\"ignore\"\u001b[0m\u001b[0;34m)\u001b[0m\u001b[0;34m:\u001b[0m\u001b[0;34m\u001b[0m\u001b[0;34m\u001b[0m\u001b[0m\n\u001b[0;32m---> 68\u001b[0;31m         \u001b[0;32mreturn\u001b[0m \u001b[0mop\u001b[0m\u001b[0;34m(\u001b[0m\u001b[0ma\u001b[0m\u001b[0;34m,\u001b[0m \u001b[0mb\u001b[0m\u001b[0;34m)\u001b[0m\u001b[0;34m\u001b[0m\u001b[0;34m\u001b[0m\u001b[0m\n\u001b[0m\u001b[1;32m     69\u001b[0m \u001b[0;34m\u001b[0m\u001b[0m\n\u001b[1;32m     70\u001b[0m \u001b[0;34m\u001b[0m\u001b[0m\n",
            "\u001b[0;31mValueError\u001b[0m: operands could not be broadcast together with shapes (270,) (809,) "
          ]
        }
      ]
    },
    {
      "cell_type": "code",
      "metadata": {
        "colab": {
          "base_uri": "https://localhost:8080/",
          "height": 323
        },
        "id": "A671kC86OwR3",
        "outputId": "f80b0be9-ec79-4a34-b341-7fa576c595a3"
      },
      "source": [
        "rmspe = np.sqrt(np.mean(np.square(((y_test - y_pred) / y_test)), axis=0))*100\n",
        "rmspe"
      ],
      "execution_count": null,
      "outputs": [
        {
          "output_type": "error",
          "ename": "ValueError",
          "evalue": "ignored",
          "traceback": [
            "\u001b[0;31m---------------------------------------------------------------------------\u001b[0m",
            "\u001b[0;31mValueError\u001b[0m                                Traceback (most recent call last)",
            "\u001b[0;32m<ipython-input-53-8fcd157f9df7>\u001b[0m in \u001b[0;36m<module>\u001b[0;34m()\u001b[0m\n\u001b[0;32m----> 1\u001b[0;31m \u001b[0mrmspe\u001b[0m \u001b[0;34m=\u001b[0m \u001b[0mnp\u001b[0m\u001b[0;34m.\u001b[0m\u001b[0msqrt\u001b[0m\u001b[0;34m(\u001b[0m\u001b[0mnp\u001b[0m\u001b[0;34m.\u001b[0m\u001b[0mmean\u001b[0m\u001b[0;34m(\u001b[0m\u001b[0mnp\u001b[0m\u001b[0;34m.\u001b[0m\u001b[0msquare\u001b[0m\u001b[0;34m(\u001b[0m\u001b[0;34m(\u001b[0m\u001b[0;34m(\u001b[0m\u001b[0my_test\u001b[0m \u001b[0;34m-\u001b[0m \u001b[0my_pred\u001b[0m\u001b[0;34m)\u001b[0m \u001b[0;34m/\u001b[0m \u001b[0my_test\u001b[0m\u001b[0;34m)\u001b[0m\u001b[0;34m)\u001b[0m\u001b[0;34m,\u001b[0m \u001b[0maxis\u001b[0m\u001b[0;34m=\u001b[0m\u001b[0;36m0\u001b[0m\u001b[0;34m)\u001b[0m\u001b[0;34m)\u001b[0m\u001b[0;34m*\u001b[0m\u001b[0;36m100\u001b[0m\u001b[0;34m\u001b[0m\u001b[0;34m\u001b[0m\u001b[0m\n\u001b[0m\u001b[1;32m      2\u001b[0m \u001b[0mrmspe\u001b[0m\u001b[0;34m\u001b[0m\u001b[0;34m\u001b[0m\u001b[0m\n",
            "\u001b[0;32m/usr/local/lib/python3.7/dist-packages/pandas/core/ops/common.py\u001b[0m in \u001b[0;36mnew_method\u001b[0;34m(self, other)\u001b[0m\n\u001b[1;32m     63\u001b[0m         \u001b[0mother\u001b[0m \u001b[0;34m=\u001b[0m \u001b[0mitem_from_zerodim\u001b[0m\u001b[0;34m(\u001b[0m\u001b[0mother\u001b[0m\u001b[0;34m)\u001b[0m\u001b[0;34m\u001b[0m\u001b[0;34m\u001b[0m\u001b[0m\n\u001b[1;32m     64\u001b[0m \u001b[0;34m\u001b[0m\u001b[0m\n\u001b[0;32m---> 65\u001b[0;31m         \u001b[0;32mreturn\u001b[0m \u001b[0mmethod\u001b[0m\u001b[0;34m(\u001b[0m\u001b[0mself\u001b[0m\u001b[0;34m,\u001b[0m \u001b[0mother\u001b[0m\u001b[0;34m)\u001b[0m\u001b[0;34m\u001b[0m\u001b[0;34m\u001b[0m\u001b[0m\n\u001b[0m\u001b[1;32m     66\u001b[0m \u001b[0;34m\u001b[0m\u001b[0m\n\u001b[1;32m     67\u001b[0m     \u001b[0;32mreturn\u001b[0m \u001b[0mnew_method\u001b[0m\u001b[0;34m\u001b[0m\u001b[0;34m\u001b[0m\u001b[0m\n",
            "\u001b[0;32m/usr/local/lib/python3.7/dist-packages/pandas/core/ops/__init__.py\u001b[0m in \u001b[0;36mwrapper\u001b[0;34m(left, right)\u001b[0m\n\u001b[1;32m    341\u001b[0m         \u001b[0mlvalues\u001b[0m \u001b[0;34m=\u001b[0m \u001b[0mextract_array\u001b[0m\u001b[0;34m(\u001b[0m\u001b[0mleft\u001b[0m\u001b[0;34m,\u001b[0m \u001b[0mextract_numpy\u001b[0m\u001b[0;34m=\u001b[0m\u001b[0;32mTrue\u001b[0m\u001b[0;34m)\u001b[0m\u001b[0;34m\u001b[0m\u001b[0;34m\u001b[0m\u001b[0m\n\u001b[1;32m    342\u001b[0m         \u001b[0mrvalues\u001b[0m \u001b[0;34m=\u001b[0m \u001b[0mextract_array\u001b[0m\u001b[0;34m(\u001b[0m\u001b[0mright\u001b[0m\u001b[0;34m,\u001b[0m \u001b[0mextract_numpy\u001b[0m\u001b[0;34m=\u001b[0m\u001b[0;32mTrue\u001b[0m\u001b[0;34m)\u001b[0m\u001b[0;34m\u001b[0m\u001b[0;34m\u001b[0m\u001b[0m\n\u001b[0;32m--> 343\u001b[0;31m         \u001b[0mresult\u001b[0m \u001b[0;34m=\u001b[0m \u001b[0marithmetic_op\u001b[0m\u001b[0;34m(\u001b[0m\u001b[0mlvalues\u001b[0m\u001b[0;34m,\u001b[0m \u001b[0mrvalues\u001b[0m\u001b[0;34m,\u001b[0m \u001b[0mop\u001b[0m\u001b[0;34m)\u001b[0m\u001b[0;34m\u001b[0m\u001b[0;34m\u001b[0m\u001b[0m\n\u001b[0m\u001b[1;32m    344\u001b[0m \u001b[0;34m\u001b[0m\u001b[0m\n\u001b[1;32m    345\u001b[0m         \u001b[0;32mreturn\u001b[0m \u001b[0mleft\u001b[0m\u001b[0;34m.\u001b[0m\u001b[0m_construct_result\u001b[0m\u001b[0;34m(\u001b[0m\u001b[0mresult\u001b[0m\u001b[0;34m,\u001b[0m \u001b[0mname\u001b[0m\u001b[0;34m=\u001b[0m\u001b[0mres_name\u001b[0m\u001b[0;34m)\u001b[0m\u001b[0;34m\u001b[0m\u001b[0;34m\u001b[0m\u001b[0m\n",
            "\u001b[0;32m/usr/local/lib/python3.7/dist-packages/pandas/core/ops/array_ops.py\u001b[0m in \u001b[0;36marithmetic_op\u001b[0;34m(left, right, op)\u001b[0m\n\u001b[1;32m    188\u001b[0m     \u001b[0;32melse\u001b[0m\u001b[0;34m:\u001b[0m\u001b[0;34m\u001b[0m\u001b[0;34m\u001b[0m\u001b[0m\n\u001b[1;32m    189\u001b[0m         \u001b[0;32mwith\u001b[0m \u001b[0mnp\u001b[0m\u001b[0;34m.\u001b[0m\u001b[0merrstate\u001b[0m\u001b[0;34m(\u001b[0m\u001b[0mall\u001b[0m\u001b[0;34m=\u001b[0m\u001b[0;34m\"ignore\"\u001b[0m\u001b[0;34m)\u001b[0m\u001b[0;34m:\u001b[0m\u001b[0;34m\u001b[0m\u001b[0;34m\u001b[0m\u001b[0m\n\u001b[0;32m--> 190\u001b[0;31m             \u001b[0mres_values\u001b[0m \u001b[0;34m=\u001b[0m \u001b[0mna_arithmetic_op\u001b[0m\u001b[0;34m(\u001b[0m\u001b[0mlvalues\u001b[0m\u001b[0;34m,\u001b[0m \u001b[0mrvalues\u001b[0m\u001b[0;34m,\u001b[0m \u001b[0mop\u001b[0m\u001b[0;34m)\u001b[0m\u001b[0;34m\u001b[0m\u001b[0;34m\u001b[0m\u001b[0m\n\u001b[0m\u001b[1;32m    191\u001b[0m \u001b[0;34m\u001b[0m\u001b[0m\n\u001b[1;32m    192\u001b[0m     \u001b[0;32mreturn\u001b[0m \u001b[0mres_values\u001b[0m\u001b[0;34m\u001b[0m\u001b[0;34m\u001b[0m\u001b[0m\n",
            "\u001b[0;32m/usr/local/lib/python3.7/dist-packages/pandas/core/ops/array_ops.py\u001b[0m in \u001b[0;36mna_arithmetic_op\u001b[0;34m(left, right, op, is_cmp)\u001b[0m\n\u001b[1;32m    141\u001b[0m \u001b[0;34m\u001b[0m\u001b[0m\n\u001b[1;32m    142\u001b[0m     \u001b[0;32mtry\u001b[0m\u001b[0;34m:\u001b[0m\u001b[0;34m\u001b[0m\u001b[0;34m\u001b[0m\u001b[0m\n\u001b[0;32m--> 143\u001b[0;31m         \u001b[0mresult\u001b[0m \u001b[0;34m=\u001b[0m \u001b[0mexpressions\u001b[0m\u001b[0;34m.\u001b[0m\u001b[0mevaluate\u001b[0m\u001b[0;34m(\u001b[0m\u001b[0mop\u001b[0m\u001b[0;34m,\u001b[0m \u001b[0mleft\u001b[0m\u001b[0;34m,\u001b[0m \u001b[0mright\u001b[0m\u001b[0;34m)\u001b[0m\u001b[0;34m\u001b[0m\u001b[0;34m\u001b[0m\u001b[0m\n\u001b[0m\u001b[1;32m    144\u001b[0m     \u001b[0;32mexcept\u001b[0m \u001b[0mTypeError\u001b[0m\u001b[0;34m:\u001b[0m\u001b[0;34m\u001b[0m\u001b[0;34m\u001b[0m\u001b[0m\n\u001b[1;32m    145\u001b[0m         \u001b[0;32mif\u001b[0m \u001b[0mis_cmp\u001b[0m\u001b[0;34m:\u001b[0m\u001b[0;34m\u001b[0m\u001b[0;34m\u001b[0m\u001b[0m\n",
            "\u001b[0;32m/usr/local/lib/python3.7/dist-packages/pandas/core/computation/expressions.py\u001b[0m in \u001b[0;36mevaluate\u001b[0;34m(op, a, b, use_numexpr)\u001b[0m\n\u001b[1;32m    231\u001b[0m         \u001b[0muse_numexpr\u001b[0m \u001b[0;34m=\u001b[0m \u001b[0muse_numexpr\u001b[0m \u001b[0;32mand\u001b[0m \u001b[0m_bool_arith_check\u001b[0m\u001b[0;34m(\u001b[0m\u001b[0mop_str\u001b[0m\u001b[0;34m,\u001b[0m \u001b[0ma\u001b[0m\u001b[0;34m,\u001b[0m \u001b[0mb\u001b[0m\u001b[0;34m)\u001b[0m\u001b[0;34m\u001b[0m\u001b[0;34m\u001b[0m\u001b[0m\n\u001b[1;32m    232\u001b[0m         \u001b[0;32mif\u001b[0m \u001b[0muse_numexpr\u001b[0m\u001b[0;34m:\u001b[0m\u001b[0;34m\u001b[0m\u001b[0;34m\u001b[0m\u001b[0m\n\u001b[0;32m--> 233\u001b[0;31m             \u001b[0;32mreturn\u001b[0m \u001b[0m_evaluate\u001b[0m\u001b[0;34m(\u001b[0m\u001b[0mop\u001b[0m\u001b[0;34m,\u001b[0m \u001b[0mop_str\u001b[0m\u001b[0;34m,\u001b[0m \u001b[0ma\u001b[0m\u001b[0;34m,\u001b[0m \u001b[0mb\u001b[0m\u001b[0;34m)\u001b[0m  \u001b[0;31m# type: ignore\u001b[0m\u001b[0;34m\u001b[0m\u001b[0;34m\u001b[0m\u001b[0m\n\u001b[0m\u001b[1;32m    234\u001b[0m     \u001b[0;32mreturn\u001b[0m \u001b[0m_evaluate_standard\u001b[0m\u001b[0;34m(\u001b[0m\u001b[0mop\u001b[0m\u001b[0;34m,\u001b[0m \u001b[0mop_str\u001b[0m\u001b[0;34m,\u001b[0m \u001b[0ma\u001b[0m\u001b[0;34m,\u001b[0m \u001b[0mb\u001b[0m\u001b[0;34m)\u001b[0m\u001b[0;34m\u001b[0m\u001b[0;34m\u001b[0m\u001b[0m\n\u001b[1;32m    235\u001b[0m \u001b[0;34m\u001b[0m\u001b[0m\n",
            "\u001b[0;32m/usr/local/lib/python3.7/dist-packages/pandas/core/computation/expressions.py\u001b[0m in \u001b[0;36m_evaluate_numexpr\u001b[0;34m(op, op_str, a, b)\u001b[0m\n\u001b[1;32m    117\u001b[0m \u001b[0;34m\u001b[0m\u001b[0m\n\u001b[1;32m    118\u001b[0m     \u001b[0;32mif\u001b[0m \u001b[0mresult\u001b[0m \u001b[0;32mis\u001b[0m \u001b[0;32mNone\u001b[0m\u001b[0;34m:\u001b[0m\u001b[0;34m\u001b[0m\u001b[0;34m\u001b[0m\u001b[0m\n\u001b[0;32m--> 119\u001b[0;31m         \u001b[0mresult\u001b[0m \u001b[0;34m=\u001b[0m \u001b[0m_evaluate_standard\u001b[0m\u001b[0;34m(\u001b[0m\u001b[0mop\u001b[0m\u001b[0;34m,\u001b[0m \u001b[0mop_str\u001b[0m\u001b[0;34m,\u001b[0m \u001b[0ma\u001b[0m\u001b[0;34m,\u001b[0m \u001b[0mb\u001b[0m\u001b[0;34m)\u001b[0m\u001b[0;34m\u001b[0m\u001b[0;34m\u001b[0m\u001b[0m\n\u001b[0m\u001b[1;32m    120\u001b[0m \u001b[0;34m\u001b[0m\u001b[0m\n\u001b[1;32m    121\u001b[0m     \u001b[0;32mreturn\u001b[0m \u001b[0mresult\u001b[0m\u001b[0;34m\u001b[0m\u001b[0;34m\u001b[0m\u001b[0m\n",
            "\u001b[0;32m/usr/local/lib/python3.7/dist-packages/pandas/core/computation/expressions.py\u001b[0m in \u001b[0;36m_evaluate_standard\u001b[0;34m(op, op_str, a, b)\u001b[0m\n\u001b[1;32m     66\u001b[0m         \u001b[0m_store_test_result\u001b[0m\u001b[0;34m(\u001b[0m\u001b[0;32mFalse\u001b[0m\u001b[0;34m)\u001b[0m\u001b[0;34m\u001b[0m\u001b[0;34m\u001b[0m\u001b[0m\n\u001b[1;32m     67\u001b[0m     \u001b[0;32mwith\u001b[0m \u001b[0mnp\u001b[0m\u001b[0;34m.\u001b[0m\u001b[0merrstate\u001b[0m\u001b[0;34m(\u001b[0m\u001b[0mall\u001b[0m\u001b[0;34m=\u001b[0m\u001b[0;34m\"ignore\"\u001b[0m\u001b[0;34m)\u001b[0m\u001b[0;34m:\u001b[0m\u001b[0;34m\u001b[0m\u001b[0;34m\u001b[0m\u001b[0m\n\u001b[0;32m---> 68\u001b[0;31m         \u001b[0;32mreturn\u001b[0m \u001b[0mop\u001b[0m\u001b[0;34m(\u001b[0m\u001b[0ma\u001b[0m\u001b[0;34m,\u001b[0m \u001b[0mb\u001b[0m\u001b[0;34m)\u001b[0m\u001b[0;34m\u001b[0m\u001b[0;34m\u001b[0m\u001b[0m\n\u001b[0m\u001b[1;32m     69\u001b[0m \u001b[0;34m\u001b[0m\u001b[0m\n\u001b[1;32m     70\u001b[0m \u001b[0;34m\u001b[0m\u001b[0m\n",
            "\u001b[0;31mValueError\u001b[0m: operands could not be broadcast together with shapes (274,) (821,) "
          ]
        }
      ]
    },
    {
      "cell_type": "code",
      "metadata": {
        "id": "em1eCQNR_C3y",
        "colab": {
          "base_uri": "https://localhost:8080/"
        },
        "outputId": "ccaccda6-bf6f-402b-82d4-03a34e3c6b62"
      },
      "source": [
        "my_rho = np.corrcoef(y_train, y_pred)\n",
        "my_rho"
      ],
      "execution_count": null,
      "outputs": [
        {
          "output_type": "execute_result",
          "data": {
            "text/plain": [
              "array([[1.       , 0.9904379],\n",
              "       [0.9904379, 1.       ]])"
            ]
          },
          "metadata": {
            "tags": []
          },
          "execution_count": 99
        }
      ]
    },
    {
      "cell_type": "markdown",
      "metadata": {
        "id": "p40ZdIT8FD2x"
      },
      "source": [
        "## Model Tuning"
      ]
    },
    {
      "cell_type": "code",
      "metadata": {
        "id": "ogmz3zIuFD2x"
      },
      "source": [
        "rf_params = {'max_depth': list(range(1,10)),\n",
        "            'max_features': [0.25,0.75,0.80,0.60],\n",
        "            'n_estimators' : [100, 200, 500, 1000, 2000]}"
      ],
      "execution_count": null,
      "outputs": []
    },
    {
      "cell_type": "code",
      "metadata": {
        "id": "MY3cSAtQFD2x"
      },
      "source": [
        "rf_model = RandomForestRegressor(random_state = 42)"
      ],
      "execution_count": null,
      "outputs": []
    },
    {
      "cell_type": "code",
      "metadata": {
        "id": "GzOEfAByFD2x"
      },
      "source": [
        "rf_cv_model = GridSearchCV(rf_model, \n",
        "                           rf_params, \n",
        "                           cv = 10, \n",
        "                            n_jobs = -1)"
      ],
      "execution_count": null,
      "outputs": []
    },
    {
      "cell_type": "code",
      "metadata": {
        "colab": {
          "base_uri": "https://localhost:8080/"
        },
        "id": "gngzW9NzFD2y",
        "outputId": "5d459f47-0746-4291-fbd2-897b29fb6485"
      },
      "source": [
        "rf_cv_model.fit(X_train, y_train)"
      ],
      "execution_count": null,
      "outputs": [
        {
          "output_type": "execute_result",
          "data": {
            "text/plain": [
              "GridSearchCV(cv=10, error_score=nan,\n",
              "             estimator=RandomForestRegressor(bootstrap=True, ccp_alpha=0.0,\n",
              "                                             criterion='mse', max_depth=None,\n",
              "                                             max_features='auto',\n",
              "                                             max_leaf_nodes=None,\n",
              "                                             max_samples=None,\n",
              "                                             min_impurity_decrease=0.0,\n",
              "                                             min_impurity_split=None,\n",
              "                                             min_samples_leaf=1,\n",
              "                                             min_samples_split=2,\n",
              "                                             min_weight_fraction_leaf=0.0,\n",
              "                                             n_estimators=100, n_jobs=None,\n",
              "                                             oob_score=False, random_state=42,\n",
              "                                             verbose=0, warm_start=False),\n",
              "             iid='deprecated', n_jobs=-1,\n",
              "             param_grid={'max_depth': [1, 2, 3, 4, 5, 6, 7, 8, 9],\n",
              "                         'max_features': [0.25, 0.75, 0.8, 0.6],\n",
              "                         'n_estimators': [100, 200, 500, 1000, 2000]},\n",
              "             pre_dispatch='2*n_jobs', refit=True, return_train_score=False,\n",
              "             scoring=None, verbose=0)"
            ]
          },
          "metadata": {
            "tags": []
          },
          "execution_count": 104
        }
      ]
    },
    {
      "cell_type": "code",
      "metadata": {
        "colab": {
          "base_uri": "https://localhost:8080/"
        },
        "id": "1Nw52j43FD2y",
        "outputId": "4db0db17-71e4-4b6c-a37d-e12bc3221bc9"
      },
      "source": [
        "rf_cv_model.best_params_"
      ],
      "execution_count": null,
      "outputs": [
        {
          "output_type": "execute_result",
          "data": {
            "text/plain": [
              "{'max_depth': 9, 'max_features': 0.8, 'n_estimators': 500}"
            ]
          },
          "metadata": {
            "tags": []
          },
          "execution_count": 105
        }
      ]
    },
    {
      "cell_type": "code",
      "metadata": {
        "id": "cB92bDFzFD2y"
      },
      "source": [
        "rf_tuned = RandomForestRegressor(max_depth  = 9, \n",
        "                                 max_features = 0.8, \n",
        "                                 n_estimators =500)"
      ],
      "execution_count": null,
      "outputs": []
    },
    {
      "cell_type": "code",
      "metadata": {
        "colab": {
          "base_uri": "https://localhost:8080/"
        },
        "id": "ZfHt1iSfFD2y",
        "outputId": "e0dbe4ec-8232-427d-8838-2577bd8111cf"
      },
      "source": [
        "rf_tuned.fit(X_train, y_train)"
      ],
      "execution_count": null,
      "outputs": [
        {
          "output_type": "execute_result",
          "data": {
            "text/plain": [
              "RandomForestRegressor(bootstrap=True, ccp_alpha=0.0, criterion='mse',\n",
              "                      max_depth=9, max_features=0.8, max_leaf_nodes=None,\n",
              "                      max_samples=None, min_impurity_decrease=0.0,\n",
              "                      min_impurity_split=None, min_samples_leaf=1,\n",
              "                      min_samples_split=2, min_weight_fraction_leaf=0.0,\n",
              "                      n_estimators=500, n_jobs=None, oob_score=False,\n",
              "                      random_state=None, verbose=0, warm_start=False)"
            ]
          },
          "metadata": {
            "tags": []
          },
          "execution_count": 108
        }
      ]
    },
    {
      "cell_type": "code",
      "metadata": {
        "id": "wFtOV6tZFD2y"
      },
      "source": [
        "y_pred = rf_tuned.predict(X_test)"
      ],
      "execution_count": null,
      "outputs": []
    },
    {
      "cell_type": "code",
      "metadata": {
        "colab": {
          "base_uri": "https://localhost:8080/"
        },
        "id": "ClTI3BjRer53",
        "outputId": "c2c5a417-da2a-4c69-db39-002ca7be97bd"
      },
      "source": [
        "rmspe = np.sqrt(np.mean(np.square(((y_test - y_pred) / y_test)), axis=0))*100\n",
        "rmspe"
      ],
      "execution_count": null,
      "outputs": [
        {
          "output_type": "execute_result",
          "data": {
            "text/plain": [
              "66.76201718695907"
            ]
          },
          "metadata": {
            "tags": []
          },
          "execution_count": 110
        }
      ]
    },
    {
      "cell_type": "code",
      "metadata": {
        "colab": {
          "base_uri": "https://localhost:8080/"
        },
        "id": "78ocDk39FD2z",
        "outputId": "008f3c0f-3408-4a87-ad0d-89fb9e7e4953"
      },
      "source": [
        "mape = np.mean(np.abs((y_test - y_pred)/y_test))*100\n",
        "mape"
      ],
      "execution_count": null,
      "outputs": [
        {
          "output_type": "execute_result",
          "data": {
            "text/plain": [
              "26.925842407629442"
            ]
          },
          "metadata": {
            "tags": []
          },
          "execution_count": 111
        }
      ]
    },
    {
      "cell_type": "code",
      "metadata": {
        "colab": {
          "base_uri": "https://localhost:8080/"
        },
        "id": "FvUtetsyJeQy",
        "outputId": "df6582fc-99fe-4ec5-8f71-c75369a2a11a"
      },
      "source": [
        "my_rho = np.corrcoef(y_test, y_pred)\n",
        "my_rho"
      ],
      "execution_count": null,
      "outputs": [
        {
          "output_type": "execute_result",
          "data": {
            "text/plain": [
              "array([[1.        , 0.93427392],\n",
              "       [0.93427392, 1.        ]])"
            ]
          },
          "metadata": {
            "tags": []
          },
          "execution_count": 112
        }
      ]
    },
    {
      "cell_type": "code",
      "metadata": {
        "id": "lHq2qCUhFD2z"
      },
      "source": [
        "Importance = pd.DataFrame({\"Önem Düzeyi\": rf_tuned.feature_importances_*100},\n",
        "                         index = X_train.columns)"
      ],
      "execution_count": null,
      "outputs": []
    },
    {
      "cell_type": "code",
      "metadata": {
        "colab": {
          "base_uri": "https://localhost:8080/",
          "height": 298
        },
        "id": "iSF78dwJFD20",
        "outputId": "1727a4c1-ff63-4805-ea05-cc5b5a2891cc"
      },
      "source": [
        "Importance.sort_values(by = \"Önem Düzeyi\", \n",
        "                       axis = 0, \n",
        "                       ascending = True).plot(kind =\"barh\", color = \"r\")\n",
        "\n",
        "plt.xlabel(\"Değişken Önem Düzeyleri\")"
      ],
      "execution_count": null,
      "outputs": [
        {
          "output_type": "execute_result",
          "data": {
            "text/plain": [
              "Text(0.5, 0, 'Değişken Önem Düzeyleri')"
            ]
          },
          "metadata": {
            "tags": []
          },
          "execution_count": 114
        },
        {
          "output_type": "display_data",
          "data": {
            "image/png": "[encoded data removed]",
            "text/plain": [
              "<Figure size 432x288 with 1 Axes>"
            ]
          },
          "metadata": {
            "tags": [],
            "needs_background": "light"
          }
        }
      ]
    },
    {
      "cell_type": "code",
      "metadata": {
        "id": "r4Uirwm8au30"
      },
      "source": [
        "Y_train_rf = scaler1.inverse_transform([y_train])\n",
        "\n",
        "Y_test_rf = scaler1.inverse_transform([y_test])\n",
        "\n",
        "Y_pred_rf = scaler1.inverse_transform([y_pred])"
      ],
      "execution_count": null,
      "outputs": []
    },
    {
      "cell_type": "code",
      "metadata": {
        "colab": {
          "base_uri": "https://localhost:8080/"
        },
        "id": "tniNgfBCvpuB",
        "outputId": "0509256c-9c37-458f-9f3f-139ec1d4033a"
      },
      "source": [
        "y_test"
      ],
      "execution_count": null,
      "outputs": [
        {
          "output_type": "execute_result",
          "data": {
            "text/plain": [
              "1011    5120.000\n",
              "341     2590.000\n",
              "74      1850.000\n",
              "500     7670.000\n",
              "96      5970.000\n",
              "          ...   \n",
              "59      2900.000\n",
              "959     5024.485\n",
              "719     1790.000\n",
              "619     5570.000\n",
              "536     7990.000\n",
              "Name: radiation, Length: 270, dtype: float64"
            ]
          },
          "metadata": {
            "tags": []
          },
          "execution_count": 122
        }
      ]
    },
    {
      "cell_type": "code",
      "metadata": {
        "id": "agxAKj7fufAU"
      },
      "source": [
        "Y_train_rf = scaler1.inverse_transform([y_train])"
      ],
      "execution_count": null,
      "outputs": []
    },
    {
      "cell_type": "code",
      "metadata": {
        "id": "HG0u8eTPuEpP"
      },
      "source": [
        "train_rf = pd.DataFrame(Y_train_rf)"
      ],
      "execution_count": null,
      "outputs": []
    },
    {
      "cell_type": "code",
      "metadata": {
        "id": "-ND-ZZxyxAI5"
      },
      "source": [
        "pred_rf = pd.DataFrame(Y_pred_rf)"
      ],
      "execution_count": null,
      "outputs": []
    },
    {
      "cell_type": "code",
      "metadata": {
        "id": "MWN0p6aEw4ql"
      },
      "source": [
        "pred_rf.to_excel(\"/content/drive/MyDrive/pred_rf.xlsx\")"
      ],
      "execution_count": null,
      "outputs": []
    },
    {
      "cell_type": "code",
      "metadata": {
        "id": "AhH8k36Xu886"
      },
      "source": [
        "train_rf.to_excel(\"/content/drive/MyDrive/train_rf.xlsx\")"
      ],
      "execution_count": null,
      "outputs": []
    },
    {
      "cell_type": "code",
      "metadata": {
        "colab": {
          "base_uri": "https://localhost:8080/",
          "height": 313
        },
        "id": "48cGF2a3cjfY",
        "outputId": "6a851203-4905-461d-857c-2ddca79e9282"
      },
      "source": [
        "plt.scatter(y_test,y_pred, color=\"b\")\n",
        "plt.xlabel(\"Gözlem Değerleri\")\n",
        "plt.ylabel(\"Model Değerleri\")\n",
        "plt.title(\"Random Forest\")\n",
        "plt.legend()\n",
        "plt.show()"
      ],
      "execution_count": null,
      "outputs": [
        {
          "output_type": "stream",
          "text": [
            "No handles with labels found to put in legend.\n"
          ],
          "name": "stderr"
        },
        {
          "output_type": "display_data",
          "data": {
            "image/png": "[encoded data removed]",
            "text/plain": [
              "<Figure size 432x288 with 1 Axes>"
            ]
          },
          "metadata": {
            "tags": [],
            "needs_background": "light"
          }
        }
      ]
    },
    {
      "cell_type": "code",
      "metadata": {
        "colab": {
          "base_uri": "https://localhost:8080/"
        },
        "id": "PlSSAWIlFD2v",
        "outputId": "d8329b85-c1c4-4fea-dec5-93a4196ac988"
      },
      "source": [
        "np.sqrt(mean_squared_error(y_test, y_pred))"
      ],
      "execution_count": null,
      "outputs": [
        {
          "output_type": "execute_result",
          "data": {
            "text/plain": [
              "0.9411754846240272"
            ]
          },
          "metadata": {
            "tags": []
          },
          "execution_count": 75
        }
      ]
    },
    {
      "cell_type": "code",
      "metadata": {
        "id": "OJsc5H0Zg9K5"
      },
      "source": [
        "\n",
        "train_rf = pd.DataFrame(Y_train_rf)\n",
        "pred_rf = pd.DataFrame(Y_pred_rf)\n",
        "train_rf_norm = pd.DataFrame(y_train)\n",
        "test_rf_norm = pd.DataFrame(y_test)"
      ],
      "execution_count": null,
      "outputs": []
    },
    {
      "cell_type": "code",
      "metadata": {
        "id": "E_iJRXLWkXyf"
      },
      "source": [
        "y_pred"
      ],
      "execution_count": null,
      "outputs": []
    },
    {
      "cell_type": "code",
      "metadata": {
        "id": "lKzuniwvg9Fj"
      },
      "source": [
        "train_rf.to_excel(\"/content/drive/MyDrive/train_fr.xlsx\")\n",
        "pred_rf.to_excel(\"/content/drive/MyDrive/pred_fr.xlsx\")\n",
        "train_rf_norm.to_excel(\"/content/drive/MyDrive/train_rf_norm.xlsx\")\n",
        "test_rf_norm.to_excel(\"/content/drive/MyDrive/test_rf_norm.xlsx\")"
      ],
      "execution_count": null,
      "outputs": []
    },
    {
      "cell_type": "code",
      "metadata": {
        "id": "sYvEQGeig86N"
      },
      "source": [
        ""
      ],
      "execution_count": null,
      "outputs": []
    },
    {
      "cell_type": "code",
      "metadata": {
        "id": "VDtqQqEr-4Bf"
      },
      "source": [
        ""
      ],
      "execution_count": null,
      "outputs": []
    },
    {
      "cell_type": "markdown",
      "metadata": {
        "id": "dIVCXT8YFD2w"
      },
      "source": [
        "## Tahmin"
      ]
    },
    {
      "cell_type": "code",
      "metadata": {
        "colab": {
          "base_uri": "https://localhost:8080/"
        },
        "id": "EDmBj7GLb0Pu",
        "outputId": "f9797e71-ca90-42f9-aff3-f9f0139ff074"
      },
      "source": [
        "len(y_train)\n"
      ],
      "execution_count": null,
      "outputs": [
        {
          "output_type": "execute_result",
          "data": {
            "text/plain": [
              "809"
            ]
          },
          "metadata": {
            "tags": []
          },
          "execution_count": 78
        }
      ]
    },
    {
      "cell_type": "code",
      "metadata": {
        "colab": {
          "base_uri": "https://localhost:8080/"
        },
        "id": "fpwjWi7eb1lz",
        "outputId": "9e0629a6-8ab0-4da1-d9fc-7970268be33b"
      },
      "source": [
        "len(y_pred)"
      ],
      "execution_count": null,
      "outputs": [
        {
          "output_type": "execute_result",
          "data": {
            "text/plain": [
              "270"
            ]
          },
          "metadata": {
            "tags": []
          },
          "execution_count": 79
        }
      ]
    },
    {
      "cell_type": "code",
      "metadata": {
        "colab": {
          "base_uri": "https://localhost:8080/"
        },
        "id": "DMLii-xEbrBj",
        "outputId": "726f3078-9a0a-40e0-bd9a-3ef02131d447"
      },
      "source": [
        "len(y_test)\n"
      ],
      "execution_count": null,
      "outputs": [
        {
          "output_type": "execute_result",
          "data": {
            "text/plain": [
              "270"
            ]
          },
          "metadata": {
            "tags": []
          },
          "execution_count": 77
        }
      ]
    },
    {
      "cell_type": "code",
      "metadata": {
        "colab": {
          "base_uri": "https://localhost:8080/"
        },
        "id": "rvlvjwWpFD2w",
        "outputId": "c0c8f6fd-8330-4a24-e507-16a2df326a25"
      },
      "source": [
        "rf_model.predict(X_test)[0:5]"
      ],
      "execution_count": null,
      "outputs": [
        {
          "output_type": "execute_result",
          "data": {
            "text/plain": [
              "array([5.20100154, 2.67344635, 2.61244264, 8.33215513, 5.96199817])"
            ]
          },
          "metadata": {
            "tags": []
          },
          "execution_count": 61
        }
      ]
    },
    {
      "cell_type": "code",
      "metadata": {
        "id": "SFBnqwTgb7Xn"
      },
      "source": [
        ""
      ],
      "execution_count": null,
      "outputs": []
    },
    {
      "cell_type": "code",
      "metadata": {
        "colab": {
          "base_uri": "https://localhost:8080/"
        },
        "id": "3x2RRNaJcBrm",
        "outputId": "99fa2006-1810-4941-a655-bce9defeb670"
      },
      "source": [
        "mape = np.mean(np.abs((y_test - y_pred)/y_test))*100\n",
        "mape"
      ],
      "execution_count": null,
      "outputs": [
        {
          "output_type": "execute_result",
          "data": {
            "text/plain": [
              "17.26190909244596"
            ]
          },
          "metadata": {
            "tags": []
          },
          "execution_count": 96
        }
      ]
    },
    {
      "cell_type": "code",
      "metadata": {
        "colab": {
          "base_uri": "https://localhost:8080/"
        },
        "id": "t9bBg8fJbfMu",
        "outputId": "e3fc2d4d-385b-421f-ce09-e295b99341be"
      },
      "source": [
        "rmspe = np.sqrt(np.mean(np.square(((y_test - y_pred) / y_test)), axis=0))*100\n",
        "rmspe"
      ],
      "execution_count": null,
      "outputs": [
        {
          "output_type": "execute_result",
          "data": {
            "text/plain": [
              "33.16878417848988"
            ]
          },
          "metadata": {
            "tags": []
          },
          "execution_count": 97
        }
      ]
    },
    {
      "cell_type": "code",
      "metadata": {
        "id": "2K88bBGgFD2w"
      },
      "source": [
        "y_pred = rf_model.predict(X_test)"
      ],
      "execution_count": null,
      "outputs": []
    },
    {
      "cell_type": "code",
      "metadata": {
        "colab": {
          "base_uri": "https://localhost:8080/"
        },
        "id": "9o3tvSdCFD2x",
        "outputId": "465dffa1-1c83-4140-fbb2-71578a28f0d7"
      },
      "source": [
        "np.sqrt(mean_squared_error(y_test, y_pred))"
      ],
      "execution_count": null,
      "outputs": [
        {
          "output_type": "execute_result",
          "data": {
            "text/plain": [
              "0.8969943519979366"
            ]
          },
          "metadata": {
            "tags": []
          },
          "execution_count": 63
        }
      ]
    },
    {
      "cell_type": "markdown",
      "metadata": {
        "id": "kqTdKdpjFD2P"
      },
      "source": [
        "# SVR (Destek Vektör Regresyonu)"
      ]
    },
    {
      "cell_type": "code",
      "metadata": {
        "id": "IpVLNkBkLrGS"
      },
      "source": [
        "y = data[\"radiation\"]\n",
        "X = data.drop([\"radiation\",\"timestamp\"], axis=1)\n",
        "X_train, X_test, y_train, y_test = train_test_split(X, y, \n",
        "                                                    test_size=0.25, \n",
        "                                                    random_state=200)"
      ],
      "execution_count": null,
      "outputs": []
    },
    {
      "cell_type": "code",
      "metadata": {
        "id": "u5ubjkrFFD2Q"
      },
      "source": [
        "from sklearn.svm import SVR"
      ],
      "execution_count": null,
      "outputs": []
    },
    {
      "cell_type": "code",
      "metadata": {
        "id": "9-kGOfEaFD2Q"
      },
      "source": [
        "svr_model = SVR(\"linear\").fit(X_train, y_train)"
      ],
      "execution_count": null,
      "outputs": []
    },
    {
      "cell_type": "code",
      "metadata": {
        "colab": {
          "base_uri": "https://localhost:8080/"
        },
        "id": "UF1IME3FFD2Q",
        "outputId": "ce526f81-da5e-4203-bbc0-9e358a951892"
      },
      "source": [
        "svr_model.predict(X_train)[0:5]"
      ],
      "execution_count": null,
      "outputs": [
        {
          "output_type": "execute_result",
          "data": {
            "text/plain": [
              "array([508.40899977, 105.36307426, 711.69526202, 588.34082349,\n",
              "       130.90943918])"
            ]
          },
          "metadata": {
            "tags": []
          },
          "execution_count": 87
        }
      ]
    },
    {
      "cell_type": "code",
      "metadata": {
        "colab": {
          "base_uri": "https://localhost:8080/"
        },
        "id": "ALnlOBqnFD2Q",
        "outputId": "1c901b51-ffbe-4afe-ea56-18ea265462b7"
      },
      "source": [
        "print (\"y = {0} + {1} x\".format(svr_model.intercept_[0], \n",
        "                                svr_model.coef_[0][0])) "
      ],
      "execution_count": null,
      "outputs": [
        {
          "output_type": "stream",
          "text": [
            "y = -173.37313969336387 + 287.7776360650305 x\n"
          ],
          "name": "stdout"
        }
      ]
    },
    {
      "cell_type": "code",
      "metadata": {
        "colab": {
          "base_uri": "https://localhost:8080/"
        },
        "id": "oEuQ0mIYFD2R",
        "outputId": "4b86ac3c-d29c-449c-a68d-e74e88b3b352"
      },
      "source": [
        "y_pred"
      ],
      "execution_count": null,
      "outputs": [
        {
          "output_type": "execute_result",
          "data": {
            "text/plain": [
              "array([519.67866667,  69.5625    , 679.        , ..., 199.92466667,\n",
              "       511.        , 532.393     ])"
            ]
          },
          "metadata": {
            "tags": []
          },
          "execution_count": 89
        }
      ]
    },
    {
      "cell_type": "code",
      "metadata": {
        "id": "s4-WlPRYFD2R"
      },
      "source": [
        "y_pred = svr_model.predict(X_train)"
      ],
      "execution_count": null,
      "outputs": []
    },
    {
      "cell_type": "markdown",
      "metadata": {
        "id": "M0b0uNt7FD2S"
      },
      "source": [
        "## Tahmin"
      ]
    },
    {
      "cell_type": "code",
      "metadata": {
        "colab": {
          "base_uri": "https://localhost:8080/"
        },
        "id": "QLj1HHqUFD2S",
        "outputId": "585257aa-207e-40da-96d2-22424261b0e6"
      },
      "source": [
        "print (\"y = {0} + {1} x\".format(svr_model.intercept_[0], svr_model.coef_[0][0])) "
      ],
      "execution_count": null,
      "outputs": [
        {
          "output_type": "stream",
          "text": [
            "y = -173.37313969336387 + 287.7776360650305 x\n"
          ],
          "name": "stdout"
        }
      ]
    },
    {
      "cell_type": "code",
      "metadata": {
        "id": "OvBp03bYFD2T"
      },
      "source": [
        "y_pred = svr_model.predict(X_test)"
      ],
      "execution_count": null,
      "outputs": []
    },
    {
      "cell_type": "code",
      "metadata": {
        "colab": {
          "base_uri": "https://localhost:8080/"
        },
        "id": "givEUi6JFD2T",
        "outputId": "96980519-96bc-452c-a3f7-c6796f16fb11"
      },
      "source": [
        "np.sqrt(mean_squared_error(y_test, y_pred))"
      ],
      "execution_count": null,
      "outputs": [
        {
          "output_type": "execute_result",
          "data": {
            "text/plain": [
              "225.60480601189826"
            ]
          },
          "metadata": {
            "tags": []
          },
          "execution_count": 93
        }
      ]
    },
    {
      "cell_type": "code",
      "metadata": {
        "colab": {
          "base_uri": "https://localhost:8080/"
        },
        "id": "YNy7dvQpFD2T",
        "outputId": "5df56145-6b66-48f3-b52f-8d91b28129d3"
      },
      "source": [
        "svr_model"
      ],
      "execution_count": null,
      "outputs": [
        {
          "output_type": "execute_result",
          "data": {
            "text/plain": [
              "SVR(C=1.0, cache_size=200, coef0=0.0, degree=3, epsilon=0.1, gamma='scale',\n",
              "    kernel='linear', max_iter=-1, shrinking=True, tol=0.001, verbose=False)"
            ]
          },
          "metadata": {
            "tags": []
          },
          "execution_count": 94
        }
      ]
    },
    {
      "cell_type": "markdown",
      "metadata": {
        "id": "tZzelZtoFD2T"
      },
      "source": [
        "## Model Tuning"
      ]
    },
    {
      "cell_type": "code",
      "metadata": {
        "colab": {
          "base_uri": "https://localhost:8080/"
        },
        "id": "cZnqcgb3FD2U",
        "outputId": "4cebf624-2f03-47af-8096-814e540ea2b3"
      },
      "source": [
        "svr_model"
      ],
      "execution_count": null,
      "outputs": [
        {
          "output_type": "execute_result",
          "data": {
            "text/plain": [
              "SVR(C=1.0, cache_size=200, coef0=0.0, degree=3, epsilon=0.1, gamma='scale',\n",
              "    kernel='linear', max_iter=-1, shrinking=True, tol=0.001, verbose=False)"
            ]
          },
          "metadata": {
            "tags": []
          },
          "execution_count": 95
        }
      ]
    },
    {
      "cell_type": "code",
      "metadata": {
        "id": "tWDwvvmmFD2U"
      },
      "source": [
        "svr_params = {\"C\": np.arange(0.1,2,0.1)}\n",
        "svr_cv_model = GridSearchCV(svr_model, svr_params, cv = 10).fit(X_train,y_train)"
      ],
      "execution_count": null,
      "outputs": []
    },
    {
      "cell_type": "code",
      "metadata": {
        "colab": {
          "base_uri": "https://localhost:8080/"
        },
        "id": "pW7V60xdFD2U",
        "outputId": "d423c0f5-37a6-4650-8387-55c8f62a5efc"
      },
      "source": [
        "pd.Series(svr_cv_model.best_params_)[0]"
      ],
      "execution_count": null,
      "outputs": [
        {
          "output_type": "execute_result",
          "data": {
            "text/plain": [
              "1.9000000000000001"
            ]
          },
          "metadata": {
            "tags": []
          },
          "execution_count": 97
        }
      ]
    },
    {
      "cell_type": "code",
      "metadata": {
        "id": "D60Ce2JjFD2U"
      },
      "source": [
        "svr_tuned = SVR(\"linear\", \n",
        "                C = pd.Series(svr_cv_model.best_params_)[0]).fit(X_train, y_train)\n",
        "\n"
      ],
      "execution_count": null,
      "outputs": []
    },
    {
      "cell_type": "code",
      "metadata": {
        "id": "wuzyJ_iJFD2V"
      },
      "source": [
        "y_pred = svr_tuned.predict(X_test)"
      ],
      "execution_count": null,
      "outputs": []
    },
    {
      "cell_type": "code",
      "metadata": {
        "colab": {
          "base_uri": "https://localhost:8080/"
        },
        "id": "xkFHAcjrFD2V",
        "outputId": "ec452e79-d2fc-447d-be7d-e88b658e075d"
      },
      "source": [
        "np.sqrt(mean_squared_error(y_test, y_pred))"
      ],
      "execution_count": null,
      "outputs": [
        {
          "output_type": "execute_result",
          "data": {
            "text/plain": [
              "225.0120899454198"
            ]
          },
          "metadata": {
            "tags": []
          },
          "execution_count": 100
        }
      ]
    },
    {
      "cell_type": "code",
      "metadata": {
        "colab": {
          "base_uri": "https://localhost:8080/"
        },
        "id": "9tGCdUujFD2V",
        "outputId": "69a9c94c-397a-4eb1-ffe7-903ad8d6c097"
      },
      "source": [
        "np.sqrt(mean_squared_error(y_test, y_pred))"
      ],
      "execution_count": null,
      "outputs": [
        {
          "output_type": "execute_result",
          "data": {
            "text/plain": [
              "225.0120899454198"
            ]
          },
          "metadata": {
            "tags": []
          },
          "execution_count": 101
        }
      ]
    },
    {
      "cell_type": "markdown",
      "metadata": {
        "id": "e92O0wYuFD2V"
      },
      "source": [
        "# Doğrusal Olmayan SVR"
      ]
    },
    {
      "cell_type": "code",
      "metadata": {
        "id": "bhbs1V32FD2V"
      },
      "source": [
        "np.random.seed(3)\n",
        "\n",
        "x_sim = np.random.uniform(2, 10, 145)\n",
        "y_sim = np.sin(x_sim) + np.random.normal(0, 0.4, 145)\n",
        "\n",
        "x_outliers = np.arange(2.5, 5, 0.5)\n",
        "y_outliers = -5*np.ones(5)\n",
        "\n",
        "x_sim_idx = np.argsort(np.concatenate([x_sim, x_outliers]))\n",
        "x_sim = np.concatenate([x_sim, x_outliers])[x_sim_idx]\n",
        "y_sim = np.concatenate([y_sim, y_outliers])[x_sim_idx]"
      ],
      "execution_count": null,
      "outputs": []
    },
    {
      "cell_type": "code",
      "metadata": {
        "id": "PUZVmjwRFD2W"
      },
      "source": [
        "\n",
        "from sklearn.linear_model import LinearRegression\n",
        "ols = LinearRegression()\n",
        "ols.fit(np.sin(x_sim[:, np.newaxis]), y_sim)\n",
        "ols_pred = ols.predict(np.sin(x_sim[:, np.newaxis]))\n",
        "\n",
        "from sklearn.svm import SVR\n",
        "eps = 0.1\n",
        "svr = SVR('rbf', epsilon = eps)\n",
        "svr.fit(x_sim[:, np.newaxis], y_sim)\n",
        "svr_pred = svr.predict(x_sim[:, np.newaxis])"
      ],
      "execution_count": null,
      "outputs": []
    },
    {
      "cell_type": "code",
      "metadata": {
        "colab": {
          "base_uri": "https://localhost:8080/",
          "height": 280
        },
        "id": "M6uzRXCgFD2W",
        "outputId": "0345ce15-d49d-48da-ddeb-b15fd1996e41"
      },
      "source": [
        "plt.scatter(x_sim, y_sim, alpha=0.5, s=26)\n",
        "plt_ols, = plt.plot(x_sim, ols_pred, 'g')\n",
        "plt_svr, = plt.plot(x_sim, svr_pred, color='r')\n",
        "plt.xlabel(\"Bağımsız Değişken\")\n",
        "plt.ylabel(\"Bağımlı Değişken\")\n",
        "plt.ylim(-5.2, 2.2)\n",
        "plt.legend([plt_ols, plt_svr], ['EKK', 'SVR'], loc = 4);"
      ],
      "execution_count": null,
      "outputs": [
        {
          "output_type": "display_data",
          "data": {
            "image/png": "[encoded data removed]",
            "text/plain": [
              "<Figure size 432x288 with 1 Axes>"
            ]
          },
          "metadata": {
            "tags": []
          }
        }
      ]
    },
    {
      "cell_type": "code",
      "metadata": {
        "id": "rt4SCMbVFD2X"
      },
      "source": [
        "y = data[\"radiation\"]\n",
        "X = data.drop([\"radiation\",\"timestamp\"], axis=1)\n",
        "X_train, X_test, y_train, y_test = train_test_split(X, y, \n",
        "                                                    test_size=0.25, \n",
        "                                                    random_state=200)"
      ],
      "execution_count": null,
      "outputs": []
    },
    {
      "cell_type": "code",
      "metadata": {
        "id": "xY5VhF9TFD2X"
      },
      "source": [
        "svr_rbf = SVR(\"rbf\").fit(X_train, y_train)"
      ],
      "execution_count": null,
      "outputs": []
    },
    {
      "cell_type": "markdown",
      "metadata": {
        "id": "C3U22GjxFD2X"
      },
      "source": [
        "## Tahmin"
      ]
    },
    {
      "cell_type": "code",
      "metadata": {
        "id": "8G2ThZJYFD2Y"
      },
      "source": [
        "y_pred = svr_rbf.predict(X_test)"
      ],
      "execution_count": null,
      "outputs": []
    },
    {
      "cell_type": "code",
      "metadata": {
        "colab": {
          "base_uri": "https://localhost:8080/"
        },
        "id": "ZTXUSbEYFD2Y",
        "outputId": "d0e1934f-5598-438a-c476-f34eda270ef3"
      },
      "source": [
        "np.sqrt(mean_squared_error(y_test, y_pred))"
      ],
      "execution_count": null,
      "outputs": [
        {
          "output_type": "execute_result",
          "data": {
            "text/plain": [
              "272.24361803155864"
            ]
          },
          "metadata": {
            "tags": []
          },
          "execution_count": 111
        }
      ]
    },
    {
      "cell_type": "markdown",
      "metadata": {
        "id": "oaGfdWj8FD2Y"
      },
      "source": [
        "## Model Tuning"
      ]
    },
    {
      "cell_type": "code",
      "metadata": {
        "colab": {
          "base_uri": "https://localhost:8080/"
        },
        "id": "aDMb1aKiFD2Z",
        "outputId": "01a23b6f-a321-4001-d4a0-371d273a93ca"
      },
      "source": [
        "svr_rbf"
      ],
      "execution_count": null,
      "outputs": [
        {
          "output_type": "execute_result",
          "data": {
            "text/plain": [
              "SVR(C=1.0, cache_size=200, coef0=0.0, degree=3, epsilon=0.1, gamma='scale',\n",
              "    kernel='rbf', max_iter=-1, shrinking=True, tol=0.001, verbose=False)"
            ]
          },
          "metadata": {
            "tags": []
          },
          "execution_count": 112
        }
      ]
    },
    {
      "cell_type": "code",
      "metadata": {
        "colab": {
          "base_uri": "https://localhost:8080/"
        },
        "id": "uWTYUptZFD2Z",
        "outputId": "c31be0e6-b75f-45ed-8f56-df29c1f650fe"
      },
      "source": [
        "svr_params = {\"C\": [0.01, 0.1,0.4,5,10,20,30,40,50]}\n",
        "svr_cv_model = GridSearchCV(svr_rbf,svr_params, cv = 10)\n",
        "svr_cv_model.fit(X_train, y_train)"
      ],
      "execution_count": null,
      "outputs": [
        {
          "output_type": "execute_result",
          "data": {
            "text/plain": [
              "GridSearchCV(cv=10, error_score=nan,\n",
              "             estimator=SVR(C=1.0, cache_size=200, coef0=0.0, degree=3,\n",
              "                           epsilon=0.1, gamma='scale', kernel='rbf',\n",
              "                           max_iter=-1, shrinking=True, tol=0.001,\n",
              "                           verbose=False),\n",
              "             iid='deprecated', n_jobs=None,\n",
              "             param_grid={'C': [0.01, 0.1, 0.4, 5, 10, 20, 30, 40, 50]},\n",
              "             pre_dispatch='2*n_jobs', refit=True, return_train_score=False,\n",
              "             scoring=None, verbose=0)"
            ]
          },
          "metadata": {
            "tags": []
          },
          "execution_count": 113
        }
      ]
    },
    {
      "cell_type": "code",
      "metadata": {
        "colab": {
          "base_uri": "https://localhost:8080/"
        },
        "id": "-GVSn264FD2Z",
        "outputId": "545767f7-0380-4a7e-89e9-136e384a13bb"
      },
      "source": [
        "pd.Series(svr_cv_model.best_params_)[0]"
      ],
      "execution_count": null,
      "outputs": [
        {
          "output_type": "execute_result",
          "data": {
            "text/plain": [
              "50"
            ]
          },
          "metadata": {
            "tags": []
          },
          "execution_count": 114
        }
      ]
    },
    {
      "cell_type": "code",
      "metadata": {
        "id": "bnNT8XL_FD2Z"
      },
      "source": [
        "svr_tuned = SVR(\"rbf\", C = pd.Series(svr_cv_model.best_params_)[0]).fit(X_train, \n",
        "                                                                        y_train)\n"
      ],
      "execution_count": null,
      "outputs": []
    },
    {
      "cell_type": "code",
      "metadata": {
        "colab": {
          "base_uri": "https://localhost:8080/"
        },
        "id": "uAJ9UIm-FD2Z",
        "outputId": "d5702f38-b851-4009-94d6-0fc5aaa1ca4b"
      },
      "source": [
        "y_pred = svr_tuned.predict(X_test)\n",
        "\n",
        "np.sqrt(mean_squared_error(y_test, y_pred))"
      ],
      "execution_count": null,
      "outputs": [
        {
          "output_type": "execute_result",
          "data": {
            "text/plain": [
              "241.45693033351304"
            ]
          },
          "metadata": {
            "tags": []
          },
          "execution_count": 116
        }
      ]
    },
    {
      "cell_type": "markdown",
      "metadata": {
        "id": "cWu3HBKqFD2q"
      },
      "source": [
        "# Bagged Trees Regresyon"
      ]
    },
    {
      "cell_type": "code",
      "metadata": {
        "id": "X25gzSTNFD2r"
      },
      "source": [
        "y = data[\"radiation\"]\n",
        "X = data.drop([\"radiation\",\"timestamp\"], axis=1)\n",
        "X_train, X_test, y_train, y_test = train_test_split(X, y, \n",
        "                                                    test_size=0.25, \n",
        "                                                    random_state=200)\n"
      ],
      "execution_count": null,
      "outputs": []
    },
    {
      "cell_type": "code",
      "metadata": {
        "colab": {
          "base_uri": "https://localhost:8080/"
        },
        "id": "3eBG0SRbFD2r",
        "outputId": "6ce31ff1-8e36-4172-995f-b187af69111c"
      },
      "source": [
        "bag_model = BaggingRegressor(bootstrap_features = True)\n",
        "bag_model.fit(X_train, y_train)"
      ],
      "execution_count": null,
      "outputs": [
        {
          "output_type": "execute_result",
          "data": {
            "text/plain": [
              "BaggingRegressor(base_estimator=None, bootstrap=True, bootstrap_features=True,\n",
              "                 max_features=1.0, max_samples=1.0, n_estimators=10,\n",
              "                 n_jobs=None, oob_score=False, random_state=None, verbose=0,\n",
              "                 warm_start=False)"
            ]
          },
          "metadata": {
            "tags": []
          },
          "execution_count": 19
        }
      ]
    },
    {
      "cell_type": "code",
      "metadata": {
        "colab": {
          "base_uri": "https://localhost:8080/"
        },
        "id": "YeOQ5nBuFD2r",
        "outputId": "22767e26-37f4-4ade-82ae-06a7a9eb88f1"
      },
      "source": [
        "bag_model.n_estimators"
      ],
      "execution_count": null,
      "outputs": [
        {
          "output_type": "execute_result",
          "data": {
            "text/plain": [
              "10"
            ]
          },
          "metadata": {
            "tags": []
          },
          "execution_count": 20
        }
      ]
    },
    {
      "cell_type": "code",
      "metadata": {
        "colab": {
          "base_uri": "https://localhost:8080/"
        },
        "id": "zf-yENCqFD2r",
        "outputId": "af6b3247-c3a7-4223-976f-71e126134b2c"
      },
      "source": [
        "bag_model.estimators_"
      ],
      "execution_count": null,
      "outputs": [
        {
          "output_type": "execute_result",
          "data": {
            "text/plain": [
              "[DecisionTreeRegressor(ccp_alpha=0.0, criterion='mse', max_depth=None,\n",
              "                       max_features=None, max_leaf_nodes=None,\n",
              "                       min_impurity_decrease=0.0, min_impurity_split=None,\n",
              "                       min_samples_leaf=1, min_samples_split=2,\n",
              "                       min_weight_fraction_leaf=0.0, presort='deprecated',\n",
              "                       random_state=1110520726, splitter='best'),\n",
              " DecisionTreeRegressor(ccp_alpha=0.0, criterion='mse', max_depth=None,\n",
              "                       max_features=None, max_leaf_nodes=None,\n",
              "                       min_impurity_decrease=0.0, min_impurity_split=None,\n",
              "                       min_samples_leaf=1, min_samples_split=2,\n",
              "                       min_weight_fraction_leaf=0.0, presort='deprecated',\n",
              "                       random_state=2015372460, splitter='best'),\n",
              " DecisionTreeRegressor(ccp_alpha=0.0, criterion='mse', max_depth=None,\n",
              "                       max_features=None, max_leaf_nodes=None,\n",
              "                       min_impurity_decrease=0.0, min_impurity_split=None,\n",
              "                       min_samples_leaf=1, min_samples_split=2,\n",
              "                       min_weight_fraction_leaf=0.0, presort='deprecated',\n",
              "                       random_state=867610934, splitter='best'),\n",
              " DecisionTreeRegressor(ccp_alpha=0.0, criterion='mse', max_depth=None,\n",
              "                       max_features=None, max_leaf_nodes=None,\n",
              "                       min_impurity_decrease=0.0, min_impurity_split=None,\n",
              "                       min_samples_leaf=1, min_samples_split=2,\n",
              "                       min_weight_fraction_leaf=0.0, presort='deprecated',\n",
              "                       random_state=273443607, splitter='best'),\n",
              " DecisionTreeRegressor(ccp_alpha=0.0, criterion='mse', max_depth=None,\n",
              "                       max_features=None, max_leaf_nodes=None,\n",
              "                       min_impurity_decrease=0.0, min_impurity_split=None,\n",
              "                       min_samples_leaf=1, min_samples_split=2,\n",
              "                       min_weight_fraction_leaf=0.0, presort='deprecated',\n",
              "                       random_state=1498700843, splitter='best'),\n",
              " DecisionTreeRegressor(ccp_alpha=0.0, criterion='mse', max_depth=None,\n",
              "                       max_features=None, max_leaf_nodes=None,\n",
              "                       min_impurity_decrease=0.0, min_impurity_split=None,\n",
              "                       min_samples_leaf=1, min_samples_split=2,\n",
              "                       min_weight_fraction_leaf=0.0, presort='deprecated',\n",
              "                       random_state=366390283, splitter='best'),\n",
              " DecisionTreeRegressor(ccp_alpha=0.0, criterion='mse', max_depth=None,\n",
              "                       max_features=None, max_leaf_nodes=None,\n",
              "                       min_impurity_decrease=0.0, min_impurity_split=None,\n",
              "                       min_samples_leaf=1, min_samples_split=2,\n",
              "                       min_weight_fraction_leaf=0.0, presort='deprecated',\n",
              "                       random_state=2019988470, splitter='best'),\n",
              " DecisionTreeRegressor(ccp_alpha=0.0, criterion='mse', max_depth=None,\n",
              "                       max_features=None, max_leaf_nodes=None,\n",
              "                       min_impurity_decrease=0.0, min_impurity_split=None,\n",
              "                       min_samples_leaf=1, min_samples_split=2,\n",
              "                       min_weight_fraction_leaf=0.0, presort='deprecated',\n",
              "                       random_state=1236891020, splitter='best'),\n",
              " DecisionTreeRegressor(ccp_alpha=0.0, criterion='mse', max_depth=None,\n",
              "                       max_features=None, max_leaf_nodes=None,\n",
              "                       min_impurity_decrease=0.0, min_impurity_split=None,\n",
              "                       min_samples_leaf=1, min_samples_split=2,\n",
              "                       min_weight_fraction_leaf=0.0, presort='deprecated',\n",
              "                       random_state=37656824, splitter='best'),\n",
              " DecisionTreeRegressor(ccp_alpha=0.0, criterion='mse', max_depth=None,\n",
              "                       max_features=None, max_leaf_nodes=None,\n",
              "                       min_impurity_decrease=0.0, min_impurity_split=None,\n",
              "                       min_samples_leaf=1, min_samples_split=2,\n",
              "                       min_weight_fraction_leaf=0.0, presort='deprecated',\n",
              "                       random_state=1474356677, splitter='best')]"
            ]
          },
          "metadata": {
            "tags": []
          },
          "execution_count": 21
        }
      ]
    },
    {
      "cell_type": "code",
      "metadata": {
        "colab": {
          "base_uri": "https://localhost:8080/"
        },
        "id": "_P2BlqAHFD2s",
        "outputId": "56f9784c-be7c-4955-a38a-9bfb94b39c78"
      },
      "source": [
        "bag_model.estimators_samples_"
      ],
      "execution_count": null,
      "outputs": [
        {
          "output_type": "execute_result",
          "data": {
            "text/plain": [
              "[array([2158, 7803, 8041, ..., 1487, 4909, 5458]),\n",
              " array([4266, 4744, 6170, ..., 4874, 4142, 3102]),\n",
              " array([4568, 3727, 8276, ...,  395, 1546, 2347]),\n",
              " array([7937, 1179, 3812, ...,  791, 1904, 8051]),\n",
              " array([1775, 6840, 7241, ..., 6102, 7620, 1402]),\n",
              " array([7596, 7678, 7680, ..., 6451, 1898, 1218]),\n",
              " array([2431,  865, 4748, ..., 8008, 4577, 1011]),\n",
              " array([8045, 3796, 2211, ..., 2190, 4728,  972]),\n",
              " array([3452, 5489,  719, ..., 1145, 3156, 4245]),\n",
              " array([1549, 2782, 2565, ..., 7677, 1682, 3575])]"
            ]
          },
          "metadata": {
            "tags": []
          },
          "execution_count": 22
        }
      ]
    },
    {
      "cell_type": "code",
      "metadata": {
        "colab": {
          "base_uri": "https://localhost:8080/"
        },
        "id": "pq6qODEuFD2s",
        "outputId": "36e03f0b-50ac-451d-e664-55b1ff4b8796"
      },
      "source": [
        "bag_model.estimators_features_"
      ],
      "execution_count": null,
      "outputs": [
        {
          "output_type": "execute_result",
          "data": {
            "text/plain": [
              "[array([0, 0, 6, 1, 6, 2, 6]),\n",
              " array([1, 6, 6, 4, 6, 4, 2]),\n",
              " array([5, 6, 3, 5, 0, 0, 4]),\n",
              " array([1, 5, 4, 2, 5, 6, 3]),\n",
              " array([4, 2, 2, 5, 0, 1, 1]),\n",
              " array([0, 2, 1, 2, 6, 1, 3]),\n",
              " array([5, 0, 0, 5, 1, 5, 1]),\n",
              " array([3, 1, 1, 0, 4, 6, 6]),\n",
              " array([6, 0, 0, 3, 0, 5, 4]),\n",
              " array([5, 1, 2, 1, 3, 4, 5])]"
            ]
          },
          "metadata": {
            "tags": []
          },
          "execution_count": 23
        }
      ]
    },
    {
      "cell_type": "code",
      "metadata": {
        "colab": {
          "base_uri": "https://localhost:8080/"
        },
        "id": "AE7EJV9ZFD2s",
        "outputId": "d4f99b2e-c9c5-4bbe-b8fe-ba1377668c92"
      },
      "source": [
        "bag_model.estimators_[1]"
      ],
      "execution_count": null,
      "outputs": [
        {
          "output_type": "execute_result",
          "data": {
            "text/plain": [
              "DecisionTreeRegressor(ccp_alpha=0.0, criterion='mse', max_depth=None,\n",
              "                      max_features=None, max_leaf_nodes=None,\n",
              "                      min_impurity_decrease=0.0, min_impurity_split=None,\n",
              "                      min_samples_leaf=1, min_samples_split=2,\n",
              "                      min_weight_fraction_leaf=0.0, presort='deprecated',\n",
              "                      random_state=2015372460, splitter='best')"
            ]
          },
          "metadata": {
            "tags": []
          },
          "execution_count": 24
        }
      ]
    },
    {
      "cell_type": "markdown",
      "metadata": {
        "id": "GLO6xgHlFD2s"
      },
      "source": [
        "## Tahmin"
      ]
    },
    {
      "cell_type": "code",
      "metadata": {
        "id": "M5tAPGi2FD2s"
      },
      "source": [
        "y_pred = bag_model.predict(X_test)"
      ],
      "execution_count": null,
      "outputs": []
    },
    {
      "cell_type": "code",
      "metadata": {
        "colab": {
          "base_uri": "https://localhost:8080/"
        },
        "id": "P4q9K05OFD2s",
        "outputId": "5f46eda1-afe9-4201-dfa8-a962c18c9f97"
      },
      "source": [
        "np.sqrt(mean_squared_error(y_test, y_pred))"
      ],
      "execution_count": null,
      "outputs": [
        {
          "output_type": "execute_result",
          "data": {
            "text/plain": [
              "218.4668007914614"
            ]
          },
          "metadata": {
            "tags": []
          },
          "execution_count": 26
        }
      ]
    },
    {
      "cell_type": "markdown",
      "metadata": {
        "id": "PBA9fbhAFD2t"
      },
      "source": [
        "# Model Tuning"
      ]
    },
    {
      "cell_type": "code",
      "metadata": {
        "colab": {
          "base_uri": "https://localhost:8080/"
        },
        "id": "7jnuc07UFD2u",
        "outputId": "7404c587-9905-4f95-abd4-059e423c4637"
      },
      "source": [
        "bag_model = BaggingRegressor(bootstrap_features = True)\n",
        "bag_model.fit(X_train, y_train)"
      ],
      "execution_count": null,
      "outputs": [
        {
          "output_type": "execute_result",
          "data": {
            "text/plain": [
              "BaggingRegressor(base_estimator=None, bootstrap=True, bootstrap_features=True,\n",
              "                 max_features=1.0, max_samples=1.0, n_estimators=10,\n",
              "                 n_jobs=None, oob_score=False, random_state=None, verbose=0,\n",
              "                 warm_start=False)"
            ]
          },
          "metadata": {
            "tags": []
          },
          "execution_count": 31
        }
      ]
    },
    {
      "cell_type": "code",
      "metadata": {
        "id": "C3XZhrrsFD2u"
      },
      "source": [
        "bag_params = {\"n_estimators\": range(2,20)}"
      ],
      "execution_count": null,
      "outputs": []
    },
    {
      "cell_type": "code",
      "metadata": {
        "id": "81b7yfrkFD2u"
      },
      "source": [
        "bag_cv_model = GridSearchCV(bag_model, bag_params, cv = 10)"
      ],
      "execution_count": null,
      "outputs": []
    },
    {
      "cell_type": "code",
      "metadata": {
        "colab": {
          "base_uri": "https://localhost:8080/"
        },
        "id": "a48D9UDvFD2u",
        "outputId": "ba04b912-41cd-47df-8824-b9e8a6c61c75"
      },
      "source": [
        "bag_cv_model.fit(X_train, y_train)"
      ],
      "execution_count": null,
      "outputs": [
        {
          "output_type": "execute_result",
          "data": {
            "text/plain": [
              "GridSearchCV(cv=10, error_score=nan,\n",
              "             estimator=BaggingRegressor(base_estimator=None, bootstrap=True,\n",
              "                                        bootstrap_features=True,\n",
              "                                        max_features=1.0, max_samples=1.0,\n",
              "                                        n_estimators=10, n_jobs=None,\n",
              "                                        oob_score=False, random_state=None,\n",
              "                                        verbose=0, warm_start=False),\n",
              "             iid='deprecated', n_jobs=None,\n",
              "             param_grid={'n_estimators': range(2, 20)}, pre_dispatch='2*n_jobs',\n",
              "             refit=True, return_train_score=False, scoring=None, verbose=0)"
            ]
          },
          "metadata": {
            "tags": []
          },
          "execution_count": 34
        }
      ]
    },
    {
      "cell_type": "code",
      "metadata": {
        "colab": {
          "base_uri": "https://localhost:8080/"
        },
        "id": "V9FHRHrGFD2u",
        "outputId": "61fd92f6-cb1a-4260-b87a-40b6fcdbdaac"
      },
      "source": [
        "bag_cv_model.best_params_"
      ],
      "execution_count": null,
      "outputs": [
        {
          "output_type": "execute_result",
          "data": {
            "text/plain": [
              "{'n_estimators': 19}"
            ]
          },
          "metadata": {
            "tags": []
          },
          "execution_count": 36
        }
      ]
    },
    {
      "cell_type": "code",
      "metadata": {
        "id": "bCj1E8yxFD2u"
      },
      "source": [
        "bag_tuned = BaggingRegressor( n_estimators = 14, random_state = 45)"
      ],
      "execution_count": null,
      "outputs": []
    },
    {
      "cell_type": "code",
      "metadata": {
        "colab": {
          "base_uri": "https://localhost:8080/"
        },
        "id": "1VlrtfH2FD2v",
        "outputId": "69aa86db-6428-43b8-b42e-ac583a9f3162"
      },
      "source": [
        "bag_tuned.fit(X_train, y_train)"
      ],
      "execution_count": null,
      "outputs": [
        {
          "output_type": "execute_result",
          "data": {
            "text/plain": [
              "BaggingRegressor(base_estimator=None, bootstrap=True, bootstrap_features=False,\n",
              "                 max_features=1.0, max_samples=1.0, n_estimators=14,\n",
              "                 n_jobs=None, oob_score=False, random_state=45, verbose=0,\n",
              "                 warm_start=False)"
            ]
          },
          "metadata": {
            "tags": []
          },
          "execution_count": 38
        }
      ]
    },
    {
      "cell_type": "code",
      "metadata": {
        "id": "DjXc_dMzFD2v"
      },
      "source": [
        "y_pred = bag_tuned.predict(X_test)"
      ],
      "execution_count": null,
      "outputs": []
    },
    {
      "cell_type": "markdown",
      "metadata": {
        "id": "6k5fQjx8FD20"
      },
      "source": [
        "# Gradient Boosting Machines"
      ]
    },
    {
      "cell_type": "code",
      "metadata": {
        "id": "w_A_ichbFD20"
      },
      "source": [
        "from sklearn.ensemble import GradientBoostingRegressor"
      ],
      "execution_count": null,
      "outputs": []
    },
    {
      "cell_type": "code",
      "metadata": {
        "colab": {
          "base_uri": "https://localhost:8080/"
        },
        "id": "AjIbcbHDFD21",
        "outputId": "e534327d-64fc-4c55-b0e6-25e7aff017d4"
      },
      "source": [
        "gbm_model = GradientBoostingRegressor()\n",
        "gbm_model.fit(X_train, y_train)"
      ],
      "execution_count": null,
      "outputs": [
        {
          "output_type": "execute_result",
          "data": {
            "text/plain": [
              "GradientBoostingRegressor(alpha=0.9, ccp_alpha=0.0, criterion='friedman_mse',\n",
              "                          init=None, learning_rate=0.1, loss='ls', max_depth=3,\n",
              "                          max_features=None, max_leaf_nodes=None,\n",
              "                          min_impurity_decrease=0.0, min_impurity_split=None,\n",
              "                          min_samples_leaf=1, min_samples_split=2,\n",
              "                          min_weight_fraction_leaf=0.0, n_estimators=100,\n",
              "                          n_iter_no_change=None, presort='deprecated',\n",
              "                          random_state=None, subsample=1.0, tol=0.0001,\n",
              "                          validation_fraction=0.1, verbose=0, warm_start=False)"
            ]
          },
          "metadata": {
            "tags": []
          },
          "execution_count": 60
        }
      ]
    },
    {
      "cell_type": "markdown",
      "metadata": {
        "id": "05zrVBeKFD21"
      },
      "source": [
        "## Tahmin"
      ]
    },
    {
      "cell_type": "code",
      "metadata": {
        "colab": {
          "base_uri": "https://localhost:8080/",
          "height": 180
        },
        "id": "L0LBOqXEFD21",
        "outputId": "a4de577b-c20c-4c9f-8cce-7c170ec79e76"
      },
      "source": [
        "y_pred = gbm_model.predict(X_test)\n",
        "np.sqrt(mean_squared_error(y_test, y_pred))/y_test*100"
      ],
      "execution_count": null,
      "outputs": [
        {
          "output_type": "error",
          "ename": "NameError",
          "evalue": "ignored",
          "traceback": [
            "\u001b[0;31m---------------------------------------------------------------------------\u001b[0m",
            "\u001b[0;31mNameError\u001b[0m                                 Traceback (most recent call last)",
            "\u001b[0;32m<ipython-input-17-169d5e566270>\u001b[0m in \u001b[0;36m<module>\u001b[0;34m()\u001b[0m\n\u001b[0;32m----> 1\u001b[0;31m \u001b[0my_pred\u001b[0m \u001b[0;34m=\u001b[0m \u001b[0mgbm_model\u001b[0m\u001b[0;34m.\u001b[0m\u001b[0mpredict\u001b[0m\u001b[0;34m(\u001b[0m\u001b[0mX_test\u001b[0m\u001b[0;34m)\u001b[0m\u001b[0;34m\u001b[0m\u001b[0;34m\u001b[0m\u001b[0m\n\u001b[0m\u001b[1;32m      2\u001b[0m \u001b[0mnp\u001b[0m\u001b[0;34m.\u001b[0m\u001b[0msqrt\u001b[0m\u001b[0;34m(\u001b[0m\u001b[0mmean_squared_error\u001b[0m\u001b[0;34m(\u001b[0m\u001b[0my_test\u001b[0m\u001b[0;34m,\u001b[0m \u001b[0my_pred\u001b[0m\u001b[0;34m)\u001b[0m\u001b[0;34m)\u001b[0m\u001b[0;34m/\u001b[0m\u001b[0my_test\u001b[0m\u001b[0;34m*\u001b[0m\u001b[0;36m100\u001b[0m\u001b[0;34m\u001b[0m\u001b[0;34m\u001b[0m\u001b[0m\n",
            "\u001b[0;31mNameError\u001b[0m: name 'gbm_model' is not defined"
          ]
        }
      ]
    },
    {
      "cell_type": "markdown",
      "metadata": {
        "id": "H3_AfOh-FD22"
      },
      "source": [
        "## Model Tuning"
      ]
    },
    {
      "cell_type": "code",
      "metadata": {
        "id": "HS2F5XTtFD22"
      },
      "source": [
        "gbm_params = {\n",
        "    'learning_rate': [0.001, 0.01, 0.1, 0.2],\n",
        "    'max_depth': [3, 5, 8,50,100],\n",
        "    'n_estimators': [200, 500, 1000, 2000],\n",
        "    'subsample': [1,0.5,0.75],\n",
        "}"
      ],
      "execution_count": null,
      "outputs": []
    },
    {
      "cell_type": "code",
      "metadata": {
        "colab": {
          "base_uri": "https://localhost:8080/",
          "height": 197
        },
        "id": "HPSQ41TbFD22",
        "outputId": "24198dea-648d-450d-f60c-e2c1bb9031f3"
      },
      "source": [
        "gbm = GradientBoostingRegressor()\n",
        "gbm_cv_model = GridSearchCV(gbm, gbm_params, cv = 10, n_jobs = -1, verbose = 2)\n",
        "gbm_cv_model.fit(X_train, y_train)"
      ],
      "execution_count": null,
      "outputs": [
        {
          "output_type": "error",
          "ename": "NameError",
          "evalue": "ignored",
          "traceback": [
            "\u001b[0;31m---------------------------------------------------------------------------\u001b[0m",
            "\u001b[0;31mNameError\u001b[0m                                 Traceback (most recent call last)",
            "\u001b[0;32m<ipython-input-4-a21c528eedc9>\u001b[0m in \u001b[0;36m<module>\u001b[0;34m()\u001b[0m\n\u001b[0;32m----> 1\u001b[0;31m \u001b[0mgbm\u001b[0m \u001b[0;34m=\u001b[0m \u001b[0mGradientBoostingRegressor\u001b[0m\u001b[0;34m(\u001b[0m\u001b[0;34m)\u001b[0m\u001b[0;34m\u001b[0m\u001b[0;34m\u001b[0m\u001b[0m\n\u001b[0m\u001b[1;32m      2\u001b[0m \u001b[0mgbm_cv_model\u001b[0m \u001b[0;34m=\u001b[0m \u001b[0mGridSearchCV\u001b[0m\u001b[0;34m(\u001b[0m\u001b[0mgbm\u001b[0m\u001b[0;34m,\u001b[0m \u001b[0mgbm_params\u001b[0m\u001b[0;34m,\u001b[0m \u001b[0mcv\u001b[0m \u001b[0;34m=\u001b[0m \u001b[0;36m10\u001b[0m\u001b[0;34m,\u001b[0m \u001b[0mn_jobs\u001b[0m \u001b[0;34m=\u001b[0m \u001b[0;34m-\u001b[0m\u001b[0;36m1\u001b[0m\u001b[0;34m,\u001b[0m \u001b[0mverbose\u001b[0m \u001b[0;34m=\u001b[0m \u001b[0;36m2\u001b[0m\u001b[0;34m)\u001b[0m\u001b[0;34m\u001b[0m\u001b[0;34m\u001b[0m\u001b[0m\n\u001b[1;32m      3\u001b[0m \u001b[0mgbm_cv_model\u001b[0m\u001b[0;34m.\u001b[0m\u001b[0mfit\u001b[0m\u001b[0;34m(\u001b[0m\u001b[0mX_train\u001b[0m\u001b[0;34m,\u001b[0m \u001b[0my_train\u001b[0m\u001b[0;34m)\u001b[0m\u001b[0;34m\u001b[0m\u001b[0;34m\u001b[0m\u001b[0m\n",
            "\u001b[0;31mNameError\u001b[0m: name 'GradientBoostingRegressor' is not defined"
          ]
        }
      ]
    },
    {
      "cell_type": "code",
      "metadata": {
        "colab": {
          "base_uri": "https://localhost:8080/",
          "height": 163
        },
        "id": "yAgouQOaFD23",
        "outputId": "1d206ca0-8d2e-4750-f118-a7f5d9c103db"
      },
      "source": [
        "gbm_cv_model.best_params_"
      ],
      "execution_count": null,
      "outputs": [
        {
          "output_type": "error",
          "ename": "NameError",
          "evalue": "ignored",
          "traceback": [
            "\u001b[0;31m---------------------------------------------------------------------------\u001b[0m",
            "\u001b[0;31mNameError\u001b[0m                                 Traceback (most recent call last)",
            "\u001b[0;32m<ipython-input-2-8e03b7d6fd1c>\u001b[0m in \u001b[0;36m<module>\u001b[0;34m()\u001b[0m\n\u001b[0;32m----> 1\u001b[0;31m \u001b[0mgbm_cv_model\u001b[0m\u001b[0;34m.\u001b[0m\u001b[0mbest_params_\u001b[0m\u001b[0;34m\u001b[0m\u001b[0;34m\u001b[0m\u001b[0m\n\u001b[0m",
            "\u001b[0;31mNameError\u001b[0m: name 'gbm_cv_model' is not defined"
          ]
        }
      ]
    },
    {
      "cell_type": "code",
      "metadata": {
        "id": "UX_ndYOYFD23"
      },
      "source": [
        "gbm_tuned = GradientBoostingRegressor(learning_rate = 0.1,  \n",
        "                                      max_depth = 5, \n",
        "                                      n_estimators = 200, \n",
        "                                      subsample = 0.5)\n",
        "\n",
        "gbm_tuned = gbm_tuned.fit(X_train,y_train)"
      ],
      "execution_count": null,
      "outputs": []
    },
    {
      "cell_type": "code",
      "metadata": {
        "id": "XN23SyVtFD23"
      },
      "source": [
        "y_pred = gbm_tuned.predict(X_test)\n",
        "np.sqrt(mean_squared_error(y_test, y_pred))"
      ],
      "execution_count": null,
      "outputs": []
    },
    {
      "cell_type": "code",
      "metadata": {
        "id": "ZlyM3G7MFD24"
      },
      "source": [
        "Importance = pd.DataFrame({\"Importance\": gbm_tuned.feature_importances_*100},\n",
        "                         index = X_train.columns)"
      ],
      "execution_count": null,
      "outputs": []
    },
    {
      "cell_type": "code",
      "metadata": {
        "id": "XPKf3kYGFD24"
      },
      "source": [
        "Importance.sort_values(by = \"Importance\", \n",
        "                       axis = 0, \n",
        "                       ascending = True).plot(kind =\"barh\", color = \"r\")\n",
        "\n",
        "plt.xlabel(\"Değişken Önem Düzeyleri\")"
      ],
      "execution_count": null,
      "outputs": []
    },
    {
      "cell_type": "code",
      "metadata": {
        "id": "4MQJ0wwRFD25"
      },
      "source": [
        "y = data[\"radiation\"]\n",
        "X = data.drop([\"radiation\",\"timestamp\"], axis=1)\n",
        "X_train, X_test, y_train, y_test = train_test_split(X, y, \n",
        "                                                    test_size=0.25, \n",
        "                                                    random_state=200)\n"
      ],
      "execution_count": null,
      "outputs": []
    },
    {
      "cell_type": "markdown",
      "metadata": {
        "id": "fPFJIF5xFD3B"
      },
      "source": [
        "# Light GBM"
      ]
    },
    {
      "cell_type": "code",
      "metadata": {
        "id": "E70xbMF7FD3C"
      },
      "source": [
        "y = data[\"radiation\"]\n",
        "X = data.drop([\"radiation\",\"timestamp\"], axis=1)\n",
        "X_train, X_test, y_train, y_test = train_test_split(X, y, \n",
        "                                                    test_size=0.25, \n",
        "                                                    random_state=200)\n"
      ],
      "execution_count": null,
      "outputs": []
    },
    {
      "cell_type": "code",
      "metadata": {
        "id": "io6H3Gg-FD3C"
      },
      "source": [
        "#!pip install lightgbm"
      ],
      "execution_count": null,
      "outputs": []
    },
    {
      "cell_type": "code",
      "metadata": {
        "id": "4rX0rr5aFD3C"
      },
      "source": [
        "from lightgbm import LGBMRegressor"
      ],
      "execution_count": null,
      "outputs": []
    },
    {
      "cell_type": "code",
      "metadata": {
        "id": "-dUq9Zw7FD3D"
      },
      "source": [
        "#conda install -c conda-forge lightgbm"
      ],
      "execution_count": null,
      "outputs": []
    },
    {
      "cell_type": "code",
      "metadata": {
        "id": "P2cVYKXEFD3D"
      },
      "source": [
        "from lightgbm import LGBMRegressor"
      ],
      "execution_count": null,
      "outputs": []
    },
    {
      "cell_type": "code",
      "metadata": {
        "id": "SWvMRgA7FD3D"
      },
      "source": [
        "lgbm = LGBMRegressor()\n",
        "lgbm_model = lgbm.fit(X_train, y_train)"
      ],
      "execution_count": null,
      "outputs": []
    },
    {
      "cell_type": "markdown",
      "metadata": {
        "id": "QfgwEEneFD3E"
      },
      "source": [
        "## Tahmin"
      ]
    },
    {
      "cell_type": "code",
      "metadata": {
        "id": "VMaaK7DSFD3E"
      },
      "source": [
        "y_pred = lgbm_model.predict(X_test, \n",
        "                            num_iteration = lgbm_model.best_iteration_)"
      ],
      "execution_count": null,
      "outputs": []
    },
    {
      "cell_type": "code",
      "metadata": {
        "id": "DY6LaoiSFD3E"
      },
      "source": [
        "np.sqrt(mean_squared_error(y_test, y_pred))"
      ],
      "execution_count": null,
      "outputs": []
    },
    {
      "cell_type": "markdown",
      "metadata": {
        "id": "ONixOe0aFD3F"
      },
      "source": [
        "## Model Tuning"
      ]
    },
    {
      "cell_type": "code",
      "metadata": {
        "id": "JgYfbbtqFD3F"
      },
      "source": [
        "lgbm_model"
      ],
      "execution_count": null,
      "outputs": []
    },
    {
      "cell_type": "code",
      "metadata": {
        "id": "l_6qPP66FD3G"
      },
      "source": [
        "lgbm_grid = {\n",
        "    'colsample_bytree': [0.4, 0.5,0.6,0.9,1],\n",
        "    'learning_rate': [0.01, 0.1, 0.5,1],\n",
        "    'n_estimators': [20, 40, 100, 200, 500,1000],\n",
        "    'max_depth': [1,2,3,4,5,6,7,8] }\n",
        "\n",
        "lgbm = LGBMRegressor()\n",
        "lgbm_cv_model = GridSearchCV(lgbm, lgbm_grid, cv=10, n_jobs = -1, verbose = 2)"
      ],
      "execution_count": null,
      "outputs": []
    },
    {
      "cell_type": "code",
      "metadata": {
        "id": "h5RC_DW0FD3G"
      },
      "source": [
        "lgbm_cv_model.fit(X_train, y_train)"
      ],
      "execution_count": null,
      "outputs": []
    },
    {
      "cell_type": "code",
      "metadata": {
        "id": "DxLbW5M0FD3G"
      },
      "source": [
        "lgbm_cv_model.best_params_"
      ],
      "execution_count": null,
      "outputs": []
    },
    {
      "cell_type": "code",
      "metadata": {
        "id": "7cA3foGDFD3H"
      },
      "source": [
        "lgbm_tuned = LGBMRegressor(learning_rate = 0.1, \n",
        "                           max_depth = 7, \n",
        "                           n_estimators = 40,\n",
        "                          colsample_bytree = 0.6)\n",
        "\n",
        "lgbm_tuned = lgbm_tuned.fit(X_train,y_train)"
      ],
      "execution_count": null,
      "outputs": []
    },
    {
      "cell_type": "code",
      "metadata": {
        "id": "i0jkCHgPFD3H"
      },
      "source": [
        "y_pred = lgbm_tuned.predict(X_test)"
      ],
      "execution_count": null,
      "outputs": []
    },
    {
      "cell_type": "code",
      "metadata": {
        "id": "d0bbWZCkFD3H"
      },
      "source": [
        "np.sqrt(mean_squared_error(y_test, y_pred))"
      ],
      "execution_count": null,
      "outputs": []
    },
    {
      "cell_type": "markdown",
      "metadata": {
        "id": "5i1PLgqbFD3H"
      },
      "source": [
        "# CatBoost"
      ]
    },
    {
      "cell_type": "code",
      "metadata": {
        "id": "Uc7RPaXvFD3I"
      },
      "source": [
        "y = data[\"radiation\"]\n",
        "X = data.drop([\"radiation\",\"timestamp\"], axis=1)\n",
        "X_train, X_test, y_train, y_test = train_test_split(X, y, \n",
        "                                                    test_size=0.25, \n",
        "                                                    random_state=200)"
      ],
      "execution_count": null,
      "outputs": []
    },
    {
      "cell_type": "code",
      "metadata": {
        "id": "hyakYthuFD3I"
      },
      "source": [
        "!pip install catboost"
      ],
      "execution_count": null,
      "outputs": []
    },
    {
      "cell_type": "code",
      "metadata": {
        "id": "yrP1pihrFD3I"
      },
      "source": [
        "from catboost import CatBoostRegressor"
      ],
      "execution_count": null,
      "outputs": []
    },
    {
      "cell_type": "code",
      "metadata": {
        "id": "9Ep-x4zmFD3J"
      },
      "source": [
        "catb = CatBoostRegressor()\n",
        "catb_model = catb.fit(X_train, y_train)"
      ],
      "execution_count": null,
      "outputs": []
    },
    {
      "cell_type": "markdown",
      "metadata": {
        "id": "6z6mIwi9FD3J"
      },
      "source": [
        "## Tahmin"
      ]
    },
    {
      "cell_type": "code",
      "metadata": {
        "id": "DgnuBRUtFD3K"
      },
      "source": [
        "y_pred = catb_model.predict(X_test)\n",
        "np.sqrt(mean_squared_error(y_test, y_pred))"
      ],
      "execution_count": null,
      "outputs": []
    },
    {
      "cell_type": "markdown",
      "metadata": {
        "id": "32AgrvlNFD3K"
      },
      "source": [
        "## Model Tuning"
      ]
    },
    {
      "cell_type": "code",
      "metadata": {
        "id": "Go9ktRH3FD3K"
      },
      "source": [
        "catb_grid = {\n",
        "    'iterations': [200,500,1000,2000],\n",
        "    'learning_rate': [0.01, 0.03, 0.05, 0.1],\n",
        "    'depth': [3,4,5,6,7,8] }"
      ],
      "execution_count": null,
      "outputs": []
    },
    {
      "cell_type": "code",
      "metadata": {
        "id": "lAHP8vdvFD3L"
      },
      "source": [
        "catb = CatBoostRegressor()\n",
        "catb_cv_model = GridSearchCV(catb, catb_grid, cv=5, n_jobs = -1, verbose = 2)"
      ],
      "execution_count": null,
      "outputs": []
    },
    {
      "cell_type": "code",
      "metadata": {
        "id": "F7ZLkJyOFD3L"
      },
      "source": [
        "catb_cv_model.fit(X_train, y_train)"
      ],
      "execution_count": null,
      "outputs": []
    },
    {
      "cell_type": "code",
      "metadata": {
        "id": "s7gRfYM9FD3L"
      },
      "source": [
        "catb_cv_model.best_params_"
      ],
      "execution_count": null,
      "outputs": []
    },
    {
      "cell_type": "code",
      "metadata": {
        "id": "MdbGRXqIFD3M"
      },
      "source": [
        "catb_tuned = CatBoostRegressor(iterations = 200, \n",
        "                               learning_rate = 0.01, \n",
        "                               depth = 8)\n",
        "\n",
        "catb_tuned = catb_tuned.fit(X_train,y_train)"
      ],
      "execution_count": null,
      "outputs": []
    },
    {
      "cell_type": "code",
      "metadata": {
        "id": "Ys9QAc_KFD3M"
      },
      "source": [
        "y_pred = catb_tuned.predict(X_test)\n",
        "np.sqrt(mean_squared_error(y_test, y_pred))"
      ],
      "execution_count": null,
      "outputs": []
    },
    {
      "cell_type": "code",
      "metadata": {
        "id": "HsLDbYveFD3N"
      },
      "source": [
        ""
      ],
      "execution_count": null,
      "outputs": []
    }
  ]
}